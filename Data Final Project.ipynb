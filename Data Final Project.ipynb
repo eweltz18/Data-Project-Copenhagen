{
 "cells": [
  {
   "cell_type": "code",
   "execution_count": 1,
   "metadata": {
    "collapsed": true
   },
   "outputs": [],
   "source": [
    "import pandas as pd\n",
    "import numpy as np\n",
    "import tensorflow as tf"
   ]
  },
  {
   "cell_type": "code",
   "execution_count": 2,
   "metadata": {
    "collapsed": true
   },
   "outputs": [],
   "source": [
    "home = pd.read_csv('home_completed.csv')\n",
    "away = pd.read_csv('away_completed.csv')"
   ]
  },
  {
   "cell_type": "code",
   "execution_count": 3,
   "metadata": {
    "collapsed": true
   },
   "outputs": [],
   "source": [
    "#put all data into one large data frame\n",
    "main = home.append(away, ignore_index=True).sort_values(['Checker']) # puts into date order\n",
    "#put columns into more organized order\n",
    "main = main[['Year','Month', 'Day' , 'Team', 'Spread', 'Line', '+/-', '3P', '3P%', '3PA', '3PAr', 'AST', 'BLK', 'DRB', 'Day',\n",
    "       'FG', 'FG%', 'FGA', 'FT', 'FT%', 'FTA', 'FTr', 'Home', 'Losses',\n",
    "        'ORB', 'PF', 'PTS', 'STL', 'Starters MP', 'TOV', 'TS%', 'Wins',\n",
    "        'eFG%',  'Checker']]\n",
    "#number of points a team won or lost by\n",
    "main['+/-'] = main['+/-']/5\n",
    "#puts the odds into floats\n",
    "main['Spread'] = main['Spread'].replace(' PK', '0').astype(float)\n",
    "#gets how many points a team went over or under the spread\n",
    "main['Cover'] = main['Spread'] + main['+/-']\n",
    "#true or false on whether a team covered the spread\n",
    "main['ATS'] = np.where(main['Cover'].isnull(), np.nan,\n",
    "          np.where(main['Cover'] > 0,   1, 0))\n",
    "teams = list(main['Team'])\n",
    "new_teams = []\n",
    "#adds the opponent to the df\n",
    "for i in range(0, len(teams), 2):\n",
    "    new_teams.append(teams[i+1])\n",
    "    new_teams.append(teams[i])\n",
    "main['Opponent'] = new_teams\n",
    "main = main.dropna()"
   ]
  },
  {
   "cell_type": "code",
   "execution_count": 4,
   "metadata": {
    "collapsed": true
   },
   "outputs": [],
   "source": [
    "def team_df(team):\n",
    "    t = main[main['Team']== team].reset_index()\n",
    "    del t['index']\n",
    "    t['Season'] = t['Checker'].apply(season) #define what season a game is played\n",
    "    t['Games Played'] = t['Wins'] + t['Losses'] #total games played\n",
    "    #create running averages for all stats up to a given game date\n",
    "    t_df = pd.DataFrame()\n",
    "    for year in years:\n",
    "        temp = t[t['Season']==year].reset_index()\n",
    "        temp['Avg Win/Loss'] = (temp['+/-'].cumsum() - temp['+/-'])/temp.index\n",
    "        temp['Avg 3P'] = (temp['3P'].cumsum() - temp['3P'])/temp.index\n",
    "        temp['Avg 3PA'] = (temp['3PA'].cumsum() - temp['3PA'])/temp.index\n",
    "        temp['Avg 3P%'] = (temp['Avg 3P']/temp['Avg 3PA'])\n",
    "        temp['Avg Starter MP'] = (temp['Starters MP'].cumsum() - temp['Starters MP'])/temp.index\n",
    "        temp['Avg AST'] = (temp['AST'].cumsum() - temp['AST'])/temp.index\n",
    "        temp['Avg BLK'] = (temp['BLK'].cumsum() - temp['BLK'])/temp.index\n",
    "        temp['Avg DRB'] = (temp['DRB'].cumsum() - temp['DRB'])/temp.index\n",
    "        temp['Avg ORB'] = (temp['ORB'].cumsum() - temp['ORB'])/temp.index\n",
    "        temp['Avg FG'] = (temp['FG'].cumsum() - temp['FG'])/temp.index\n",
    "        temp['Avg FGA'] = (temp['FGA'].cumsum() - temp['FGA'])/temp.index\n",
    "        temp['Avg FG%'] = (temp['Avg FG']/temp['Avg FGA'])\n",
    "        temp['Avg FT'] = (temp['FT'].cumsum() - temp['FT'])/temp.index\n",
    "        temp['Avg FTA'] = (temp['FTA'].cumsum() - temp['FTA'])/temp.index\n",
    "        temp['Avg 3PAr'] = (temp['Avg 3PA']/temp['Avg FGA'])\n",
    "        temp['Avg FTr'] = (temp['Avg FTA']/temp['Avg FGA'])\n",
    "        temp['Avg 3P%'] = (temp['Avg FT']/temp['Avg FTA'])/temp.index\n",
    "        temp['Avg PF'] = (temp['PF'].cumsum() - temp['PF'])/temp.index\n",
    "        temp['Avg PTS'] = (temp['PTS'].cumsum() - temp['PTS'])/temp.index\n",
    "        temp['Avg STL'] = (temp['STL'].cumsum() - temp['STL'])/temp.index\n",
    "        temp['Avg TOV'] = (temp['TOV'].cumsum() - temp['TOV'])/temp.index\n",
    "        temp['Avg TS%'] = temp['Avg PTS']/ (2*(temp['Avg FGA'] + .44 * temp['Avg FTA']))\n",
    "        temp['Avg eFG%'] = (temp['Avg FG'] + .5 * temp['Avg 3P'])/ temp['Avg FGA']\n",
    "        temp['Avg Starter MP'] = (temp['Starters MP'].cumsum() - temp['Starters MP'])/temp.index\n",
    "        temp['Winning Percentage'] = temp['Wins']/temp.index\n",
    "        t_df = t_df.append(temp)\n",
    "    return t_df"
   ]
  },
  {
   "cell_type": "code",
   "execution_count": 5,
   "metadata": {
    "collapsed": true
   },
   "outputs": [],
   "source": [
    "#put each row into a season\n",
    "def season(date):\n",
    "    date = date[:6]\n",
    "    if date < '200809':\n",
    "        return '2007'\n",
    "    elif date < '200909':\n",
    "        return '2008'\n",
    "    elif date < '201009':\n",
    "        return '2009'\n",
    "    elif date < '201109':\n",
    "        return '2010'\n",
    "    elif date < '201109':\n",
    "        return '2010'\n",
    "    elif date < '201209':\n",
    "        return '2011'\n",
    "    elif date < '201309':\n",
    "        return '2012'\n",
    "    elif date < '201409':\n",
    "        return '2013'\n",
    "    elif date < '201509':\n",
    "        return '2014'\n",
    "    elif date < '201609':\n",
    "        return '2015'\n",
    "    elif date < '201709':\n",
    "        return '2016'\n",
    "    elif date < '201809':\n",
    "        return '2017'\n",
    "    elif date < '201909':\n",
    "        return '2018'\n",
    "    "
   ]
  },
  {
   "cell_type": "code",
   "execution_count": 6,
   "metadata": {
    "collapsed": true
   },
   "outputs": [],
   "source": [
    "teams = set(teams)\n",
    "years = ['2007', '2008', '2009', '2010', '2011', '2012', '2013', '2014', '2015', '2016', '2017', '2018']\n",
    "all_team_data = {}\n",
    "for team in teams:\n",
    "    all_team_data[team] = team_df(team)"
   ]
  },
  {
   "cell_type": "code",
   "execution_count": 7,
   "metadata": {
    "collapsed": true
   },
   "outputs": [],
   "source": [
    "giant_df = pd.DataFrame()\n",
    "for df in all_team_data.values():\n",
    "    giant_df = giant_df.append(df)"
   ]
  },
  {
   "cell_type": "code",
   "execution_count": 8,
   "metadata": {
    "collapsed": true
   },
   "outputs": [],
   "source": [
    "for team in teams:\n",
    "    t = all_team_data[team]\n",
    "    opp = giant_df[giant_df['Opponent']==team]\n",
    "    opp = opp.rename(columns = {'Avg Win/Loss':'oppAvg Win/Loss', 'Avg 3P':'oppAvg 3P', 'Avg 3PA':'oppAvg 3PA' ,\n",
    "       'Avg 3P%':'oppAvg 3P%', 'Avg Starter MP':'oppAvg Starter MP', 'Avg AST':'oppAvg AST', 'Avg BLK':'oppAvg BLK', 'Avg DRB':'oppAvg DRB', 'Avg ORB':'oppAvg ORB',\n",
    "       'Avg FG':'oppAvg FG', 'Avg FGA':'oppAvg FGA', 'Avg FG%':'oppAvg FG%', 'Avg FT':'oppAvg FT', 'Avg FTA':'oppAvg FTA', 'Avg 3PAr':'oppAvg 3PAr',\n",
    "       'Avg FTr':'oppAvg FTr', 'Avg PF':'oppAvg PF', 'Avg PTS':'oppAvg PTS', 'Avg STL':'oppAvg STL', 'Avg TOV':'oppAvg TOV', 'Avg TS%':'oppAvg TS%',\n",
    "       'Avg eFG%':'oppAvg eFG%', 'Winning Percentage':'oppWinning Percentage'})\n",
    "    opp = opp[['Checker', 'oppAvg Win/Loss', 'oppAvg 3P', 'oppAvg 3PA',\n",
    "       'oppAvg 3P%', 'oppAvg Starter MP', 'oppAvg AST', 'oppAvg BLK',\n",
    "       'oppAvg DRB', 'oppAvg ORB', 'oppAvg FG', 'oppAvg FGA', 'oppAvg FG%',\n",
    "       'oppAvg FT', 'oppAvg FTA', 'oppAvg 3PAr', 'oppAvg FTr', 'oppAvg PF',\n",
    "       'oppAvg PTS', 'oppAvg STL', 'oppAvg TOV', 'oppAvg TS%', 'oppAvg eFG%',\n",
    "       'oppWinning Percentage']]\n",
    "    all_team_data[team] = pd.merge(t,opp)"
   ]
  },
  {
   "cell_type": "code",
   "execution_count": 9,
   "metadata": {
    "collapsed": true
   },
   "outputs": [],
   "source": [
    "phi = all_team_data['Philadelphia']"
   ]
  },
  {
   "cell_type": "code",
   "execution_count": 10,
   "metadata": {
    "collapsed": true
   },
   "outputs": [],
   "source": [
    "total_matrix = phi[['Cover', '+/-', 'Wins', 'Losses', 'Home', 'Avg Win/Loss', 'Avg 3P',\n",
    "       'Avg 3PA', 'Avg 3P%', 'Avg Starter MP', 'Avg AST', 'Avg BLK', 'Avg DRB',\n",
    "       'Avg ORB', 'Avg FG', 'Avg FGA', 'Avg FG%', 'Avg FT', 'Avg FTA',\n",
    "       'Avg 3PAr', 'Avg FTr', 'Avg PF', 'Avg PTS', 'Avg STL', 'Avg TOV',\n",
    "       'Avg TS%', 'Avg eFG%', 'Winning Percentage', 'oppAvg Win/Loss','oppAvg 3P',\n",
    "        'oppAvg 3PA', 'oppAvg 3P%', 'oppAvg Starter MP',\n",
    "        'oppAvg AST', 'oppAvg BLK', 'oppAvg DRB', 'oppAvg ORB', 'oppAvg FG',\n",
    "        'oppAvg FGA', 'oppAvg FG%', 'oppAvg FT', 'oppAvg FTA', 'oppAvg 3PAr',\n",
    "        'oppAvg FTr', 'oppAvg PF', 'oppAvg PTS', 'oppAvg STL', 'oppAvg TOV',\n",
    "        'oppAvg TS%', 'oppAvg eFG%', 'oppWinning Percentage']]\n",
    "total_matrix = total_matrix.dropna()\n"
   ]
  },
  {
   "cell_type": "code",
   "execution_count": 11,
   "metadata": {
    "collapsed": true
   },
   "outputs": [],
   "source": [
    "feature_matrix = total_matrix[['Wins', 'Losses', 'Home', 'Avg Win/Loss', 'Avg 3P',\n",
    "       'Avg 3PA', 'Avg 3P%', 'Avg Starter MP', 'Avg AST', 'Avg BLK', 'Avg DRB',\n",
    "       'Avg ORB', 'Avg FG', 'Avg FGA', 'Avg FG%', 'Avg FT', 'Avg FTA',\n",
    "       'Avg 3PAr', 'Avg FTr', 'Avg PF', 'Avg PTS', 'Avg STL', 'Avg TOV',\n",
    "       'Avg TS%', 'Avg eFG%', 'Winning Percentage']]\n",
    "results = total_matrix['Cover']\n"
   ]
  },
  {
   "cell_type": "code",
   "execution_count": 12,
   "metadata": {
    "collapsed": true
   },
   "outputs": [],
   "source": [
    "feature_matrix = total_matrix[['Avg 3P%', 'Avg Starter MP', 'Avg AST', 'Avg ORB', 'Avg FG%', 'Avg FT', 'Avg FTA',\n",
    "                               'Avg 3PAr', 'Avg FTr', 'Avg PF', 'Avg TOV',\n",
    "                               'Avg TS%', 'Avg eFG%', 'Winning Percentage', 'oppAvg Win/Loss','oppAvg 3P',\n",
    "                               'oppAvg 3PA', 'oppAvg 3P%', 'oppAvg Starter MP',\n",
    "                               'oppAvg AST', 'oppAvg BLK', 'oppAvg DRB', 'oppAvg ORB', 'oppAvg FG',\n",
    "                               'oppAvg FGA', 'oppAvg FG%', 'oppAvg FT', 'oppAvg FTA', 'oppAvg 3PAr',\n",
    "                               'oppAvg FTr', 'oppAvg PF', 'oppAvg PTS', 'oppAvg STL', 'oppAvg TOV',\n",
    "                               'oppAvg TS%', 'oppAvg eFG%', 'oppWinning Percentage']]"
   ]
  },
  {
   "cell_type": "code",
   "execution_count": 13,
   "metadata": {},
   "outputs": [],
   "source": [
    "from sklearn import linear_model\n",
    "from sklearn.metrics import make_scorer\n",
    "model = linear_model.LinearRegression()\n",
    "model.fit(feature_matrix.iloc[:700], results.iloc[:700])\n",
    "predictions = model.predict(feature_matrix[700:])"
   ]
  },
  {
   "cell_type": "code",
   "execution_count": 14,
   "metadata": {
    "collapsed": true
   },
   "outputs": [],
   "source": [
    "def accuracy_predictor(lst1, lst2):\n",
    "    lst = []\n",
    "    for i in range(len(lst1)):\n",
    "        x = (lst1[i]<0)\n",
    "        y = (lst2[i]<0)\n",
    "        if(lst1[i]==0 or lst2[i]==0):\n",
    "            pass\n",
    "        elif x == y:\n",
    "            lst.append(1)\n",
    "        else:\n",
    "            lst.append(0)\n",
    "    return lst"
   ]
  },
  {
   "cell_type": "code",
   "execution_count": 15,
   "metadata": {
    "collapsed": true
   },
   "outputs": [],
   "source": [
    "accuracy = accuracy_predictor(predictions, results.tolist()[600:])"
   ]
  },
  {
   "cell_type": "code",
   "execution_count": 16,
   "metadata": {},
   "outputs": [
    {
     "data": {
      "text/plain": [
       "0.5182186234817814"
      ]
     },
     "execution_count": 16,
     "metadata": {},
     "output_type": "execute_result"
    }
   ],
   "source": [
    "sum(accuracy)/len(accuracy)"
   ]
  },
  {
   "cell_type": "code",
   "execution_count": 17,
   "metadata": {},
   "outputs": [
    {
     "data": {
      "text/plain": [
       "Index(['index', 'Year', 'Month', 'Day', 'Team', 'Spread', 'Line', '+/-', '3P',\n",
       "       '3P%', '3PA', '3PAr', 'AST', 'BLK', 'DRB', 'Day', 'FG', 'FG%', 'FGA',\n",
       "       'FT', 'FT%', 'FTA', 'FTr', 'Home', 'Losses', 'ORB', 'PF', 'PTS', 'STL',\n",
       "       'Starters MP', 'TOV', 'TS%', 'Wins', 'eFG%', 'Checker', 'Cover', 'ATS',\n",
       "       'Opponent', 'Season', 'Games Played', 'Avg Win/Loss', 'Avg 3P',\n",
       "       'Avg 3PA', 'Avg 3P%', 'Avg Starter MP', 'Avg AST', 'Avg BLK', 'Avg DRB',\n",
       "       'Avg ORB', 'Avg FG', 'Avg FGA', 'Avg FG%', 'Avg FT', 'Avg FTA',\n",
       "       'Avg 3PAr', 'Avg FTr', 'Avg PF', 'Avg PTS', 'Avg STL', 'Avg TOV',\n",
       "       'Avg TS%', 'Avg eFG%', 'Winning Percentage', 'oppAvg Win/Loss',\n",
       "       'oppAvg 3P', 'oppAvg 3PA', 'oppAvg 3P%', 'oppAvg Starter MP',\n",
       "       'oppAvg AST', 'oppAvg BLK', 'oppAvg DRB', 'oppAvg ORB', 'oppAvg FG',\n",
       "       'oppAvg FGA', 'oppAvg FG%', 'oppAvg FT', 'oppAvg FTA', 'oppAvg 3PAr',\n",
       "       'oppAvg FTr', 'oppAvg PF', 'oppAvg PTS', 'oppAvg STL', 'oppAvg TOV',\n",
       "       'oppAvg TS%', 'oppAvg eFG%', 'oppWinning Percentage'],\n",
       "      dtype='object')"
      ]
     },
     "execution_count": 17,
     "metadata": {},
     "output_type": "execute_result"
    }
   ],
   "source": [
    "all_team_data['Boston'].columns"
   ]
  },
  {
   "cell_type": "code",
   "execution_count": 18,
   "metadata": {},
   "outputs": [
    {
     "name": "stderr",
     "output_type": "stream",
     "text": [
      "/Users/ericweltz/anaconda3/lib/python3.6/site-packages/sklearn/cross_validation.py:41: DeprecationWarning: This module was deprecated in version 0.18 in favor of the model_selection module into which all the refactored classes and functions are moved. Also note that the interface of the new CV iterators are different from that of this module. This module will be removed in 0.20.\n",
      "  \"This module will be removed in 0.20.\", DeprecationWarning)\n"
     ]
    }
   ],
   "source": [
    "import xgboost as xgb"
   ]
  },
  {
   "cell_type": "code",
   "execution_count": null,
   "metadata": {
    "collapsed": true
   },
   "outputs": [],
   "source": []
  }
 ],
 "metadata": {
  "kernelspec": {
   "display_name": "Python 3",
   "language": "python",
   "name": "python3"
  },
  "language_info": {
   "codemirror_mode": {
    "name": "ipython",
    "version": 3
   },
   "file_extension": ".py",
   "mimetype": "text/x-python",
   "name": "python",
   "nbconvert_exporter": "python",
   "pygments_lexer": "ipython3",
   "version": "3.6.8"
  }
 },
 "nbformat": 4,
 "nbformat_minor": 2
}
