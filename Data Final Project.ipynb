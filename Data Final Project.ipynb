{
 "cells": [
  {
   "cell_type": "code",
   "execution_count": 1,
   "metadata": {
    "collapsed": true
   },
   "outputs": [],
   "source": [
    "import pandas as pd\n",
    "import numpy as np\n",
    "import tensorflow as tf"
   ]
  },
  {
   "cell_type": "code",
   "execution_count": 2,
   "metadata": {
    "collapsed": true
   },
   "outputs": [],
   "source": [
    "home = pd.read_csv('home_completed.csv')\n",
    "away = pd.read_csv('away_completed.csv')"
   ]
  },
  {
   "cell_type": "code",
   "execution_count": 3,
   "metadata": {
    "collapsed": true
   },
   "outputs": [],
   "source": [
    "#put all data into one large data frame\n",
    "main = home.append(away, ignore_index=True).sort_values(['Checker']) # puts into date order\n",
    "#put columns into more organized order\n",
    "main = main[['Year','Month', 'Day' , 'Team', 'Spread', 'Line', '+/-', '3P', '3P%', '3PA', '3PAr', 'AST', 'BLK', 'DRB', 'Day',\n",
    "       'FG', 'FG%', 'FGA', 'FT', 'FT%', 'FTA', 'FTr', 'Home', 'Losses',\n",
    "        'ORB', 'PF', 'PTS', 'STL', 'Starters MP', 'TOV', 'TS%', 'Wins',\n",
    "        'eFG%',  'Checker']]\n",
    "#number of points a team won or lost by\n",
    "main['+/-'] = main['+/-']/5\n",
    "#puts the odds into floats\n",
    "main['Spread'] = main['Spread'].replace(' PK', '0').astype(float)\n",
    "#gets how many points a team went over or under the spread\n",
    "main['Cover'] = main['Spread'] + main['+/-']\n",
    "#true or false on whether a team covered the spread\n",
    "main['ATS'] = np.where(main['Cover'].isnull(), np.nan,\n",
    "          np.where(main['Cover'] > 0,   1, 0))\n",
    "teams = list(main['Team'])\n",
    "new_teams = []\n",
    "#adds the opponent to the df\n",
    "for i in range(0, len(teams), 2):\n",
    "    new_teams.append(teams[i+1])\n",
    "    new_teams.append(teams[i])\n",
    "main['Opponent'] = new_teams\n",
    "main = main.dropna()"
   ]
  },
  {
   "cell_type": "code",
   "execution_count": 4,
   "metadata": {
    "collapsed": true
   },
   "outputs": [],
   "source": [
    "def team_df(team):\n",
    "    t = main[main['Team']== team].reset_index()\n",
    "    del t['index']\n",
    "    t['Season'] = t['Checker'].apply(season) #define what season a game is played\n",
    "    t['Games Played'] = t['Wins'] + t['Losses'] #total games played\n",
    "    #create running averages for all stats up to a given game date\n",
    "    t_df = pd.DataFrame()\n",
    "    for year in years:\n",
    "        temp = t[t['Season']==year].reset_index()\n",
    "        temp['Avg Win/Loss'] = (temp['+/-'].cumsum() - temp['+/-'])/temp.index\n",
    "        temp['Avg 3P'] = (temp['3P'].cumsum() - temp['3P'])/temp.index\n",
    "        temp['Avg 3PA'] = (temp['3PA'].cumsum() - temp['3PA'])/temp.index\n",
    "        temp['Avg 3P%'] = (temp['Avg 3P']/temp['Avg 3PA'])\n",
    "        temp['Avg Starter MP'] = (temp['Starters MP'].cumsum() - temp['Starters MP'])/temp.index\n",
    "        temp['Avg AST'] = (temp['AST'].cumsum() - temp['AST'])/temp.index\n",
    "        temp['Avg BLK'] = (temp['BLK'].cumsum() - temp['BLK'])/temp.index\n",
    "        temp['Avg DRB'] = (temp['DRB'].cumsum() - temp['DRB'])/temp.index\n",
    "        temp['Avg ORB'] = (temp['ORB'].cumsum() - temp['ORB'])/temp.index\n",
    "        temp['Avg FG'] = (temp['FG'].cumsum() - temp['FG'])/temp.index\n",
    "        temp['Avg FGA'] = (temp['FGA'].cumsum() - temp['FGA'])/temp.index\n",
    "        temp['Avg FG%'] = (temp['Avg FG']/temp['Avg FGA'])\n",
    "        temp['Avg FT'] = (temp['FT'].cumsum() - temp['FT'])/temp.index\n",
    "        temp['Avg FTA'] = (temp['FTA'].cumsum() - temp['FTA'])/temp.index\n",
    "        temp['Avg 3PAr'] = (temp['Avg 3PA']/temp['Avg FGA'])\n",
    "        temp['Avg FTr'] = (temp['Avg FTA']/temp['Avg FGA'])\n",
    "        temp['Avg 3P%'] = (temp['Avg FT']/temp['Avg FTA'])/temp.index\n",
    "        temp['Avg PF'] = (temp['PF'].cumsum() - temp['PF'])/temp.index\n",
    "        temp['Avg PTS'] = (temp['PTS'].cumsum() - temp['PTS'])/temp.index\n",
    "        temp['Avg STL'] = (temp['STL'].cumsum() - temp['STL'])/temp.index\n",
    "        temp['Avg TOV'] = (temp['TOV'].cumsum() - temp['TOV'])/temp.index\n",
    "        temp['Avg TS%'] = temp['Avg PTS']/ (2*(temp['Avg FGA'] + .44 * temp['Avg FTA']))\n",
    "        temp['Avg eFG%'] = (temp['Avg FG'] + .5 * temp['Avg 3P'])/ temp['Avg FGA']\n",
    "        temp['Avg Starter MP'] = (temp['Starters MP'].cumsum() - temp['Starters MP'])/temp.index\n",
    "        temp['Winning Percentage'] = temp['Wins']/temp.index\n",
    "        t_df = t_df.append(temp)\n",
    "    return t_df"
   ]
  },
  {
   "cell_type": "code",
   "execution_count": 5,
   "metadata": {},
   "outputs": [],
   "source": [
    "def team_df(team):\n",
    "    t = main[main['Team']== team].reset_index()\n",
    "    del t['index']\n",
    "    t['Season'] = t['Checker'].apply(season) #define what season a game is played\n",
    "    t['Games Played'] = t['Wins'] + t['Losses'] #total games played\n",
    "    #create running averages for all stats up to a given game date\n",
    "    t_df = pd.DataFrame()\n",
    "    for year in years:\n",
    "        temp = t[t['Season']==year].reset_index()\n",
    "        temp['Avg Win/Loss'] = (temp['+/-'].cumsum() - temp['+/-'])/temp.index\n",
    "        temp['Avg 3P'] = (temp['3P'].cumsum() - temp['3P'])/temp.index\n",
    "        temp['Avg 3PA'] = (temp['3PA'].cumsum() - temp['3PA'])/temp.index\n",
    "        temp['Avg 3P%'] = (temp['Avg 3P']/temp['Avg 3PA'])\n",
    "        temp['Avg Starter MP'] = (temp['Starters MP'].cumsum() - temp['Starters MP'])/temp.index\n",
    "        temp['Avg AST'] = (temp['AST'].cumsum() - temp['AST'])/temp.index\n",
    "        temp['Avg BLK'] = (temp['BLK'].cumsum() - temp['BLK'])/temp.index\n",
    "        temp['Avg DRB'] = (temp['DRB'].cumsum() - temp['DRB'])/temp.index\n",
    "        temp['Avg ORB'] = (temp['ORB'].cumsum() - temp['ORB'])/temp.index\n",
    "        temp['Avg FG'] = (temp['FG'].cumsum() - temp['FG'])/temp.index\n",
    "        temp['Avg FGA'] = (temp['FGA'].cumsum() - temp['FGA'])/temp.index\n",
    "        temp['Avg FG%'] = (temp['Avg FG']/temp['Avg FGA'])\n",
    "        temp['Avg FT'] = (temp['FT'].cumsum() - temp['FT'])/temp.index\n",
    "        temp['Avg FTA'] = (temp['FTA'].cumsum() - temp['FTA'])/temp.index\n",
    "        temp['Avg 3PAr'] = (temp['Avg 3PA']/temp['Avg FGA'])\n",
    "        temp['Avg FTr'] = (temp['Avg FTA']/temp['Avg FGA'])\n",
    "        temp['Avg 3P%'] = (temp['Avg FT']/temp['Avg FTA'])/temp.index\n",
    "        temp['Avg PF'] = (temp['PF'].cumsum() - temp['PF'])/temp.index\n",
    "        temp['Avg PTS'] = (temp['PTS'].cumsum() - temp['PTS'])/temp.index\n",
    "        temp['Avg STL'] = (temp['STL'].cumsum() - temp['STL'])/temp.index\n",
    "        temp['Avg TOV'] = (temp['TOV'].cumsum() - temp['TOV'])/temp.index\n",
    "        temp['Avg TS%'] = temp['Avg PTS']/ (2*(temp['Avg FGA'] + .44 * temp['Avg FTA']))\n",
    "        temp['Avg eFG%'] = (temp['Avg FG'] + .5 * temp['Avg 3P'])/ temp['Avg FGA']\n",
    "        temp['Winning Percentage'] = temp['Wins']/temp.index\n",
    "        ###\n",
    "        temp['5 Game Win/Loss'] = temp['+/-'].rolling(5, min_periods=1).sum()-temp['+/-']\n",
    "        temp['5 Game 3P'] = temp['3P'].rolling(5, min_periods=1).sum() - temp['3P']\n",
    "        temp['5 Game 3PA'] = temp['3PA'].rolling(5, min_periods=1).sum()- temp['3PA']\n",
    "        temp['5 Game 3P%'] = temp['5 Game 3P']/temp['5 Game 3PA']\n",
    "        temp['5 Game Starter MP'] = temp['Starters MP'].rolling(5, min_periods=1).sum()-temp['Starters MP']\n",
    "        temp['5 Game AST'] = temp['AST'].rolling(5, min_periods=1).sum() - temp['AST']\n",
    "        temp['5 Game BLK'] = temp['BLK'].rolling(5, min_periods=1).sum() - temp['BLK']\n",
    "        temp['5 Game DRB'] = temp['DRB'].rolling(5, min_periods=1).sum() - temp['DRB']\n",
    "        temp['5 Game ORB'] = temp['ORB'].rolling(5, min_periods=1).sum() - temp['ORB']\n",
    "        temp['5 Game FG'] = temp['FG'].rolling(5, min_periods=1).sum() - temp['FG']\n",
    "        temp['5 Game FGA'] = temp['FGA'].rolling(5, min_periods=1).sum() - temp['FGA']\n",
    "        temp['5 Game FG%'] = temp['5 Game FG']/temp['5 Game FGA']\n",
    "        temp['5 Game FT'] = temp['FT'].rolling(5, min_periods=1).sum() - temp['FT']\n",
    "        temp['5 Game FTA'] = temp['FTA'].rolling(5, min_periods=1).sum() - temp['FTA']\n",
    "        temp['5 Game 3PAr'] = temp['5 Game 3PA']/temp['5 Game FGA']\n",
    "        temp['5 Game FTr'] = temp['5 Game FTA']/temp['5 Game FGA']\n",
    "        temp['5 Game 3P%'] = temp['5 Game FT']/temp['5 Game FTA']\n",
    "        temp['5 Game PF'] = temp['PF'].rolling(5, min_periods=1).sum() - temp['PF']\n",
    "        temp['5 Game PTS'] = temp['PTS'].rolling(5, min_periods=1).sum() - temp['PTS']\n",
    "        temp['5 Game STL'] = temp['STL'].rolling(5, min_periods=1).sum() - temp['STL']\n",
    "        temp['5 Game TOV'] = temp['TOV'].rolling(5, min_periods=1).sum() - temp['TOV']\n",
    "        temp['5 Game TS%'] = temp['5 Game PTS']/ (2*(temp['5 Game FGA'] + .44 * temp['5 Game FTA']))\n",
    "        temp['5 Game eFG%'] = (temp['5 Game FG'] + .5 * temp['5 Game 3P'])/ temp['5 Game FGA']\n",
    "        t_df = t_df.append(temp)\n",
    "    return t_df"
   ]
  },
  {
   "cell_type": "code",
   "execution_count": 6,
   "metadata": {
    "collapsed": true
   },
   "outputs": [],
   "source": [
    "#put each row into a season\n",
    "def season(date):\n",
    "    date = date[:6]\n",
    "    if date < '200809':\n",
    "        return '2007'\n",
    "    elif date < '200909':\n",
    "        return '2008'\n",
    "    elif date < '201009':\n",
    "        return '2009'\n",
    "    elif date < '201109':\n",
    "        return '2010'\n",
    "    elif date < '201109':\n",
    "        return '2010'\n",
    "    elif date < '201209':\n",
    "        return '2011'\n",
    "    elif date < '201309':\n",
    "        return '2012'\n",
    "    elif date < '201409':\n",
    "        return '2013'\n",
    "    elif date < '201509':\n",
    "        return '2014'\n",
    "    elif date < '201609':\n",
    "        return '2015'\n",
    "    elif date < '201709':\n",
    "        return '2016'\n",
    "    elif date < '201809':\n",
    "        return '2017'\n",
    "    elif date < '201909':\n",
    "        return '2018'\n",
    "    "
   ]
  },
  {
   "cell_type": "code",
   "execution_count": 7,
   "metadata": {
    "collapsed": true
   },
   "outputs": [],
   "source": [
    "teams = set(teams)\n",
    "years = ['2007', '2008', '2009', '2010', '2011', '2012', '2013', '2014', '2015', '2016', '2017', '2018']\n",
    "all_team_data = {}\n",
    "for team in teams:\n",
    "    all_team_data[team] = team_df(team)"
   ]
  },
  {
   "cell_type": "code",
   "execution_count": 8,
   "metadata": {
    "collapsed": true
   },
   "outputs": [],
   "source": [
    "giant_df = pd.DataFrame()\n",
    "for df in all_team_data.values():\n",
    "    giant_df = giant_df.append(df)"
   ]
  },
  {
   "cell_type": "code",
   "execution_count": 9,
   "metadata": {},
   "outputs": [],
   "source": [
    "for team in teams:\n",
    "    t = all_team_data[team]\n",
    "    opp = giant_df[giant_df['Opponent']==team]\n",
    "    opp = opp.rename(columns = {'Avg Win/Loss':'oppAvg Win/Loss', 'Avg 3P':'oppAvg 3P', 'Avg 3PA':'oppAvg 3PA' ,\n",
    "       'Avg 3P%':'oppAvg 3P%', 'Avg Starter MP':'oppAvg Starter MP', 'Avg AST':'oppAvg AST', 'Avg BLK':'oppAvg BLK', 'Avg DRB':'oppAvg DRB', 'Avg ORB':'oppAvg ORB',\n",
    "       'Avg FG':'oppAvg FG', 'Avg FGA':'oppAvg FGA', 'Avg FG%':'oppAvg FG%', 'Avg FT':'oppAvg FT', 'Avg FTA':'oppAvg FTA', 'Avg 3PAr':'oppAvg 3PAr',\n",
    "       'Avg FTr':'oppAvg FTr', 'Avg PF':'oppAvg PF', 'Avg PTS':'oppAvg PTS', 'Avg STL':'oppAvg STL', 'Avg TOV':'oppAvg TOV', 'Avg TS%':'oppAvg TS%',\n",
    "       'Avg eFG%':'oppAvg eFG%', 'Winning Percentage':'oppWinning Percentage'})\n",
    "    opp = opp.rename(columns = {'5 Game Win/Loss':'opp 5 Game Win/Loss', '5 Game 3P':'opp 5 Game 3P', '5 Game 3PA':'opp 5 Game 3PA',\n",
    "       '5 Game 3P%':'opp 5 Game 3P%', '5 Game Starter MP':'opp 5 Game Starter MP', '5 Game AST':'opp 5 Game AST', '5 Game BLK':'opp 5 Game BLK',\n",
    "       '5 Game DRB':'opp 5 Game DRB', '5 Game ORB':'opp 5 Game ORB',\n",
    "       '5 Game FG':'opp 5 Game FG', '5 Game FGA':'opp 5 Game FGA', '5 Game FG%':'opp 5 Game FG%', '5 Game FT':'opp 5 Game FT', '5 Game FTA':'opp 5 Game FTA', '5 Game 3PAr':'opp 5 Game 3PAr',\n",
    "       '5 Game FTr':'opp 5 Game FTr', '5 Game PF':'opp 5 Game PF', '5 Game PTS':'opp 5 Game PTS', '5 Game STL':'opp 5 Game STL', '5 Game TOV':'opp 5 Game TOV', '5 Game TS%':'opp 5 Game TS%',\n",
    "       '5 Game eFG%':'opp 5 Game eFG%'})\n",
    "    opp = opp[['Checker', 'oppAvg Win/Loss', 'oppAvg 3P', 'oppAvg 3PA',\n",
    "       'oppAvg 3P%', 'oppAvg Starter MP', 'oppAvg AST', 'oppAvg BLK',\n",
    "       'oppAvg DRB', 'oppAvg ORB', 'oppAvg FG', 'oppAvg FGA', 'oppAvg FG%',\n",
    "       'oppAvg FT', 'oppAvg FTA', 'oppAvg 3PAr', 'oppAvg FTr', 'oppAvg PF',\n",
    "       'oppAvg PTS', 'oppAvg STL', 'oppAvg TOV', 'oppAvg TS%', 'oppAvg eFG%',\n",
    "       'oppWinning Percentage', 'opp 5 Game Win/Loss', 'opp 5 Game 3P', 'opp 5 Game 3PA',\n",
    "       'opp 5 Game 3P%', 'opp 5 Game Starter MP', 'opp 5 Game AST', 'opp 5 Game BLK',\n",
    "       'opp 5 Game DRB', 'opp 5 Game ORB', 'opp 5 Game FG', 'opp 5 Game FGA', 'opp 5 Game FG%',\n",
    "       'opp 5 Game FT', 'opp 5 Game FTA', 'opp 5 Game 3PAr', 'opp 5 Game FTr', 'opp 5 Game PF',\n",
    "       'opp 5 Game PTS', 'opp 5 Game STL', 'opp 5 Game TOV', 'opp 5 Game TS%', 'opp 5 Game eFG%']]\n",
    "    all_team_data[team] = pd.merge(t,opp)"
   ]
  },
  {
   "cell_type": "code",
   "execution_count": 10,
   "metadata": {
    "collapsed": true
   },
   "outputs": [],
   "source": [
    "phi = all_team_data['Philadelphia']"
   ]
  },
  {
   "cell_type": "code",
   "execution_count": 11,
   "metadata": {},
   "outputs": [],
   "source": [
    "total_matrix = phi[['Cover', 'ATS', '+/-', 'Wins', 'Losses', 'Home', 'Avg Win/Loss', 'Avg 3P',\n",
    "       'Avg 3PA', 'Avg 3P%', 'Avg Starter MP', 'Avg AST', 'Avg BLK', 'Avg DRB',\n",
    "       'Avg ORB', 'Avg FG', 'Avg FGA', 'Avg FG%', 'Avg FT', 'Avg FTA',\n",
    "       'Avg 3PAr', 'Avg FTr', 'Avg PF', 'Avg PTS', 'Avg STL', 'Avg TOV',\n",
    "       'Avg TS%', 'Avg eFG%', 'Winning Percentage', 'oppAvg Win/Loss','oppAvg 3P',\n",
    "        'oppAvg 3PA', 'oppAvg 3P%', 'oppAvg Starter MP',\n",
    "        'oppAvg AST', 'oppAvg BLK', 'oppAvg DRB', 'oppAvg ORB', 'oppAvg FG',\n",
    "        'oppAvg FGA', 'oppAvg FG%', 'oppAvg FT', 'oppAvg FTA', 'oppAvg 3PAr',\n",
    "        'oppAvg FTr', 'oppAvg PF', 'oppAvg PTS', 'oppAvg STL', 'oppAvg TOV',\n",
    "        'oppAvg TS%', 'oppAvg eFG%', 'oppWinning Percentage', '5 Game Win/Loss', '5 Game 3P', '5 Game 3PA',\n",
    "       '5 Game 3P%', '5 Game Starter MP', '5 Game AST', '5 Game BLK',\n",
    "       '5 Game DRB', '5 Game ORB', '5 Game FG', '5 Game FGA', '5 Game FG%',\n",
    "       '5 Game FT', '5 Game FTA', '5 Game 3PAr', '5 Game FTr', '5 Game PF',\n",
    "       '5 Game PTS', '5 Game STL', '5 Game TOV', '5 Game TS%', '5 Game eFG%',\n",
    "       'opp 5 Game Win/Loss', 'opp 5 Game 3P', 'opp 5 Game 3PA',\n",
    "       'opp 5 Game 3P%', 'opp 5 Game Starter MP', 'opp 5 Game AST', 'opp 5 Game BLK',\n",
    "       'opp 5 Game DRB', 'opp 5 Game ORB', 'opp 5 Game FG', 'opp 5 Game FGA', 'opp 5 Game FG%',\n",
    "       'opp 5 Game FT', 'opp 5 Game FTA', 'opp 5 Game 3PAr', 'opp 5 Game FTr', 'opp 5 Game PF',\n",
    "       'opp 5 Game PTS', 'opp 5 Game STL', 'opp 5 Game TOV', 'opp 5 Game TS%', 'opp 5 Game eFG%']]\n",
    "total_matrix = total_matrix.dropna()\n"
   ]
  },
  {
   "cell_type": "code",
   "execution_count": 12,
   "metadata": {
    "collapsed": true
   },
   "outputs": [],
   "source": [
    "feature_matrix = total_matrix[['Wins', 'Losses', 'Home', 'Avg Win/Loss', 'Avg 3P',\n",
    "       'Avg 3PA', 'Avg 3P%', 'Avg Starter MP', 'Avg AST', 'Avg BLK', 'Avg DRB',\n",
    "       'Avg ORB', 'Avg FG', 'Avg FGA', 'Avg FG%', 'Avg FT', 'Avg FTA',\n",
    "       'Avg 3PAr', 'Avg FTr', 'Avg PF', 'Avg PTS', 'Avg STL', 'Avg TOV',\n",
    "       'Avg TS%', 'Avg eFG%', 'Winning Percentage']]\n",
    "results = total_matrix['Cover']\n"
   ]
  },
  {
   "cell_type": "code",
   "execution_count": 13,
   "metadata": {
    "collapsed": true
   },
   "outputs": [],
   "source": [
    "feature_matrix = total_matrix[['Avg 3P%', 'Avg Starter MP', 'Avg AST', 'Avg ORB', 'Avg FG%', 'Avg FT', 'Avg FTA',\n",
    "                               'Avg 3PAr', 'Avg FTr', 'Avg PF', 'Avg TOV',\n",
    "                               'Avg TS%', 'Avg eFG%', 'Winning Percentage', 'oppAvg Win/Loss','oppAvg 3P',\n",
    "                               'oppAvg 3PA', 'oppAvg 3P%', 'oppAvg Starter MP',\n",
    "                               'oppAvg AST', 'oppAvg BLK', 'oppAvg DRB', 'oppAvg ORB', 'oppAvg FG',\n",
    "                               'oppAvg FGA', 'oppAvg FG%', 'oppAvg FT', 'oppAvg FTA', 'oppAvg 3PAr',\n",
    "                               'oppAvg FTr', 'oppAvg PF', 'oppAvg PTS', 'oppAvg STL', 'oppAvg TOV',\n",
    "                               'oppAvg TS%', 'oppAvg eFG%', 'oppWinning Percentage']]"
   ]
  },
  {
   "cell_type": "code",
   "execution_count": 14,
   "metadata": {
    "collapsed": true
   },
   "outputs": [],
   "source": [
    "feature_matrix = total_matrix[['Avg ORB', 'Avg FTA',\n",
    "                               'Avg 3PAr', 'Avg TOV',\n",
    "                            'Avg eFG%', 'Winning Percentage', \n",
    "                               'oppAvg ORB', 'oppAvg FTA', 'oppAvg 3PAr',\n",
    "                               'oppAvg TOV', 'oppAvg eFG%', 'oppWinning Percentage']]"
   ]
  },
  {
   "cell_type": "code",
   "execution_count": 15,
   "metadata": {},
   "outputs": [],
   "source": [
    "feature_matrix = total_matrix[['Wins', 'Losses', 'Home', 'Avg Win/Loss', 'Avg 3P',\n",
    "       'Avg 3PA', 'Avg 3P%', 'Avg Starter MP', 'Avg AST', 'Avg BLK', 'Avg DRB',\n",
    "       'Avg ORB', 'Avg FG', 'Avg FGA', 'Avg FG%', 'Avg FT', 'Avg FTA',\n",
    "       'Avg 3PAr', 'Avg FTr', 'Avg PF', 'Avg PTS', 'Avg STL', 'Avg TOV',\n",
    "       'Avg TS%', 'Avg eFG%', 'Winning Percentage', 'oppAvg Win/Loss','oppAvg 3P',\n",
    "        'oppAvg 3PA', 'oppAvg 3P%', 'oppAvg Starter MP',\n",
    "        'oppAvg AST', 'oppAvg BLK', 'oppAvg DRB', 'oppAvg ORB', 'oppAvg FG',\n",
    "        'oppAvg FGA', 'oppAvg FG%', 'oppAvg FT', 'oppAvg FTA', 'oppAvg 3PAr',\n",
    "        'oppAvg FTr', 'oppAvg PF', 'oppAvg PTS', 'oppAvg STL', 'oppAvg TOV',\n",
    "        'oppAvg TS%', 'oppAvg eFG%', 'oppWinning Percentage', '5 Game Win/Loss', '5 Game 3P', '5 Game 3PA',\n",
    "       '5 Game 3P%', '5 Game Starter MP', '5 Game AST', '5 Game BLK',\n",
    "       '5 Game DRB', '5 Game ORB', '5 Game FG', '5 Game FGA', '5 Game FG%',\n",
    "       '5 Game FT', '5 Game FTA', '5 Game 3PAr', '5 Game FTr', '5 Game PF',\n",
    "       '5 Game PTS', '5 Game STL', '5 Game TOV', '5 Game TS%', '5 Game eFG%',\n",
    "       'opp 5 Game Win/Loss', 'opp 5 Game 3P', 'opp 5 Game 3PA',\n",
    "       'opp 5 Game 3P%', 'opp 5 Game Starter MP', 'opp 5 Game AST', 'opp 5 Game BLK',\n",
    "       'opp 5 Game DRB', 'opp 5 Game ORB', 'opp 5 Game FG', 'opp 5 Game FGA', 'opp 5 Game FG%',\n",
    "       'opp 5 Game FT', 'opp 5 Game FTA', 'opp 5 Game 3PAr', 'opp 5 Game FTr', 'opp 5 Game PF',\n",
    "       'opp 5 Game PTS', 'opp 5 Game STL', 'opp 5 Game TOV', 'opp 5 Game TS%', 'opp 5 Game eFG%']]"
   ]
  },
  {
   "cell_type": "code",
   "execution_count": 16,
   "metadata": {
    "collapsed": true
   },
   "outputs": [],
   "source": [
    "feature_matrix = total_matrix[['Wins', 'Losses', 'Home', 'Avg Win/Loss', 'Avg 3P',\n",
    "       'Avg 3PA', 'Avg Starter MP', 'Avg AST', 'Avg BLK', 'Avg DRB',\n",
    "       'Avg ORB', 'Avg FG', 'Avg FGA',\n",
    "       'Avg 3PAr', 'Avg FTr', 'Avg PF', 'Avg PTS', 'Avg STL', 'Avg TOV',\n",
    "       'Avg eFG%', 'oppAvg Win/Loss','oppAvg 3P',\n",
    "        'oppAvg 3PA', 'oppAvg Starter MP',\n",
    "        'oppAvg AST', 'oppAvg BLK', 'oppAvg DRB', 'oppAvg ORB', 'oppAvg FG',\n",
    "        'oppAvg FGA', 'oppAvg 3PAr',\n",
    "        'oppAvg FTr', 'oppAvg PF', 'oppAvg PTS', 'oppAvg STL', 'oppAvg TOV',\n",
    "        'oppAvg eFG%', 'oppWinning Percentage', '5 Game Win/Loss', '5 Game 3P', '5 Game 3PA',\n",
    "       '5 Game Starter MP', '5 Game AST', '5 Game BLK',\n",
    "       '5 Game DRB', '5 Game ORB', '5 Game FG', '5 Game FGA', \n",
    "       '5 Game 3PAr', '5 Game FTr', '5 Game PF',\n",
    "       '5 Game PTS', '5 Game STL', '5 Game TOV', '5 Game eFG%',\n",
    "       'opp 5 Game Win/Loss', 'opp 5 Game 3P', 'opp 5 Game 3PA',\n",
    "       'opp 5 Game Starter MP', 'opp 5 Game AST', 'opp 5 Game BLK',\n",
    "       'opp 5 Game DRB', 'opp 5 Game ORB', 'opp 5 Game FG', 'opp 5 Game FGA', \n",
    "       'opp 5 Game 3PAr', 'opp 5 Game FTr', 'opp 5 Game PF',\n",
    "       'opp 5 Game PTS', 'opp 5 Game STL', 'opp 5 Game TOV', 'opp 5 Game eFG%']]"
   ]
  },
  {
   "cell_type": "code",
   "execution_count": 17,
   "metadata": {},
   "outputs": [],
   "source": [
    "## model for against the spread\n",
    "from sklearn import linear_model\n",
    "from sklearn.metrics import make_scorer\n",
    "model = linear_model.LinearRegression()\n",
    "model.fit(feature_matrix.iloc[:712], results.iloc[:712])\n",
    "predictions = model.predict(feature_matrix[712:])"
   ]
  },
  {
   "cell_type": "code",
   "execution_count": 18,
   "metadata": {
    "collapsed": true
   },
   "outputs": [],
   "source": [
    "def accuracy_predictor(lst1, lst2):\n",
    "    lst = []\n",
    "    for i in range(len(lst1)):\n",
    "        x = (lst1[i]<0)\n",
    "        y = (lst2[i]<0)\n",
    "        if(lst1[i]==0 or lst2[i]==0):\n",
    "            pass\n",
    "        elif x == y:\n",
    "            lst.append(1)\n",
    "        else:\n",
    "            lst.append(0)\n",
    "    return lst"
   ]
  },
  {
   "cell_type": "code",
   "execution_count": 19,
   "metadata": {
    "collapsed": true
   },
   "outputs": [],
   "source": [
    "accuracy = accuracy_predictor(predictions, results.tolist()[712:])"
   ]
  },
  {
   "cell_type": "code",
   "execution_count": 20,
   "metadata": {},
   "outputs": [
    {
     "data": {
      "text/plain": [
       "0.4700854700854701"
      ]
     },
     "execution_count": 20,
     "metadata": {},
     "output_type": "execute_result"
    }
   ],
   "source": [
    "sum(accuracy)/len(accuracy)"
   ]
  },
  {
   "cell_type": "code",
   "execution_count": 21,
   "metadata": {},
   "outputs": [
    {
     "data": {
      "text/plain": [
       "Avg eFG%                -1112.954802\n",
       "oppAvg 3PAr              -349.722279\n",
       "Avg 3PAr                 -261.033575\n",
       "opp 5 Game eFG%          -128.372997\n",
       "Avg FGA                    -8.937602\n",
       "oppAvg FG                  -4.151804\n",
       "opp 5 Game FTr             -3.731710\n",
       "Avg BLK                    -2.982220\n",
       "oppAvg 3P                  -1.778513\n",
       "Home                       -1.489976\n",
       "Avg TOV                    -1.287429\n",
       "Avg Win/Loss               -0.844871\n",
       "oppAvg STL                 -0.831790\n",
       "oppAvg DRB                 -0.657945\n",
       "Avg PTS                    -0.655080\n",
       "Avg PF                     -0.527858\n",
       "oppAvg BLK                 -0.505700\n",
       "Wins                       -0.435333\n",
       "Avg Starter MP             -0.392185\n",
       "5 Game 3PA                 -0.320598\n",
       "opp 5 Game 3PA             -0.243056\n",
       "opp 5 Game FGA             -0.217415\n",
       "oppAvg ORB                 -0.130666\n",
       "5 Game TOV                 -0.128897\n",
       "opp 5 Game AST             -0.120338\n",
       "5 Game Starter MP          -0.113875\n",
       "opp 5 Game Win/Loss        -0.106226\n",
       "opp 5 Game PF              -0.075010\n",
       "5 Game STL                 -0.062715\n",
       "opp 5 Game Starter MP      -0.056512\n",
       "                            ...     \n",
       "Avg STL                     0.073801\n",
       "opp 5 Game STL              0.074392\n",
       "5 Game ORB                  0.087516\n",
       "5 Game FGA                  0.097905\n",
       "oppAvg PF                   0.104922\n",
       "opp 5 Game DRB              0.131062\n",
       "oppAvg AST                  0.136150\n",
       "oppAvg Win/Loss             0.174116\n",
       "Losses                      0.201360\n",
       "5 Game BLK                  0.253674\n",
       "5 Game 3P                   0.273477\n",
       "opp 5 Game 3P               0.463255\n",
       "oppAvg TOV                  0.488680\n",
       "opp 5 Game FG               0.512348\n",
       "oppAvg FGA                  0.848950\n",
       "Avg AST                     1.273146\n",
       "Avg DRB                     1.708597\n",
       "Avg ORB                     2.220980\n",
       "Avg 3PA                     3.056792\n",
       "oppWinning Percentage       3.693311\n",
       "5 Game FTr                  3.894884\n",
       "oppAvg 3PA                  4.327946\n",
       "oppAvg FTr                  5.954422\n",
       "Avg 3P                      6.061394\n",
       "Avg FG                     15.867557\n",
       "Avg FTr                    26.919022\n",
       "5 Game eFG%                28.987988\n",
       "opp 5 Game 3PAr            40.145259\n",
       "5 Game 3PAr                74.507574\n",
       "oppAvg eFG%               281.986262\n",
       "Length: 72, dtype: float64"
      ]
     },
     "execution_count": 21,
     "metadata": {},
     "output_type": "execute_result"
    }
   ],
   "source": [
    "x= pd.Series(model.coef_, feature_matrix.columns)\n",
    "x.sort_values()"
   ]
  },
  {
   "cell_type": "code",
   "execution_count": 51,
   "metadata": {},
   "outputs": [
    {
     "name": "stderr",
     "output_type": "stream",
     "text": [
      "/Users/ericweltz/anaconda3/lib/python3.6/site-packages/ipykernel_launcher.py:3: SettingWithCopyWarning: \n",
      "A value is trying to be set on a copy of a slice from a DataFrame\n",
      "\n",
      "See the caveats in the documentation: http://pandas.pydata.org/pandas-docs/stable/indexing.html#indexing-view-versus-copy\n",
      "  This is separate from the ipykernel package so we can avoid doing imports until\n",
      "/Users/ericweltz/anaconda3/lib/python3.6/site-packages/ipykernel_launcher.py:4: SettingWithCopyWarning: \n",
      "A value is trying to be set on a copy of a slice from a DataFrame\n",
      "\n",
      "See the caveats in the documentation: http://pandas.pydata.org/pandas-docs/stable/indexing.html#indexing-view-versus-copy\n",
      "  after removing the cwd from sys.path.\n"
     ]
    },
    {
     "data": {
      "text/plain": [
       "0.5084033613445378"
      ]
     },
     "execution_count": 51,
     "metadata": {},
     "output_type": "execute_result"
    }
   ],
   "source": [
    "#model for straight victory\n",
    "results = total_matrix['+/-']\n",
    "results[results<0] = -1\n",
    "results[results>0] = 1\n",
    "model = linear_model.LinearRegression()\n",
    "model.fit(feature_matrix.iloc[:712], results.iloc[:712])\n",
    "predictions = model.predict(feature_matrix[712:])\n",
    "accuracy = accuracy_predictor(predictions, results.tolist()[712:])\n",
    "sum(accuracy)/len(accuracy)"
   ]
  },
  {
   "cell_type": "code",
   "execution_count": 23,
   "metadata": {
    "collapsed": true
   },
   "outputs": [],
   "source": [
    "# Import libraries for feature extraction\n",
    "from sklearn.feature_selection import SelectKBest\n",
    "from sklearn.feature_selection import f_classif\n"
   ]
  },
  {
   "cell_type": "code",
   "execution_count": 74,
   "metadata": {},
   "outputs": [
    {
     "name": "stdout",
     "output_type": "stream",
     "text": [
      "[  4.679e+00   1.236e+00   1.013e+01   8.262e+00   6.938e-01   1.095e+00\n",
      "   1.044e+01   7.144e+00   1.996e+00   5.024e+00   3.907e+00   6.137e+00\n",
      "   8.988e-01   8.568e-01   6.100e+00   2.517e-01   6.351e+00   1.317e+00\n",
      "   5.719e-01   7.291e+00   7.384e+00   1.673e-01   3.857e-02   5.064e-02\n",
      "   8.571e-01   3.867e-01   4.671e-02   3.159e-01   4.073e-02   6.232e-01\n",
      "   1.511e-03   1.152e-01   9.402e-03   2.502e-02   4.152e+00   2.964e-01\n",
      "   1.237e+00   6.396e+00   8.908e+00   1.268e+00   3.019e-01   1.971e-02\n",
      "   2.441e+00   3.217e-01   3.955e+00   1.619e-03   5.951e+00   3.530e+00\n",
      "   1.151e+00   4.913e-02   3.947e-02   4.680e+00   2.366e+00   1.121e+00\n",
      "   2.205e+00   8.067e+00   6.232e-02   9.812e-01   1.787e-01   6.165e-02\n",
      "   4.639e-03   5.771e+00   4.835e-01   7.203e-01   4.680e+00   2.272e-02\n",
      "   5.632e-04   1.814e+00   1.002e+00   1.776e+00   1.962e+00   4.048e+00]\n"
     ]
    }
   ],
   "source": [
    "# Feature extraction\n",
    "test = SelectKBest(score_func=f_classif, k=31)\n",
    "fit = test.fit(feature_matrix.iloc[712:], results.iloc[712:])\n",
    "\n",
    "# Summarize scores\n",
    "np.set_printoptions(precision=3)\n",
    "print(fit.scores_)\n",
    "\n",
    "features = fit.transform(feature_matrix)\n"
   ]
  },
  {
   "cell_type": "code",
   "execution_count": 75,
   "metadata": {},
   "outputs": [
    {
     "data": {
      "text/plain": [
       "0.634453781512605"
      ]
     },
     "execution_count": 75,
     "metadata": {},
     "output_type": "execute_result"
    }
   ],
   "source": [
    "# use just the 10 most important features\n",
    "model = linear_model.LinearRegression()\n",
    "model.fit(features[:712], results.iloc[:712])\n",
    "predictions = model.predict(features[712:])\n",
    "accuracy = accuracy_predictor(predictions, results.tolist()[712:])\n",
    "sum(accuracy)/len(accuracy)"
   ]
  },
  {
   "cell_type": "code",
   "execution_count": 91,
   "metadata": {},
   "outputs": [
    {
     "name": "stdout",
     "output_type": "stream",
     "text": [
      "[  3.245e-02   6.691e-01   2.039e+00   1.728e+00   2.883e-01   1.642e+00\n",
      "   9.177e-01   1.609e+00   2.381e+00   4.854e+00   2.060e-01   2.262e+00\n",
      "   3.433e+00   4.399e-01   5.118e-01   1.576e-01   2.010e+00   2.386e-01\n",
      "   2.190e+00   6.091e-01   2.601e-01   5.822e-02   2.625e-03   2.573e+00\n",
      "   8.475e-02   1.097e+00   2.386e-02   7.716e-01   1.198e-02   3.248e-01\n",
      "   9.829e-03   3.413e+00   2.607e-02   2.749e-01   3.656e-02   1.221e-01\n",
      "   6.338e-02   2.705e-02   2.357e-01   1.095e+00   1.252e+00   5.748e-01\n",
      "   1.578e-02   1.839e+00   6.148e-03   8.838e-02   9.015e-01   3.016e+00\n",
      "   4.132e-02   1.158e+00   2.882e+00   3.482e-01   6.117e-01   9.101e-02\n",
      "   2.410e-01   8.878e-01   1.463e-01   5.776e-01   2.330e+00   4.034e+00\n",
      "   4.219e+00   5.023e+00   7.947e-01   3.030e+00   4.765e+00   1.420e-01\n",
      "   1.790e+00   3.705e+00   4.659e+00   2.017e-01   2.701e+00   6.105e-02]\n"
     ]
    },
    {
     "name": "stderr",
     "output_type": "stream",
     "text": [
      "/Users/ericweltz/anaconda3/lib/python3.6/site-packages/ipykernel_launcher.py:3: SettingWithCopyWarning: \n",
      "A value is trying to be set on a copy of a slice from a DataFrame\n",
      "\n",
      "See the caveats in the documentation: http://pandas.pydata.org/pandas-docs/stable/indexing.html#indexing-view-versus-copy\n",
      "  This is separate from the ipykernel package so we can avoid doing imports until\n"
     ]
    }
   ],
   "source": [
    "# Feature extraction ats\n",
    "results = total_matrix['ATS']\n",
    "results[results==0]=-1\n",
    "test = SelectKBest(score_func=f_classif, k=20)\n",
    "fit = test.fit(feature_matrix.iloc[712:], results.iloc[712:])\n",
    "\n",
    "# Summarize scores\n",
    "np.set_printoptions(precision=3)\n",
    "print(fit.scores_)\n",
    "\n",
    "features = fit.transform(feature_matrix)\n"
   ]
  },
  {
   "cell_type": "code",
   "execution_count": 92,
   "metadata": {},
   "outputs": [
    {
     "data": {
      "text/plain": [
       "0.5"
      ]
     },
     "execution_count": 92,
     "metadata": {},
     "output_type": "execute_result"
    }
   ],
   "source": [
    "# use just the 10 most important features for betting ats\n",
    "model = linear_model.LinearRegression()\n",
    "model.fit(features[:712], results.iloc[:712])\n",
    "predictions = model.predict(features[712:])\n",
    "accuracy = accuracy_predictor(predictions, results.tolist()[712:])\n",
    "sum(accuracy)/len(accuracy)"
   ]
  },
  {
   "cell_type": "code",
   "execution_count": 26,
   "metadata": {},
   "outputs": [
    {
     "name": "stderr",
     "output_type": "stream",
     "text": [
      "/Users/ericweltz/anaconda3/lib/python3.6/site-packages/sklearn/cross_validation.py:41: DeprecationWarning: This module was deprecated in version 0.18 in favor of the model_selection module into which all the refactored classes and functions are moved. Also note that the interface of the new CV iterators are different from that of this module. This module will be removed in 0.20.\n",
      "  \"This module will be removed in 0.20.\", DeprecationWarning)\n",
      "/Users/ericweltz/anaconda3/lib/python3.6/site-packages/sklearn/grid_search.py:42: DeprecationWarning: This module was deprecated in version 0.18 in favor of the model_selection module into which all the refactored classes and functions are moved. This module will be removed in 0.20.\n",
      "  DeprecationWarning)\n"
     ]
    }
   ],
   "source": [
    "import xgboost as xgb\n",
    "from sklearn.grid_search import GridSearchCV"
   ]
  },
  {
   "cell_type": "code",
   "execution_count": 211,
   "metadata": {},
   "outputs": [
    {
     "name": "stderr",
     "output_type": "stream",
     "text": [
      "/Users/ericweltz/anaconda3/lib/python3.6/site-packages/ipykernel_launcher.py:2: SettingWithCopyWarning: \n",
      "A value is trying to be set on a copy of a slice from a DataFrame\n",
      "\n",
      "See the caveats in the documentation: http://pandas.pydata.org/pandas-docs/stable/indexing.html#indexing-view-versus-copy\n",
      "  \n",
      "/Users/ericweltz/anaconda3/lib/python3.6/site-packages/ipykernel_launcher.py:3: SettingWithCopyWarning: \n",
      "A value is trying to be set on a copy of a slice from a DataFrame\n",
      "\n",
      "See the caveats in the documentation: http://pandas.pydata.org/pandas-docs/stable/indexing.html#indexing-view-versus-copy\n",
      "  This is separate from the ipykernel package so we can avoid doing imports until\n"
     ]
    }
   ],
   "source": [
    "results = total_matrix['+/-']\n",
    "results[results>0]= 1\n",
    "results[results<0]= -1"
   ]
  },
  {
   "cell_type": "code",
   "execution_count": 212,
   "metadata": {
    "collapsed": true
   },
   "outputs": [],
   "source": [
    "xgbmat = xgb.DMatrix(feature_matrix.iloc[:712], results.iloc[:712])"
   ]
  },
  {
   "cell_type": "code",
   "execution_count": 217,
   "metadata": {},
   "outputs": [],
   "source": [
    "cv_params = {'max_depth': [5,7, 9], 'min_child_weight': [5, 7, 9], \n",
    "             'learning_rate': [0.1, .01, 0.005, .001], 'n_estimators' : [50, 100, 500]}\n",
    "ind_params = {'seed':0, 'subsample': 0.8, 'colsample_bytree': 0.8, 'objective':'reg:linear'}\n",
    "optimized_GBM = GridSearchCV(xgb.XGBClassifier(**ind_params), \n",
    "                            cv_params, \n",
    "                             scoring = 'accuracy', cv = 5, n_jobs = -1)"
   ]
  },
  {
   "cell_type": "code",
   "execution_count": 218,
   "metadata": {},
   "outputs": [
    {
     "data": {
      "text/plain": [
       "GridSearchCV(cv=5, error_score='raise',\n",
       "       estimator=XGBClassifier(base_score=0.5, colsample_bylevel=1, colsample_bytree=0.8,\n",
       "       gamma=0, learning_rate=0.1, max_delta_step=0, max_depth=3,\n",
       "       min_child_weight=1, missing=None, n_estimators=100, nthread=-1,\n",
       "       objective='reg:linear', reg_alpha=0, reg_lambda=1,\n",
       "       scale_pos_weight=1, seed=0, silent=True, subsample=0.8),\n",
       "       fit_params={}, iid=True, n_jobs=-1,\n",
       "       param_grid={'max_depth': [5, 7, 9], 'min_child_weight': [5, 7, 9], 'learning_rate': [0.1, 0.01, 0.005, 0.001], 'n_estimators': [50, 100, 500]},\n",
       "       pre_dispatch='2*n_jobs', refit=True, scoring='accuracy', verbose=0)"
      ]
     },
     "execution_count": 218,
     "metadata": {},
     "output_type": "execute_result"
    }
   ],
   "source": [
    "optimized_GBM.fit(feature_matrix.iloc[:712], results.iloc[:712])"
   ]
  },
  {
   "cell_type": "code",
   "execution_count": 219,
   "metadata": {},
   "outputs": [
    {
     "data": {
      "text/plain": [
       "[mean: 0.32584, std: 0.19456, params: {'learning_rate': 0.1, 'max_depth': 5, 'min_child_weight': 5, 'n_estimators': 50},\n",
       " mean: 0.31882, std: 0.19720, params: {'learning_rate': 0.1, 'max_depth': 5, 'min_child_weight': 5, 'n_estimators': 100},\n",
       " mean: 0.31180, std: 0.20230, params: {'learning_rate': 0.1, 'max_depth': 5, 'min_child_weight': 5, 'n_estimators': 500},\n",
       " mean: 0.33708, std: 0.19388, params: {'learning_rate': 0.1, 'max_depth': 5, 'min_child_weight': 7, 'n_estimators': 50},\n",
       " mean: 0.33287, std: 0.20208, params: {'learning_rate': 0.1, 'max_depth': 5, 'min_child_weight': 7, 'n_estimators': 100},\n",
       " mean: 0.32865, std: 0.20636, params: {'learning_rate': 0.1, 'max_depth': 5, 'min_child_weight': 7, 'n_estimators': 500},\n",
       " mean: 0.33006, std: 0.19266, params: {'learning_rate': 0.1, 'max_depth': 5, 'min_child_weight': 9, 'n_estimators': 50},\n",
       " mean: 0.31742, std: 0.19737, params: {'learning_rate': 0.1, 'max_depth': 5, 'min_child_weight': 9, 'n_estimators': 100},\n",
       " mean: 0.31742, std: 0.19617, params: {'learning_rate': 0.1, 'max_depth': 5, 'min_child_weight': 9, 'n_estimators': 500},\n",
       " mean: 0.31461, std: 0.19425, params: {'learning_rate': 0.1, 'max_depth': 7, 'min_child_weight': 5, 'n_estimators': 50},\n",
       " mean: 0.31461, std: 0.19769, params: {'learning_rate': 0.1, 'max_depth': 7, 'min_child_weight': 5, 'n_estimators': 100},\n",
       " mean: 0.31742, std: 0.19648, params: {'learning_rate': 0.1, 'max_depth': 7, 'min_child_weight': 5, 'n_estimators': 500},\n",
       " mean: 0.31601, std: 0.19478, params: {'learning_rate': 0.1, 'max_depth': 7, 'min_child_weight': 7, 'n_estimators': 50},\n",
       " mean: 0.30758, std: 0.20308, params: {'learning_rate': 0.1, 'max_depth': 7, 'min_child_weight': 7, 'n_estimators': 100},\n",
       " mean: 0.30478, std: 0.20526, params: {'learning_rate': 0.1, 'max_depth': 7, 'min_child_weight': 7, 'n_estimators': 500},\n",
       " mean: 0.33848, std: 0.19837, params: {'learning_rate': 0.1, 'max_depth': 7, 'min_child_weight': 9, 'n_estimators': 50},\n",
       " mean: 0.33006, std: 0.19658, params: {'learning_rate': 0.1, 'max_depth': 7, 'min_child_weight': 9, 'n_estimators': 100},\n",
       " mean: 0.32584, std: 0.19885, params: {'learning_rate': 0.1, 'max_depth': 7, 'min_child_weight': 9, 'n_estimators': 500},\n",
       " mean: 0.32865, std: 0.19159, params: {'learning_rate': 0.1, 'max_depth': 9, 'min_child_weight': 5, 'n_estimators': 50},\n",
       " mean: 0.32725, std: 0.19011, params: {'learning_rate': 0.1, 'max_depth': 9, 'min_child_weight': 5, 'n_estimators': 100},\n",
       " mean: 0.32865, std: 0.19091, params: {'learning_rate': 0.1, 'max_depth': 9, 'min_child_weight': 5, 'n_estimators': 500},\n",
       " mean: 0.32725, std: 0.19119, params: {'learning_rate': 0.1, 'max_depth': 9, 'min_child_weight': 7, 'n_estimators': 50},\n",
       " mean: 0.32865, std: 0.19025, params: {'learning_rate': 0.1, 'max_depth': 9, 'min_child_weight': 7, 'n_estimators': 100},\n",
       " mean: 0.32584, std: 0.19304, params: {'learning_rate': 0.1, 'max_depth': 9, 'min_child_weight': 7, 'n_estimators': 500},\n",
       " mean: 0.33006, std: 0.18730, params: {'learning_rate': 0.1, 'max_depth': 9, 'min_child_weight': 9, 'n_estimators': 50},\n",
       " mean: 0.32584, std: 0.19569, params: {'learning_rate': 0.1, 'max_depth': 9, 'min_child_weight': 9, 'n_estimators': 100},\n",
       " mean: 0.32444, std: 0.19331, params: {'learning_rate': 0.1, 'max_depth': 9, 'min_child_weight': 9, 'n_estimators': 500},\n",
       " mean: 0.35674, std: 0.16944, params: {'learning_rate': 0.01, 'max_depth': 5, 'min_child_weight': 5, 'n_estimators': 50},\n",
       " mean: 0.34270, std: 0.18049, params: {'learning_rate': 0.01, 'max_depth': 5, 'min_child_weight': 5, 'n_estimators': 100},\n",
       " mean: 0.32163, std: 0.19536, params: {'learning_rate': 0.01, 'max_depth': 5, 'min_child_weight': 5, 'n_estimators': 500},\n",
       " mean: 0.36376, std: 0.16991, params: {'learning_rate': 0.01, 'max_depth': 5, 'min_child_weight': 7, 'n_estimators': 50},\n",
       " mean: 0.34831, std: 0.17870, params: {'learning_rate': 0.01, 'max_depth': 5, 'min_child_weight': 7, 'n_estimators': 100},\n",
       " mean: 0.32303, std: 0.19661, params: {'learning_rate': 0.01, 'max_depth': 5, 'min_child_weight': 7, 'n_estimators': 500},\n",
       " mean: 0.36096, std: 0.16829, params: {'learning_rate': 0.01, 'max_depth': 5, 'min_child_weight': 9, 'n_estimators': 50},\n",
       " mean: 0.34972, std: 0.17623, params: {'learning_rate': 0.01, 'max_depth': 5, 'min_child_weight': 9, 'n_estimators': 100},\n",
       " mean: 0.32163, std: 0.19609, params: {'learning_rate': 0.01, 'max_depth': 5, 'min_child_weight': 9, 'n_estimators': 500},\n",
       " mean: 0.35534, std: 0.17103, params: {'learning_rate': 0.01, 'max_depth': 7, 'min_child_weight': 5, 'n_estimators': 50},\n",
       " mean: 0.33848, std: 0.18383, params: {'learning_rate': 0.01, 'max_depth': 7, 'min_child_weight': 5, 'n_estimators': 100},\n",
       " mean: 0.32303, std: 0.19346, params: {'learning_rate': 0.01, 'max_depth': 7, 'min_child_weight': 5, 'n_estimators': 500},\n",
       " mean: 0.35112, std: 0.17512, params: {'learning_rate': 0.01, 'max_depth': 7, 'min_child_weight': 7, 'n_estimators': 50},\n",
       " mean: 0.33989, std: 0.18486, params: {'learning_rate': 0.01, 'max_depth': 7, 'min_child_weight': 7, 'n_estimators': 100},\n",
       " mean: 0.32022, std: 0.19516, params: {'learning_rate': 0.01, 'max_depth': 7, 'min_child_weight': 7, 'n_estimators': 500},\n",
       " mean: 0.35393, std: 0.17400, params: {'learning_rate': 0.01, 'max_depth': 7, 'min_child_weight': 9, 'n_estimators': 50},\n",
       " mean: 0.34410, std: 0.17912, params: {'learning_rate': 0.01, 'max_depth': 7, 'min_child_weight': 9, 'n_estimators': 100},\n",
       " mean: 0.32163, std: 0.19748, params: {'learning_rate': 0.01, 'max_depth': 7, 'min_child_weight': 9, 'n_estimators': 500},\n",
       " mean: 0.35112, std: 0.17584, params: {'learning_rate': 0.01, 'max_depth': 9, 'min_child_weight': 5, 'n_estimators': 50},\n",
       " mean: 0.33848, std: 0.17871, params: {'learning_rate': 0.01, 'max_depth': 9, 'min_child_weight': 5, 'n_estimators': 100},\n",
       " mean: 0.32303, std: 0.19435, params: {'learning_rate': 0.01, 'max_depth': 9, 'min_child_weight': 5, 'n_estimators': 500},\n",
       " mean: 0.35112, std: 0.17824, params: {'learning_rate': 0.01, 'max_depth': 9, 'min_child_weight': 7, 'n_estimators': 50},\n",
       " mean: 0.34410, std: 0.18039, params: {'learning_rate': 0.01, 'max_depth': 9, 'min_child_weight': 7, 'n_estimators': 100},\n",
       " mean: 0.31461, std: 0.19574, params: {'learning_rate': 0.01, 'max_depth': 9, 'min_child_weight': 7, 'n_estimators': 500},\n",
       " mean: 0.35253, std: 0.17595, params: {'learning_rate': 0.01, 'max_depth': 9, 'min_child_weight': 9, 'n_estimators': 50},\n",
       " mean: 0.33848, std: 0.18239, params: {'learning_rate': 0.01, 'max_depth': 9, 'min_child_weight': 9, 'n_estimators': 100},\n",
       " mean: 0.32163, std: 0.19331, params: {'learning_rate': 0.01, 'max_depth': 9, 'min_child_weight': 9, 'n_estimators': 500},\n",
       " mean: 0.36376, std: 0.16999, params: {'learning_rate': 0.005, 'max_depth': 5, 'min_child_weight': 5, 'n_estimators': 50},\n",
       " mean: 0.35534, std: 0.17364, params: {'learning_rate': 0.005, 'max_depth': 5, 'min_child_weight': 5, 'n_estimators': 100},\n",
       " mean: 0.32865, std: 0.18925, params: {'learning_rate': 0.005, 'max_depth': 5, 'min_child_weight': 5, 'n_estimators': 500},\n",
       " mean: 0.35955, std: 0.17014, params: {'learning_rate': 0.005, 'max_depth': 5, 'min_child_weight': 7, 'n_estimators': 50},\n",
       " mean: 0.35674, std: 0.17168, params: {'learning_rate': 0.005, 'max_depth': 5, 'min_child_weight': 7, 'n_estimators': 100},\n",
       " mean: 0.33989, std: 0.18169, params: {'learning_rate': 0.005, 'max_depth': 5, 'min_child_weight': 7, 'n_estimators': 500},\n",
       " mean: 0.36798, std: 0.16812, params: {'learning_rate': 0.005, 'max_depth': 5, 'min_child_weight': 9, 'n_estimators': 50},\n",
       " mean: 0.35674, std: 0.17324, params: {'learning_rate': 0.005, 'max_depth': 5, 'min_child_weight': 9, 'n_estimators': 100},\n",
       " mean: 0.33848, std: 0.18196, params: {'learning_rate': 0.005, 'max_depth': 5, 'min_child_weight': 9, 'n_estimators': 500},\n",
       " mean: 0.34831, std: 0.17675, params: {'learning_rate': 0.005, 'max_depth': 7, 'min_child_weight': 5, 'n_estimators': 50},\n",
       " mean: 0.35534, std: 0.17236, params: {'learning_rate': 0.005, 'max_depth': 7, 'min_child_weight': 5, 'n_estimators': 100},\n",
       " mean: 0.32865, std: 0.18982, params: {'learning_rate': 0.005, 'max_depth': 7, 'min_child_weight': 5, 'n_estimators': 500},\n",
       " mean: 0.35393, std: 0.17331, params: {'learning_rate': 0.005, 'max_depth': 7, 'min_child_weight': 7, 'n_estimators': 50},\n",
       " mean: 0.35815, std: 0.17018, params: {'learning_rate': 0.005, 'max_depth': 7, 'min_child_weight': 7, 'n_estimators': 100},\n",
       " mean: 0.32584, std: 0.19214, params: {'learning_rate': 0.005, 'max_depth': 7, 'min_child_weight': 7, 'n_estimators': 500},\n",
       " mean: 0.35815, std: 0.17295, params: {'learning_rate': 0.005, 'max_depth': 7, 'min_child_weight': 9, 'n_estimators': 50},\n",
       " mean: 0.35253, std: 0.17167, params: {'learning_rate': 0.005, 'max_depth': 7, 'min_child_weight': 9, 'n_estimators': 100},\n",
       " mean: 0.33006, std: 0.18623, params: {'learning_rate': 0.005, 'max_depth': 7, 'min_child_weight': 9, 'n_estimators': 500},\n",
       " mean: 0.34410, std: 0.18176, params: {'learning_rate': 0.005, 'max_depth': 9, 'min_child_weight': 5, 'n_estimators': 50},\n",
       " mean: 0.34551, std: 0.18297, params: {'learning_rate': 0.005, 'max_depth': 9, 'min_child_weight': 5, 'n_estimators': 100},\n",
       " mean: 0.32444, std: 0.19331, params: {'learning_rate': 0.005, 'max_depth': 9, 'min_child_weight': 5, 'n_estimators': 500},\n",
       " mean: 0.34972, std: 0.17705, params: {'learning_rate': 0.005, 'max_depth': 9, 'min_child_weight': 7, 'n_estimators': 50},\n",
       " mean: 0.34972, std: 0.17543, params: {'learning_rate': 0.005, 'max_depth': 9, 'min_child_weight': 7, 'n_estimators': 100},\n",
       " mean: 0.32725, std: 0.19198, params: {'learning_rate': 0.005, 'max_depth': 9, 'min_child_weight': 7, 'n_estimators': 500},\n",
       " mean: 0.35112, std: 0.17796, params: {'learning_rate': 0.005, 'max_depth': 9, 'min_child_weight': 9, 'n_estimators': 50},\n",
       " mean: 0.34831, std: 0.17433, params: {'learning_rate': 0.005, 'max_depth': 9, 'min_child_weight': 9, 'n_estimators': 100},\n",
       " mean: 0.32444, std: 0.19097, params: {'learning_rate': 0.005, 'max_depth': 9, 'min_child_weight': 9, 'n_estimators': 500},\n",
       " mean: 0.36938, std: 0.15978, params: {'learning_rate': 0.001, 'max_depth': 5, 'min_child_weight': 5, 'n_estimators': 50},\n",
       " mean: 0.36657, std: 0.16532, params: {'learning_rate': 0.001, 'max_depth': 5, 'min_child_weight': 5, 'n_estimators': 100},\n",
       " mean: 0.35112, std: 0.17653, params: {'learning_rate': 0.001, 'max_depth': 5, 'min_child_weight': 5, 'n_estimators': 500},\n",
       " mean: 0.36938, std: 0.16423, params: {'learning_rate': 0.001, 'max_depth': 5, 'min_child_weight': 7, 'n_estimators': 50},\n",
       " mean: 0.37079, std: 0.16325, params: {'learning_rate': 0.001, 'max_depth': 5, 'min_child_weight': 7, 'n_estimators': 100},\n",
       " mean: 0.35253, std: 0.17762, params: {'learning_rate': 0.001, 'max_depth': 5, 'min_child_weight': 7, 'n_estimators': 500},\n",
       " mean: 0.36517, std: 0.16788, params: {'learning_rate': 0.001, 'max_depth': 5, 'min_child_weight': 9, 'n_estimators': 50},\n",
       " mean: 0.36938, std: 0.16524, params: {'learning_rate': 0.001, 'max_depth': 5, 'min_child_weight': 9, 'n_estimators': 100},\n",
       " mean: 0.35393, std: 0.17558, params: {'learning_rate': 0.001, 'max_depth': 5, 'min_child_weight': 9, 'n_estimators': 500},\n",
       " mean: 0.34972, std: 0.17674, params: {'learning_rate': 0.001, 'max_depth': 7, 'min_child_weight': 5, 'n_estimators': 50},\n",
       " mean: 0.35393, std: 0.17735, params: {'learning_rate': 0.001, 'max_depth': 7, 'min_child_weight': 5, 'n_estimators': 100},\n",
       " mean: 0.34270, std: 0.18353, params: {'learning_rate': 0.001, 'max_depth': 7, 'min_child_weight': 5, 'n_estimators': 500},\n",
       " mean: 0.35253, std: 0.17442, params: {'learning_rate': 0.001, 'max_depth': 7, 'min_child_weight': 7, 'n_estimators': 50},\n",
       " mean: 0.35955, std: 0.16946, params: {'learning_rate': 0.001, 'max_depth': 7, 'min_child_weight': 7, 'n_estimators': 100},\n",
       " mean: 0.34410, std: 0.18323, params: {'learning_rate': 0.001, 'max_depth': 7, 'min_child_weight': 7, 'n_estimators': 500},\n",
       " mean: 0.35815, std: 0.16978, params: {'learning_rate': 0.001, 'max_depth': 7, 'min_child_weight': 9, 'n_estimators': 50},\n",
       " mean: 0.36657, std: 0.16776, params: {'learning_rate': 0.001, 'max_depth': 7, 'min_child_weight': 9, 'n_estimators': 100},\n",
       " mean: 0.34831, std: 0.17870, params: {'learning_rate': 0.001, 'max_depth': 7, 'min_child_weight': 9, 'n_estimators': 500},\n",
       " mean: 0.34972, std: 0.17684, params: {'learning_rate': 0.001, 'max_depth': 9, 'min_child_weight': 5, 'n_estimators': 50},\n",
       " mean: 0.34972, std: 0.18184, params: {'learning_rate': 0.001, 'max_depth': 9, 'min_child_weight': 5, 'n_estimators': 100},\n",
       " mean: 0.34270, std: 0.18353, params: {'learning_rate': 0.001, 'max_depth': 9, 'min_child_weight': 5, 'n_estimators': 500},\n",
       " mean: 0.35534, std: 0.17379, params: {'learning_rate': 0.001, 'max_depth': 9, 'min_child_weight': 7, 'n_estimators': 50},\n",
       " mean: 0.35534, std: 0.17219, params: {'learning_rate': 0.001, 'max_depth': 9, 'min_child_weight': 7, 'n_estimators': 100},\n",
       " mean: 0.34410, std: 0.18323, params: {'learning_rate': 0.001, 'max_depth': 9, 'min_child_weight': 7, 'n_estimators': 500},\n",
       " mean: 0.35534, std: 0.17205, params: {'learning_rate': 0.001, 'max_depth': 9, 'min_child_weight': 9, 'n_estimators': 50},\n",
       " mean: 0.36236, std: 0.16856, params: {'learning_rate': 0.001, 'max_depth': 9, 'min_child_weight': 9, 'n_estimators': 100},\n",
       " mean: 0.35112, std: 0.17637, params: {'learning_rate': 0.001, 'max_depth': 9, 'min_child_weight': 9, 'n_estimators': 500}]"
      ]
     },
     "execution_count": 219,
     "metadata": {},
     "output_type": "execute_result"
    }
   ],
   "source": [
    "optimized_GBM.grid_scores_"
   ]
  },
  {
   "cell_type": "code",
   "execution_count": 220,
   "metadata": {},
   "outputs": [
    {
     "name": "stderr",
     "output_type": "stream",
     "text": [
      "/Users/ericweltz/anaconda3/lib/python3.6/site-packages/ipykernel_launcher.py:1: SettingWithCopyWarning: \n",
      "A value is trying to be set on a copy of a slice from a DataFrame\n",
      "\n",
      "See the caveats in the documentation: http://pandas.pydata.org/pandas-docs/stable/indexing.html#indexing-view-versus-copy\n",
      "  \"\"\"Entry point for launching an IPython kernel.\n"
     ]
    }
   ],
   "source": [
    "results[results<0]=0\n",
    "our_params = {'eta': 0.1, 'seed':0, 'subsample': 0.8, 'colsample_bytree': 0.8, \n",
    "             'objective': 'reg:linear', 'max_depth':7, 'min_child_weight':5, 'n_estimators': 500} \n",
    "# Grid Search CV optimized settings\n",
    "\n",
    "xgdmat = xgb.DMatrix(feature_matrix.iloc[:712], results.iloc[:712])\n",
    "\n",
    "cv_xgb = xgb.cv(params = our_params, dtrain = xgdmat, num_boost_round = 3000, nfold = 10,\n",
    "                metrics = ['error'], # Make sure you enter metrics inside a list or you may encounter issues!\n",
    "                early_stopping_rounds = 100) # Look for early stopping"
   ]
  },
  {
   "cell_type": "code",
   "execution_count": 221,
   "metadata": {},
   "outputs": [
    {
     "data": {
      "text/html": [
       "<div>\n",
       "<style>\n",
       "    .dataframe thead tr:only-child th {\n",
       "        text-align: right;\n",
       "    }\n",
       "\n",
       "    .dataframe thead th {\n",
       "        text-align: left;\n",
       "    }\n",
       "\n",
       "    .dataframe tbody tr th {\n",
       "        vertical-align: top;\n",
       "    }\n",
       "</style>\n",
       "<table border=\"1\" class=\"dataframe\">\n",
       "  <thead>\n",
       "    <tr style=\"text-align: right;\">\n",
       "      <th></th>\n",
       "      <th>test-error-mean</th>\n",
       "      <th>test-error-std</th>\n",
       "      <th>train-error-mean</th>\n",
       "      <th>train-error-std</th>\n",
       "    </tr>\n",
       "  </thead>\n",
       "  <tbody>\n",
       "    <tr>\n",
       "      <th>0</th>\n",
       "      <td>0.425352</td>\n",
       "      <td>0.077861</td>\n",
       "      <td>0.196557</td>\n",
       "      <td>0.022594</td>\n",
       "    </tr>\n",
       "    <tr>\n",
       "      <th>1</th>\n",
       "      <td>0.390141</td>\n",
       "      <td>0.078684</td>\n",
       "      <td>0.131456</td>\n",
       "      <td>0.014580</td>\n",
       "    </tr>\n",
       "    <tr>\n",
       "      <th>2</th>\n",
       "      <td>0.378873</td>\n",
       "      <td>0.058903</td>\n",
       "      <td>0.106729</td>\n",
       "      <td>0.012496</td>\n",
       "    </tr>\n",
       "    <tr>\n",
       "      <th>3</th>\n",
       "      <td>0.346479</td>\n",
       "      <td>0.051249</td>\n",
       "      <td>0.082785</td>\n",
       "      <td>0.015148</td>\n",
       "    </tr>\n",
       "    <tr>\n",
       "      <th>4</th>\n",
       "      <td>0.356338</td>\n",
       "      <td>0.048811</td>\n",
       "      <td>0.068545</td>\n",
       "      <td>0.009818</td>\n",
       "    </tr>\n",
       "    <tr>\n",
       "      <th>5</th>\n",
       "      <td>0.354930</td>\n",
       "      <td>0.049517</td>\n",
       "      <td>0.059937</td>\n",
       "      <td>0.007507</td>\n",
       "    </tr>\n",
       "    <tr>\n",
       "      <th>6</th>\n",
       "      <td>0.359155</td>\n",
       "      <td>0.059506</td>\n",
       "      <td>0.047105</td>\n",
       "      <td>0.009375</td>\n",
       "    </tr>\n",
       "    <tr>\n",
       "      <th>7</th>\n",
       "      <td>0.345070</td>\n",
       "      <td>0.059506</td>\n",
       "      <td>0.035211</td>\n",
       "      <td>0.007801</td>\n",
       "    </tr>\n",
       "    <tr>\n",
       "      <th>8</th>\n",
       "      <td>0.343662</td>\n",
       "      <td>0.072696</td>\n",
       "      <td>0.029734</td>\n",
       "      <td>0.007731</td>\n",
       "    </tr>\n",
       "    <tr>\n",
       "      <th>9</th>\n",
       "      <td>0.339437</td>\n",
       "      <td>0.061860</td>\n",
       "      <td>0.025039</td>\n",
       "      <td>0.005814</td>\n",
       "    </tr>\n",
       "    <tr>\n",
       "      <th>10</th>\n",
       "      <td>0.342254</td>\n",
       "      <td>0.069301</td>\n",
       "      <td>0.020344</td>\n",
       "      <td>0.005330</td>\n",
       "    </tr>\n",
       "    <tr>\n",
       "      <th>11</th>\n",
       "      <td>0.346479</td>\n",
       "      <td>0.062418</td>\n",
       "      <td>0.017214</td>\n",
       "      <td>0.003636</td>\n",
       "    </tr>\n",
       "    <tr>\n",
       "      <th>12</th>\n",
       "      <td>0.352113</td>\n",
       "      <td>0.058072</td>\n",
       "      <td>0.013928</td>\n",
       "      <td>0.003987</td>\n",
       "    </tr>\n",
       "    <tr>\n",
       "      <th>13</th>\n",
       "      <td>0.346479</td>\n",
       "      <td>0.055343</td>\n",
       "      <td>0.012207</td>\n",
       "      <td>0.004303</td>\n",
       "    </tr>\n",
       "    <tr>\n",
       "      <th>14</th>\n",
       "      <td>0.338028</td>\n",
       "      <td>0.060416</td>\n",
       "      <td>0.009390</td>\n",
       "      <td>0.001400</td>\n",
       "    </tr>\n",
       "  </tbody>\n",
       "</table>\n",
       "</div>"
      ],
      "text/plain": [
       "    test-error-mean  test-error-std  train-error-mean  train-error-std\n",
       "0          0.425352        0.077861          0.196557         0.022594\n",
       "1          0.390141        0.078684          0.131456         0.014580\n",
       "2          0.378873        0.058903          0.106729         0.012496\n",
       "3          0.346479        0.051249          0.082785         0.015148\n",
       "4          0.356338        0.048811          0.068545         0.009818\n",
       "5          0.354930        0.049517          0.059937         0.007507\n",
       "6          0.359155        0.059506          0.047105         0.009375\n",
       "7          0.345070        0.059506          0.035211         0.007801\n",
       "8          0.343662        0.072696          0.029734         0.007731\n",
       "9          0.339437        0.061860          0.025039         0.005814\n",
       "10         0.342254        0.069301          0.020344         0.005330\n",
       "11         0.346479        0.062418          0.017214         0.003636\n",
       "12         0.352113        0.058072          0.013928         0.003987\n",
       "13         0.346479        0.055343          0.012207         0.004303\n",
       "14         0.338028        0.060416          0.009390         0.001400"
      ]
     },
     "execution_count": 221,
     "metadata": {},
     "output_type": "execute_result"
    }
   ],
   "source": [
    "cv_xgb"
   ]
  },
  {
   "cell_type": "code",
   "execution_count": 223,
   "metadata": {},
   "outputs": [],
   "source": [
    "final_gb = xgb.train(our_params, xgdmat, num_boost_round = 14)"
   ]
  },
  {
   "cell_type": "code",
   "execution_count": 227,
   "metadata": {},
   "outputs": [],
   "source": [
    "y = final_gb.predict(xgb.DMatrix(feature_matrix.iloc[:712]))\n",
    "y = [round(i) for i in y]\n",
    "z = results.iloc[:712]"
   ]
  },
  {
   "cell_type": "code",
   "execution_count": 228,
   "metadata": {
    "collapsed": true
   },
   "outputs": [],
   "source": [
    "def accuracy_predictor2(lst1, lst2):\n",
    "    lst = []\n",
    "    for i in range(len(lst1)):\n",
    "        x = (lst1[i]<1)\n",
    "        y = (lst2[i]<1)\n",
    "        if(x==y):\n",
    "            lst.append(1)\n",
    "        else:\n",
    "            lst.append(0)\n",
    "    return lst"
   ]
  },
  {
   "cell_type": "code",
   "execution_count": 229,
   "metadata": {},
   "outputs": [
    {
     "name": "stdout",
     "output_type": "stream",
     "text": [
      "0.9817415730337079\n"
     ]
    }
   ],
   "source": [
    "accuracy2 = accuracy_predictor2(y, z.tolist())\n",
    "print(sum(accuracy2)/len(accuracy2))"
   ]
  },
  {
   "cell_type": "code",
   "execution_count": 230,
   "metadata": {
    "collapsed": true
   },
   "outputs": [],
   "source": [
    "xgbmat = xgb.DMatrix(features[:712], results.iloc[:712])"
   ]
  },
  {
   "cell_type": "code",
   "execution_count": 231,
   "metadata": {
    "collapsed": true
   },
   "outputs": [],
   "source": [
    "cv_params = {'max_depth': [5,7, 9], 'min_child_weight': [5, 7, 9], \n",
    "             'learning_rate': [0.1, .01, 0.005, .001], 'n_estimators' : [50, 100, 500]}\n",
    "ind_params = {'seed':0, 'subsample': 0.8, 'colsample_bytree': 0.8, 'objective':'reg:linear'}\n",
    "optimized_GBM = GridSearchCV(xgb.XGBClassifier(**ind_params), \n",
    "                            cv_params, \n",
    "                             scoring = 'accuracy', cv = 5, n_jobs = -1)"
   ]
  },
  {
   "cell_type": "code",
   "execution_count": 233,
   "metadata": {},
   "outputs": [
    {
     "data": {
      "text/plain": [
       "GridSearchCV(cv=5, error_score='raise',\n",
       "       estimator=XGBClassifier(base_score=0.5, colsample_bylevel=1, colsample_bytree=0.8,\n",
       "       gamma=0, learning_rate=0.1, max_delta_step=0, max_depth=3,\n",
       "       min_child_weight=1, missing=None, n_estimators=100, nthread=-1,\n",
       "       objective='reg:linear', reg_alpha=0, reg_lambda=1,\n",
       "       scale_pos_weight=1, seed=0, silent=True, subsample=0.8),\n",
       "       fit_params={}, iid=True, n_jobs=-1,\n",
       "       param_grid={'max_depth': [5, 7, 9], 'min_child_weight': [5, 7, 9], 'learning_rate': [0.1, 0.01, 0.005, 0.001], 'n_estimators': [50, 100, 500]},\n",
       "       pre_dispatch='2*n_jobs', refit=True, scoring='accuracy', verbose=0)"
      ]
     },
     "execution_count": 233,
     "metadata": {},
     "output_type": "execute_result"
    }
   ],
   "source": [
    "optimized_GBM.fit(features[:712], results.iloc[:712])"
   ]
  },
  {
   "cell_type": "code",
   "execution_count": 234,
   "metadata": {},
   "outputs": [
    {
     "data": {
      "text/plain": [
       "[mean: 0.32725, std: 0.18695, params: {'learning_rate': 0.1, 'max_depth': 5, 'min_child_weight': 5, 'n_estimators': 50},\n",
       " mean: 0.30337, std: 0.18775, params: {'learning_rate': 0.1, 'max_depth': 5, 'min_child_weight': 5, 'n_estimators': 100},\n",
       " mean: 0.31039, std: 0.18493, params: {'learning_rate': 0.1, 'max_depth': 5, 'min_child_weight': 5, 'n_estimators': 500},\n",
       " mean: 0.31039, std: 0.19287, params: {'learning_rate': 0.1, 'max_depth': 5, 'min_child_weight': 7, 'n_estimators': 50},\n",
       " mean: 0.31320, std: 0.18483, params: {'learning_rate': 0.1, 'max_depth': 5, 'min_child_weight': 7, 'n_estimators': 100},\n",
       " mean: 0.31180, std: 0.18229, params: {'learning_rate': 0.1, 'max_depth': 5, 'min_child_weight': 7, 'n_estimators': 500},\n",
       " mean: 0.31742, std: 0.18246, params: {'learning_rate': 0.1, 'max_depth': 5, 'min_child_weight': 9, 'n_estimators': 50},\n",
       " mean: 0.30056, std: 0.18706, params: {'learning_rate': 0.1, 'max_depth': 5, 'min_child_weight': 9, 'n_estimators': 100},\n",
       " mean: 0.30197, std: 0.18812, params: {'learning_rate': 0.1, 'max_depth': 5, 'min_child_weight': 9, 'n_estimators': 500},\n",
       " mean: 0.31461, std: 0.20392, params: {'learning_rate': 0.1, 'max_depth': 7, 'min_child_weight': 5, 'n_estimators': 50},\n",
       " mean: 0.31039, std: 0.20201, params: {'learning_rate': 0.1, 'max_depth': 7, 'min_child_weight': 5, 'n_estimators': 100},\n",
       " mean: 0.30899, std: 0.20118, params: {'learning_rate': 0.1, 'max_depth': 7, 'min_child_weight': 5, 'n_estimators': 500},\n",
       " mean: 0.31180, std: 0.18606, params: {'learning_rate': 0.1, 'max_depth': 7, 'min_child_weight': 7, 'n_estimators': 50},\n",
       " mean: 0.30899, std: 0.18915, params: {'learning_rate': 0.1, 'max_depth': 7, 'min_child_weight': 7, 'n_estimators': 100},\n",
       " mean: 0.31180, std: 0.18701, params: {'learning_rate': 0.1, 'max_depth': 7, 'min_child_weight': 7, 'n_estimators': 500},\n",
       " mean: 0.30758, std: 0.18409, params: {'learning_rate': 0.1, 'max_depth': 7, 'min_child_weight': 9, 'n_estimators': 50},\n",
       " mean: 0.30899, std: 0.18795, params: {'learning_rate': 0.1, 'max_depth': 7, 'min_child_weight': 9, 'n_estimators': 100},\n",
       " mean: 0.30618, std: 0.19089, params: {'learning_rate': 0.1, 'max_depth': 7, 'min_child_weight': 9, 'n_estimators': 500},\n",
       " mean: 0.31039, std: 0.19683, params: {'learning_rate': 0.1, 'max_depth': 9, 'min_child_weight': 5, 'n_estimators': 50},\n",
       " mean: 0.30899, std: 0.20250, params: {'learning_rate': 0.1, 'max_depth': 9, 'min_child_weight': 5, 'n_estimators': 100},\n",
       " mean: 0.31180, std: 0.20192, params: {'learning_rate': 0.1, 'max_depth': 9, 'min_child_weight': 5, 'n_estimators': 500},\n",
       " mean: 0.29494, std: 0.18689, params: {'learning_rate': 0.1, 'max_depth': 9, 'min_child_weight': 7, 'n_estimators': 50},\n",
       " mean: 0.30478, std: 0.19357, params: {'learning_rate': 0.1, 'max_depth': 9, 'min_child_weight': 7, 'n_estimators': 100},\n",
       " mean: 0.30197, std: 0.18943, params: {'learning_rate': 0.1, 'max_depth': 9, 'min_child_weight': 7, 'n_estimators': 500},\n",
       " mean: 0.29775, std: 0.19155, params: {'learning_rate': 0.1, 'max_depth': 9, 'min_child_weight': 9, 'n_estimators': 50},\n",
       " mean: 0.31180, std: 0.19353, params: {'learning_rate': 0.1, 'max_depth': 9, 'min_child_weight': 9, 'n_estimators': 100},\n",
       " mean: 0.30618, std: 0.19800, params: {'learning_rate': 0.1, 'max_depth': 9, 'min_child_weight': 9, 'n_estimators': 500},\n",
       " mean: 0.31180, std: 0.19545, params: {'learning_rate': 0.01, 'max_depth': 5, 'min_child_weight': 5, 'n_estimators': 50},\n",
       " mean: 0.31742, std: 0.20023, params: {'learning_rate': 0.01, 'max_depth': 5, 'min_child_weight': 5, 'n_estimators': 100},\n",
       " mean: 0.31461, std: 0.20613, params: {'learning_rate': 0.01, 'max_depth': 5, 'min_child_weight': 5, 'n_estimators': 500},\n",
       " mean: 0.31742, std: 0.19995, params: {'learning_rate': 0.01, 'max_depth': 5, 'min_child_weight': 7, 'n_estimators': 50},\n",
       " mean: 0.31461, std: 0.20321, params: {'learning_rate': 0.01, 'max_depth': 5, 'min_child_weight': 7, 'n_estimators': 100},\n",
       " mean: 0.31601, std: 0.20682, params: {'learning_rate': 0.01, 'max_depth': 5, 'min_child_weight': 7, 'n_estimators': 500},\n",
       " mean: 0.31320, std: 0.20135, params: {'learning_rate': 0.01, 'max_depth': 5, 'min_child_weight': 9, 'n_estimators': 50},\n",
       " mean: 0.30899, std: 0.20893, params: {'learning_rate': 0.01, 'max_depth': 5, 'min_child_weight': 9, 'n_estimators': 100},\n",
       " mean: 0.31180, std: 0.21267, params: {'learning_rate': 0.01, 'max_depth': 5, 'min_child_weight': 9, 'n_estimators': 500},\n",
       " mean: 0.31320, std: 0.19946, params: {'learning_rate': 0.01, 'max_depth': 7, 'min_child_weight': 5, 'n_estimators': 50},\n",
       " mean: 0.30337, std: 0.20181, params: {'learning_rate': 0.01, 'max_depth': 7, 'min_child_weight': 5, 'n_estimators': 100},\n",
       " mean: 0.30618, std: 0.21290, params: {'learning_rate': 0.01, 'max_depth': 7, 'min_child_weight': 5, 'n_estimators': 500},\n",
       " mean: 0.31180, std: 0.19545, params: {'learning_rate': 0.01, 'max_depth': 7, 'min_child_weight': 7, 'n_estimators': 50},\n",
       " mean: 0.30337, std: 0.19710, params: {'learning_rate': 0.01, 'max_depth': 7, 'min_child_weight': 7, 'n_estimators': 100},\n",
       " mean: 0.30899, std: 0.20431, params: {'learning_rate': 0.01, 'max_depth': 7, 'min_child_weight': 7, 'n_estimators': 500},\n",
       " mean: 0.30197, std: 0.20389, params: {'learning_rate': 0.01, 'max_depth': 7, 'min_child_weight': 9, 'n_estimators': 50},\n",
       " mean: 0.29635, std: 0.20528, params: {'learning_rate': 0.01, 'max_depth': 7, 'min_child_weight': 9, 'n_estimators': 100},\n",
       " mean: 0.30758, std: 0.20643, params: {'learning_rate': 0.01, 'max_depth': 7, 'min_child_weight': 9, 'n_estimators': 500},\n",
       " mean: 0.30478, std: 0.19670, params: {'learning_rate': 0.01, 'max_depth': 9, 'min_child_weight': 5, 'n_estimators': 50},\n",
       " mean: 0.29916, std: 0.20187, params: {'learning_rate': 0.01, 'max_depth': 9, 'min_child_weight': 5, 'n_estimators': 100},\n",
       " mean: 0.29916, std: 0.20645, params: {'learning_rate': 0.01, 'max_depth': 9, 'min_child_weight': 5, 'n_estimators': 500},\n",
       " mean: 0.31601, std: 0.19664, params: {'learning_rate': 0.01, 'max_depth': 9, 'min_child_weight': 7, 'n_estimators': 50},\n",
       " mean: 0.31461, std: 0.19866, params: {'learning_rate': 0.01, 'max_depth': 9, 'min_child_weight': 7, 'n_estimators': 100},\n",
       " mean: 0.30618, std: 0.19906, params: {'learning_rate': 0.01, 'max_depth': 9, 'min_child_weight': 7, 'n_estimators': 500},\n",
       " mean: 0.30618, std: 0.20413, params: {'learning_rate': 0.01, 'max_depth': 9, 'min_child_weight': 9, 'n_estimators': 50},\n",
       " mean: 0.30478, std: 0.21134, params: {'learning_rate': 0.01, 'max_depth': 9, 'min_child_weight': 9, 'n_estimators': 100},\n",
       " mean: 0.30618, std: 0.20073, params: {'learning_rate': 0.01, 'max_depth': 9, 'min_child_weight': 9, 'n_estimators': 500},\n",
       " mean: 0.32163, std: 0.19405, params: {'learning_rate': 0.005, 'max_depth': 5, 'min_child_weight': 5, 'n_estimators': 50},\n",
       " mean: 0.31742, std: 0.19565, params: {'learning_rate': 0.005, 'max_depth': 5, 'min_child_weight': 5, 'n_estimators': 100},\n",
       " mean: 0.31320, std: 0.20266, params: {'learning_rate': 0.005, 'max_depth': 5, 'min_child_weight': 5, 'n_estimators': 500},\n",
       " mean: 0.31461, std: 0.19491, params: {'learning_rate': 0.005, 'max_depth': 5, 'min_child_weight': 7, 'n_estimators': 50},\n",
       " mean: 0.31882, std: 0.19550, params: {'learning_rate': 0.005, 'max_depth': 5, 'min_child_weight': 7, 'n_estimators': 100},\n",
       " mean: 0.31742, std: 0.20106, params: {'learning_rate': 0.005, 'max_depth': 5, 'min_child_weight': 7, 'n_estimators': 500},\n",
       " mean: 0.31180, std: 0.20084, params: {'learning_rate': 0.005, 'max_depth': 5, 'min_child_weight': 9, 'n_estimators': 50},\n",
       " mean: 0.30899, std: 0.19891, params: {'learning_rate': 0.005, 'max_depth': 5, 'min_child_weight': 9, 'n_estimators': 100},\n",
       " mean: 0.31039, std: 0.20706, params: {'learning_rate': 0.005, 'max_depth': 5, 'min_child_weight': 9, 'n_estimators': 500},\n",
       " mean: 0.30758, std: 0.20347, params: {'learning_rate': 0.005, 'max_depth': 7, 'min_child_weight': 5, 'n_estimators': 50},\n",
       " mean: 0.30899, std: 0.19842, params: {'learning_rate': 0.005, 'max_depth': 7, 'min_child_weight': 5, 'n_estimators': 100},\n",
       " mean: 0.30758, std: 0.21199, params: {'learning_rate': 0.005, 'max_depth': 7, 'min_child_weight': 5, 'n_estimators': 500},\n",
       " mean: 0.30758, std: 0.19596, params: {'learning_rate': 0.005, 'max_depth': 7, 'min_child_weight': 7, 'n_estimators': 50},\n",
       " mean: 0.31461, std: 0.20178, params: {'learning_rate': 0.005, 'max_depth': 7, 'min_child_weight': 7, 'n_estimators': 100},\n",
       " mean: 0.30478, std: 0.20885, params: {'learning_rate': 0.005, 'max_depth': 7, 'min_child_weight': 7, 'n_estimators': 500},\n",
       " mean: 0.31039, std: 0.20301, params: {'learning_rate': 0.005, 'max_depth': 7, 'min_child_weight': 9, 'n_estimators': 50},\n",
       " mean: 0.31180, std: 0.19833, params: {'learning_rate': 0.005, 'max_depth': 7, 'min_child_weight': 9, 'n_estimators': 100},\n",
       " mean: 0.31039, std: 0.20895, params: {'learning_rate': 0.005, 'max_depth': 7, 'min_child_weight': 9, 'n_estimators': 500},\n",
       " mean: 0.30899, std: 0.19863, params: {'learning_rate': 0.005, 'max_depth': 9, 'min_child_weight': 5, 'n_estimators': 50},\n",
       " mean: 0.30899, std: 0.19739, params: {'learning_rate': 0.005, 'max_depth': 9, 'min_child_weight': 5, 'n_estimators': 100},\n",
       " mean: 0.30197, std: 0.21165, params: {'learning_rate': 0.005, 'max_depth': 9, 'min_child_weight': 5, 'n_estimators': 500},\n",
       " mean: 0.30056, std: 0.19501, params: {'learning_rate': 0.005, 'max_depth': 9, 'min_child_weight': 7, 'n_estimators': 50},\n",
       " mean: 0.31039, std: 0.20279, params: {'learning_rate': 0.005, 'max_depth': 9, 'min_child_weight': 7, 'n_estimators': 100},\n",
       " mean: 0.30758, std: 0.20846, params: {'learning_rate': 0.005, 'max_depth': 9, 'min_child_weight': 7, 'n_estimators': 500},\n",
       " mean: 0.31601, std: 0.19994, params: {'learning_rate': 0.005, 'max_depth': 9, 'min_child_weight': 9, 'n_estimators': 50},\n",
       " mean: 0.31180, std: 0.20230, params: {'learning_rate': 0.005, 'max_depth': 9, 'min_child_weight': 9, 'n_estimators': 100},\n",
       " mean: 0.30618, std: 0.20338, params: {'learning_rate': 0.005, 'max_depth': 9, 'min_child_weight': 9, 'n_estimators': 500},\n",
       " mean: 0.32163, std: 0.19556, params: {'learning_rate': 0.001, 'max_depth': 5, 'min_child_weight': 5, 'n_estimators': 50},\n",
       " mean: 0.31320, std: 0.19762, params: {'learning_rate': 0.001, 'max_depth': 5, 'min_child_weight': 5, 'n_estimators': 100},\n",
       " mean: 0.30899, std: 0.20188, params: {'learning_rate': 0.001, 'max_depth': 5, 'min_child_weight': 5, 'n_estimators': 500},\n",
       " mean: 0.31461, std: 0.19500, params: {'learning_rate': 0.001, 'max_depth': 5, 'min_child_weight': 7, 'n_estimators': 50},\n",
       " mean: 0.32022, std: 0.19229, params: {'learning_rate': 0.001, 'max_depth': 5, 'min_child_weight': 7, 'n_estimators': 100},\n",
       " mean: 0.31742, std: 0.19965, params: {'learning_rate': 0.001, 'max_depth': 5, 'min_child_weight': 7, 'n_estimators': 500},\n",
       " mean: 0.31180, std: 0.19488, params: {'learning_rate': 0.001, 'max_depth': 5, 'min_child_weight': 9, 'n_estimators': 50},\n",
       " mean: 0.31601, std: 0.19342, params: {'learning_rate': 0.001, 'max_depth': 5, 'min_child_weight': 9, 'n_estimators': 100},\n",
       " mean: 0.31882, std: 0.20048, params: {'learning_rate': 0.001, 'max_depth': 5, 'min_child_weight': 9, 'n_estimators': 500},\n",
       " mean: 0.31320, std: 0.20522, params: {'learning_rate': 0.001, 'max_depth': 7, 'min_child_weight': 5, 'n_estimators': 50},\n",
       " mean: 0.31320, std: 0.19768, params: {'learning_rate': 0.001, 'max_depth': 7, 'min_child_weight': 5, 'n_estimators': 100},\n",
       " mean: 0.30899, std: 0.19960, params: {'learning_rate': 0.001, 'max_depth': 7, 'min_child_weight': 5, 'n_estimators': 500},\n",
       " mean: 0.30899, std: 0.19995, params: {'learning_rate': 0.001, 'max_depth': 7, 'min_child_weight': 7, 'n_estimators': 50},\n",
       " mean: 0.31039, std: 0.19860, params: {'learning_rate': 0.001, 'max_depth': 7, 'min_child_weight': 7, 'n_estimators': 100},\n",
       " mean: 0.30758, std: 0.20447, params: {'learning_rate': 0.001, 'max_depth': 7, 'min_child_weight': 7, 'n_estimators': 500},\n",
       " mean: 0.30197, std: 0.19757, params: {'learning_rate': 0.001, 'max_depth': 7, 'min_child_weight': 9, 'n_estimators': 50},\n",
       " mean: 0.31320, std: 0.19469, params: {'learning_rate': 0.001, 'max_depth': 7, 'min_child_weight': 9, 'n_estimators': 100},\n",
       " mean: 0.31320, std: 0.20257, params: {'learning_rate': 0.001, 'max_depth': 7, 'min_child_weight': 9, 'n_estimators': 500},\n",
       " mean: 0.29916, std: 0.19654, params: {'learning_rate': 0.001, 'max_depth': 9, 'min_child_weight': 5, 'n_estimators': 50},\n",
       " mean: 0.30758, std: 0.20110, params: {'learning_rate': 0.001, 'max_depth': 9, 'min_child_weight': 5, 'n_estimators': 100},\n",
       " mean: 0.30618, std: 0.20338, params: {'learning_rate': 0.001, 'max_depth': 9, 'min_child_weight': 5, 'n_estimators': 500},\n",
       " mean: 0.30899, std: 0.19614, params: {'learning_rate': 0.001, 'max_depth': 9, 'min_child_weight': 7, 'n_estimators': 50},\n",
       " mean: 0.31039, std: 0.19681, params: {'learning_rate': 0.001, 'max_depth': 9, 'min_child_weight': 7, 'n_estimators': 100},\n",
       " mean: 0.30337, std: 0.20030, params: {'learning_rate': 0.001, 'max_depth': 9, 'min_child_weight': 7, 'n_estimators': 500},\n",
       " mean: 0.30478, std: 0.19679, params: {'learning_rate': 0.001, 'max_depth': 9, 'min_child_weight': 9, 'n_estimators': 50},\n",
       " mean: 0.30758, std: 0.19406, params: {'learning_rate': 0.001, 'max_depth': 9, 'min_child_weight': 9, 'n_estimators': 100},\n",
       " mean: 0.31320, std: 0.20969, params: {'learning_rate': 0.001, 'max_depth': 9, 'min_child_weight': 9, 'n_estimators': 500}]"
      ]
     },
     "execution_count": 234,
     "metadata": {},
     "output_type": "execute_result"
    }
   ],
   "source": [
    "optimized_GBM.grid_scores_"
   ]
  },
  {
   "cell_type": "code",
   "execution_count": 240,
   "metadata": {},
   "outputs": [
    {
     "name": "stderr",
     "output_type": "stream",
     "text": [
      "/Users/ericweltz/anaconda3/lib/python3.6/site-packages/ipykernel_launcher.py:1: SettingWithCopyWarning: \n",
      "A value is trying to be set on a copy of a slice from a DataFrame\n",
      "\n",
      "See the caveats in the documentation: http://pandas.pydata.org/pandas-docs/stable/indexing.html#indexing-view-versus-copy\n",
      "  \"\"\"Entry point for launching an IPython kernel.\n"
     ]
    }
   ],
   "source": [
    "results[results<0]=0\n",
    "our_params = {'eta': 0.1, 'seed':0, 'subsample': 0.8, 'colsample_bytree': 0.8, \n",
    "             'objective': 'reg:linear', 'max_depth':7, 'min_child_weight':7, 'n_estimators': 500} \n",
    "# Grid Search CV optimized settings\n",
    "\n",
    "xgdmat = xgb.DMatrix(features[:712], results.iloc[:712])\n",
    "\n",
    "cv_xgb = xgb.cv(params = our_params, dtrain = xgdmat, num_boost_round = 3000, nfold = 10,\n",
    "                metrics = ['error'], # Make sure you enter metrics inside a list or you may encounter issues!\n",
    "                early_stopping_rounds = 100) # Look for early stopping"
   ]
  },
  {
   "cell_type": "code",
   "execution_count": 241,
   "metadata": {},
   "outputs": [
    {
     "data": {
      "text/html": [
       "<div>\n",
       "<style>\n",
       "    .dataframe thead tr:only-child th {\n",
       "        text-align: right;\n",
       "    }\n",
       "\n",
       "    .dataframe thead th {\n",
       "        text-align: left;\n",
       "    }\n",
       "\n",
       "    .dataframe tbody tr th {\n",
       "        vertical-align: top;\n",
       "    }\n",
       "</style>\n",
       "<table border=\"1\" class=\"dataframe\">\n",
       "  <thead>\n",
       "    <tr style=\"text-align: right;\">\n",
       "      <th></th>\n",
       "      <th>test-error-mean</th>\n",
       "      <th>test-error-std</th>\n",
       "      <th>train-error-mean</th>\n",
       "      <th>train-error-std</th>\n",
       "    </tr>\n",
       "  </thead>\n",
       "  <tbody>\n",
       "    <tr>\n",
       "      <th>0</th>\n",
       "      <td>0.452113</td>\n",
       "      <td>0.080528</td>\n",
       "      <td>0.241784</td>\n",
       "      <td>0.013701</td>\n",
       "    </tr>\n",
       "    <tr>\n",
       "      <th>1</th>\n",
       "      <td>0.400000</td>\n",
       "      <td>0.077195</td>\n",
       "      <td>0.182316</td>\n",
       "      <td>0.011716</td>\n",
       "    </tr>\n",
       "    <tr>\n",
       "      <th>2</th>\n",
       "      <td>0.381690</td>\n",
       "      <td>0.058225</td>\n",
       "      <td>0.159311</td>\n",
       "      <td>0.013888</td>\n",
       "    </tr>\n",
       "    <tr>\n",
       "      <th>3</th>\n",
       "      <td>0.367606</td>\n",
       "      <td>0.060235</td>\n",
       "      <td>0.136776</td>\n",
       "      <td>0.012909</td>\n",
       "    </tr>\n",
       "    <tr>\n",
       "      <th>4</th>\n",
       "      <td>0.385915</td>\n",
       "      <td>0.057454</td>\n",
       "      <td>0.124413</td>\n",
       "      <td>0.011505</td>\n",
       "    </tr>\n",
       "    <tr>\n",
       "      <th>5</th>\n",
       "      <td>0.371831</td>\n",
       "      <td>0.052775</td>\n",
       "      <td>0.108607</td>\n",
       "      <td>0.008830</td>\n",
       "    </tr>\n",
       "    <tr>\n",
       "      <th>6</th>\n",
       "      <td>0.363380</td>\n",
       "      <td>0.073131</td>\n",
       "      <td>0.099217</td>\n",
       "      <td>0.006384</td>\n",
       "    </tr>\n",
       "    <tr>\n",
       "      <th>7</th>\n",
       "      <td>0.360564</td>\n",
       "      <td>0.057108</td>\n",
       "      <td>0.093114</td>\n",
       "      <td>0.009105</td>\n",
       "    </tr>\n",
       "    <tr>\n",
       "      <th>8</th>\n",
       "      <td>0.354930</td>\n",
       "      <td>0.069229</td>\n",
       "      <td>0.087637</td>\n",
       "      <td>0.008936</td>\n",
       "    </tr>\n",
       "    <tr>\n",
       "      <th>9</th>\n",
       "      <td>0.357747</td>\n",
       "      <td>0.064605</td>\n",
       "      <td>0.079186</td>\n",
       "      <td>0.007479</td>\n",
       "    </tr>\n",
       "    <tr>\n",
       "      <th>10</th>\n",
       "      <td>0.359155</td>\n",
       "      <td>0.072162</td>\n",
       "      <td>0.075117</td>\n",
       "      <td>0.007730</td>\n",
       "    </tr>\n",
       "    <tr>\n",
       "      <th>11</th>\n",
       "      <td>0.342254</td>\n",
       "      <td>0.073469</td>\n",
       "      <td>0.069014</td>\n",
       "      <td>0.008440</td>\n",
       "    </tr>\n",
       "    <tr>\n",
       "      <th>12</th>\n",
       "      <td>0.352113</td>\n",
       "      <td>0.064850</td>\n",
       "      <td>0.063380</td>\n",
       "      <td>0.009024</td>\n",
       "    </tr>\n",
       "    <tr>\n",
       "      <th>13</th>\n",
       "      <td>0.342254</td>\n",
       "      <td>0.062371</td>\n",
       "      <td>0.055712</td>\n",
       "      <td>0.007347</td>\n",
       "    </tr>\n",
       "    <tr>\n",
       "      <th>14</th>\n",
       "      <td>0.338028</td>\n",
       "      <td>0.064850</td>\n",
       "      <td>0.049922</td>\n",
       "      <td>0.005705</td>\n",
       "    </tr>\n",
       "  </tbody>\n",
       "</table>\n",
       "</div>"
      ],
      "text/plain": [
       "    test-error-mean  test-error-std  train-error-mean  train-error-std\n",
       "0          0.452113        0.080528          0.241784         0.013701\n",
       "1          0.400000        0.077195          0.182316         0.011716\n",
       "2          0.381690        0.058225          0.159311         0.013888\n",
       "3          0.367606        0.060235          0.136776         0.012909\n",
       "4          0.385915        0.057454          0.124413         0.011505\n",
       "5          0.371831        0.052775          0.108607         0.008830\n",
       "6          0.363380        0.073131          0.099217         0.006384\n",
       "7          0.360564        0.057108          0.093114         0.009105\n",
       "8          0.354930        0.069229          0.087637         0.008936\n",
       "9          0.357747        0.064605          0.079186         0.007479\n",
       "10         0.359155        0.072162          0.075117         0.007730\n",
       "11         0.342254        0.073469          0.069014         0.008440\n",
       "12         0.352113        0.064850          0.063380         0.009024\n",
       "13         0.342254        0.062371          0.055712         0.007347\n",
       "14         0.338028        0.064850          0.049922         0.005705"
      ]
     },
     "execution_count": 241,
     "metadata": {},
     "output_type": "execute_result"
    }
   ],
   "source": [
    "cv_xgb"
   ]
  },
  {
   "cell_type": "code",
   "execution_count": 246,
   "metadata": {},
   "outputs": [
    {
     "name": "stdout",
     "output_type": "stream",
     "text": [
      "0.5042016806722689\n"
     ]
    }
   ],
   "source": [
    "final_gb = xgb.train(our_params, xgdmat, num_boost_round = 10)\n",
    "y = final_gb.predict(xgb.DMatrix(features[712:]))\n",
    "y = [round(i) for i in y]\n",
    "z = results.iloc[712:]\n",
    "accuracy2 = accuracy_predictor2(y, z.tolist())\n",
    "print(sum(accuracy2)/len(accuracy2))"
   ]
  },
  {
   "cell_type": "code",
   "execution_count": 247,
   "metadata": {},
   "outputs": [
    {
     "data": {
      "text/plain": [
       "(950, 72)"
      ]
     },
     "execution_count": 247,
     "metadata": {},
     "output_type": "execute_result"
    }
   ],
   "source": [
    "feature_matrix.shape"
   ]
  },
  {
   "cell_type": "code",
   "execution_count": null,
   "metadata": {
    "collapsed": true
   },
   "outputs": [],
   "source": []
  }
 ],
 "metadata": {
  "kernelspec": {
   "display_name": "Python 3",
   "language": "python",
   "name": "python3"
  },
  "language_info": {
   "codemirror_mode": {
    "name": "ipython",
    "version": 3
   },
   "file_extension": ".py",
   "mimetype": "text/x-python",
   "name": "python",
   "nbconvert_exporter": "python",
   "pygments_lexer": "ipython3",
   "version": "3.6.8"
  }
 },
 "nbformat": 4,
 "nbformat_minor": 2
}
