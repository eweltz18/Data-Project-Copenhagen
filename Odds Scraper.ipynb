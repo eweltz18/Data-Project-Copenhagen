{
 "cells": [
  {
   "cell_type": "code",
   "execution_count": 1,
   "metadata": {},
   "outputs": [
    {
     "name": "stderr",
     "output_type": "stream",
     "text": [
      ":0: UserWarning: You do not have a working installation of the service_identity module: 'No module named 'service_identity''.  Please install it from <https://pypi.python.org/pypi/service_identity> and make sure all of its dependencies are satisfied.  Without the service_identity module, Twisted can perform only rudimentary TLS client hostname verification.  Many valid certificate/hostname mappings may be rejected.\n"
     ]
    }
   ],
   "source": [
    "import re\n",
    "import scrapy\n",
    "from scrapy.crawler import CrawlerProcess\n",
    "import logging\n",
    "import pandas as pd\n",
    "import numpy as np"
   ]
  },
  {
   "cell_type": "code",
   "execution_count": 2,
   "metadata": {
    "collapsed": true
   },
   "outputs": [],
   "source": [
    "#change date format\n",
    "def two_digits(x):\n",
    "    if x<10:\n",
    "        return str(0) + str(x)\n",
    "    else:\n",
    "        return str(x)"
   ]
  },
  {
   "cell_type": "code",
   "execution_count": null,
   "metadata": {
    "collapsed": true
   },
   "outputs": [],
   "source": [
    "#scrape from sportsbookreview\n",
    "url_template = 'https://www.sportsbookreview.com/betting-odds/nba-basketball/?date={year}{month}{day}'\n",
    "start_urls = []\n",
    "years = list(range(2007, 2020))\n",
    "months = ['01', '02', '03', '04', '05', '06', '10', '11', '12']\n",
    "days = list(range(1,32))\n",
    "for year in years:\n",
    "    year = str(year)\n",
    "    for month in months:\n",
    "        if(year + month > '200709'):\n",
    "            for day in days:\n",
    "                day = two_digits(day)\n",
    "                start_urls.append(url_template.format(year=year, month=month, day=day))"
   ]
  },
  {
   "cell_type": "code",
   "execution_count": null,
   "metadata": {},
   "outputs": [
    {
     "name": "stderr",
     "output_type": "stream",
     "text": [
      "2019-04-04 13:53:01 [scrapy.utils.log] INFO: Scrapy 1.6.0 started (bot: scrapybot)\n",
      "2019-04-04 13:53:01 [scrapy.utils.log] INFO: Versions: lxml 3.8.0.0, libxml2 2.9.9, cssselect 1.0.1, parsel 1.5.1, w3lib 1.17.0, Twisted 17.5.0, Python 3.6.8 |Anaconda custom (x86_64)| (default, Dec 29 2018, 19:04:46) - [GCC 4.2.1 Compatible Clang 4.0.1 (tags/RELEASE_401/final)], pyOpenSSL 19.0.0 (OpenSSL 1.1.1b  26 Feb 2019), cryptography 2.6.1, Platform Darwin-17.6.0-x86_64-i386-64bit\n",
      "2019-04-04 13:53:01 [scrapy.crawler] INFO: Overridden settings: {'FEED_FORMAT': 'json', 'FEED_URI': 'xxxxgames_odds.json'}\n",
      "2019-04-04 13:53:01 [scrapy.extensions.telnet] INFO: Telnet Password: 5bbdd2fc5e1f3ccc\n",
      "2019-04-04 13:53:01 [scrapy.middleware] INFO: Enabled extensions:\n",
      "['scrapy.extensions.corestats.CoreStats',\n",
      " 'scrapy.extensions.telnet.TelnetConsole',\n",
      " 'scrapy.extensions.memusage.MemoryUsage',\n",
      " 'scrapy.extensions.feedexport.FeedExporter',\n",
      " 'scrapy.extensions.logstats.LogStats']\n",
      "2019-04-04 13:53:01 [scrapy.middleware] INFO: Enabled downloader middlewares:\n",
      "['scrapy.downloadermiddlewares.httpauth.HttpAuthMiddleware',\n",
      " 'scrapy.downloadermiddlewares.downloadtimeout.DownloadTimeoutMiddleware',\n",
      " 'scrapy.downloadermiddlewares.defaultheaders.DefaultHeadersMiddleware',\n",
      " 'scrapy.downloadermiddlewares.useragent.UserAgentMiddleware',\n",
      " 'scrapy.downloadermiddlewares.retry.RetryMiddleware',\n",
      " 'scrapy.downloadermiddlewares.redirect.MetaRefreshMiddleware',\n",
      " 'scrapy.downloadermiddlewares.httpcompression.HttpCompressionMiddleware',\n",
      " 'scrapy.downloadermiddlewares.redirect.RedirectMiddleware',\n",
      " 'scrapy.downloadermiddlewares.cookies.CookiesMiddleware',\n",
      " 'scrapy.downloadermiddlewares.httpproxy.HttpProxyMiddleware',\n",
      " 'scrapy.downloadermiddlewares.stats.DownloaderStats']\n",
      "2019-04-04 13:53:01 [scrapy.middleware] INFO: Enabled spider middlewares:\n",
      "['scrapy.spidermiddlewares.httperror.HttpErrorMiddleware',\n",
      " 'scrapy.spidermiddlewares.offsite.OffsiteMiddleware',\n",
      " 'scrapy.spidermiddlewares.referer.RefererMiddleware',\n",
      " 'scrapy.spidermiddlewares.urllength.UrlLengthMiddleware',\n",
      " 'scrapy.spidermiddlewares.depth.DepthMiddleware']\n",
      "2019-04-04 13:53:01 [scrapy.middleware] INFO: Enabled item pipelines:\n",
      "[]\n",
      "2019-04-04 13:53:01 [scrapy.core.engine] INFO: Spider opened\n",
      "2019-04-04 13:53:01 [scrapy.extensions.logstats] INFO: Crawled 0 pages (at 0 pages/min), scraped 0 items (at 0 items/min)\n",
      "2019-04-04 13:53:01 [scrapy.extensions.telnet] INFO: Telnet console listening on 127.0.0.1:6023\n",
      "2019-04-04 13:53:10 [scrapy.crawler] INFO: Received SIGINT, shutting down gracefully. Send again to force \n",
      "2019-04-04 13:53:10 [scrapy.core.engine] INFO: Closing spider (shutdown)\n"
     ]
    }
   ],
   "source": [
    "#use scrapy to find betting data\n",
    "class OddsScraper(scrapy.Spider):\n",
    "    name = \"BettingOdds\"\n",
    "    start_urls = start_urls\n",
    "    custom_settings = {\n",
    "        #'LOG_LEVEL': logging.WARNING,\n",
    "        'FEED_FORMAT':'json',\n",
    "        'FEED_URI': 'games_odds.json'\n",
    "    }\n",
    "    \n",
    "    \n",
    "    #function to find all betting odds data for a given date\n",
    "    def parse(self, response):\n",
    "        n = 0\n",
    "        day = response.url[-2:]\n",
    "        month = response.url[-4:-2]\n",
    "        year = response.url[-8:-4]\n",
    "        odds_dict = {'years' : [], 'months' : [], 'days' : [], 'teams' : [], 'odds' : []}\n",
    "        for item in response.xpath(\"//*[@id='bettingOddsGridContainer']/div[contains(@class, '_1eZfC')]\\\n",
    "        /div[contains(@class, '_3A-gC _2DWLf _3zKaX')]//span[contains(@class, '_3O1Gx')]\"):\n",
    "            odds_dict['teams'].append(re.search('>.+<', item.extract())[0][1:-1])\n",
    "        for item in response.xpath(\"//*[@id='bettingOddsGridContainer']/div[contains(@class, '_1eZfC')]\\\n",
    "        /div[contains(@class, '_3A-gC _2DWLf _3zKaX')]/div[contains(@class, '_2uJuW')]\\\n",
    "        /div[contains(@class, '_1Nn7e _2-YDr _2ZO4X')]/section[contains(@class, '_2MuQm _1aLEi _2NFWr')]\\\n",
    "        //span[contains(@class, _1QEDd)]\"):\n",
    "            if '_1QEDd' in item.extract():\n",
    "                odd = ' '\n",
    "                x = re.findall('>[^/\"!]+<', item.extract())\n",
    "                for char in x:\n",
    "                    char = char.replace('½', '.5')\n",
    "                    odd += char[1:-1]\n",
    "                odds_dict['odds'].append(odd)\n",
    "                odds_dict['years'].append(year)\n",
    "                odds_dict['months'].append(month)\n",
    "                odds_dict['days'].append(day)\n",
    "        yield odds_dict\n",
    "process = CrawlerProcess()\n",
    "process.crawl(OddsScraper)\n",
    "process.start()"
   ]
  },
  {
   "cell_type": "code",
   "execution_count": null,
   "metadata": {
    "collapsed": true
   },
   "outputs": [],
   "source": [
    "#read odds data\n",
    "x = pd.read_json('games_odds.json') # get odds data\n",
    "x = x[x['days'].map(lambda d: len(d)) > 0] #removes blank lists rows from json\n",
    "x = x.values.tolist() #convert to list of list from df\n",
    "y = np.concatenate(x,1) #convert to 2D np array \n",
    "odds_df = pd.DataFrame(np.transpose(y), columns=['Day', 'Month', 'Odds', 'Team', 'Year'])\n",
    "odds_df = odds_df[['Day', 'Month', 'Year', 'Team', 'Odds']].sort_values(['Year', 'Month', 'Day'])"
   ]
  },
  {
   "cell_type": "code",
   "execution_count": null,
   "metadata": {
    "collapsed": true
   },
   "outputs": [],
   "source": [
    "home_df = pd.read_csv('homedf.csv')"
   ]
  },
  {
   "cell_type": "code",
   "execution_count": null,
   "metadata": {
    "collapsed": true
   },
   "outputs": [],
   "source": [
    "x = home_df[['Day', 'Month', 'Year']]"
   ]
  },
  {
   "cell_type": "code",
   "execution_count": null,
   "metadata": {
    "collapsed": true
   },
   "outputs": [],
   "source": [
    "x[x['Month']==10]"
   ]
  },
  {
   "cell_type": "code",
   "execution_count": null,
   "metadata": {
    "collapsed": true
   },
   "outputs": [],
   "source": [
    "odds_df[odds_df['Month']=='10']"
   ]
  },
  {
   "cell_type": "code",
   "execution_count": null,
   "metadata": {
    "collapsed": true
   },
   "outputs": [],
   "source": [
    "odds_df.to_csv('oddsdf.csv')"
   ]
  },
  {
   "cell_type": "code",
   "execution_count": null,
   "metadata": {
    "collapsed": true
   },
   "outputs": [],
   "source": []
  }
 ],
 "metadata": {
  "kernelspec": {
   "display_name": "Python 3",
   "language": "python",
   "name": "python3"
  },
  "language_info": {
   "codemirror_mode": {
    "name": "ipython",
    "version": 3
   },
   "file_extension": ".py",
   "mimetype": "text/x-python",
   "name": "python",
   "nbconvert_exporter": "python",
   "pygments_lexer": "ipython3",
   "version": "3.6.8"
  }
 },
 "nbformat": 4,
 "nbformat_minor": 2
}
