{
 "cells": [
  {
   "cell_type": "code",
   "execution_count": 1,
   "metadata": {},
   "outputs": [],
   "source": [
    "import pandas as pd\n",
    "import numpy as np\n",
    "import tensorflow as tf\n",
    "from sklearn.metrics import accuracy_score\n",
    "from sklearn.ensemble import RandomForestClassifier\n",
    "from sklearn.model_selection import train_test_split\n",
    "from sklearn import tree\n",
    "import matplotlib.pyplot as plt "
   ]
  },
  {
   "cell_type": "code",
   "execution_count": 2,
   "metadata": {},
   "outputs": [],
   "source": [
    "home = pd.read_csv('home_completed.csv')\n",
    "away = pd.read_csv('away_completed.csv')"
   ]
  },
  {
   "cell_type": "code",
   "execution_count": 3,
   "metadata": {},
   "outputs": [],
   "source": [
    "#put all data into one large data frame\n",
    "main = home.append(away, ignore_index=True).sort_values(['Checker']) # puts into date order\n",
    "#put columns into more organized order\n",
    "main = main[['Year','Month', 'Day' , 'Team', 'Spread', 'Line', '+/-', '3P', '3P%', '3PA', '3PAr', 'AST', 'BLK', 'DRB', 'Day',\n",
    "       'FG', 'FG%', 'FGA', 'FT', 'FT%', 'FTA', 'FTr', 'Home', 'Losses',\n",
    "        'ORB', 'PF', 'PTS', 'STL', 'Starters MP', 'TOV', 'TS%', 'Wins',\n",
    "        'eFG%',  'Checker']]\n",
    "#number of points a team won or lost by\n",
    "main['+/-'] = main['+/-']/5\n",
    "#puts the odds into floats\n",
    "main['Spread'] = main['Spread'].replace(' PK', '0').astype(float)\n",
    "#gets how many points a team went over or under the spread\n",
    "main['Cover'] = main['Spread'] + main['+/-']\n",
    "#true or false on whether a team covered the spread\n",
    "main['ATS'] = np.where(main['Cover'].isnull(), np.nan,\n",
    "          np.where(main['Cover'] > 0,   1, 0))\n",
    "teams = list(main['Team'])\n",
    "new_teams = []\n",
    "#adds the opponent to the df\n",
    "for i in range(0, len(teams), 2):\n",
    "    new_teams.append(teams[i+1])\n",
    "    new_teams.append(teams[i])\n",
    "main['Opponent'] = new_teams\n",
    "main = main.dropna()"
   ]
  },
  {
   "cell_type": "code",
   "execution_count": 4,
   "metadata": {},
   "outputs": [],
   "source": [
    "#function to create our engineered features for the team provided\n",
    "def team_df(team):\n",
    "    t = main[main['Team']== team].reset_index()\n",
    "    del t['index']\n",
    "    t['Season'] = t['Checker'].apply(season) #define what season a game is played\n",
    "    t['Games Played'] = t['Wins'] + t['Losses'] #total games played\n",
    "    #create running averages for all stats up to a given game date\n",
    "    t_df = pd.DataFrame()\n",
    "    for year in years:\n",
    "        temp = t[t['Season']==year].reset_index()\n",
    "        temp['Avg Win/Loss'] = (temp['+/-'].cumsum() - temp['+/-'])/temp.index\n",
    "        temp['Avg 3P'] = (temp['3P'].cumsum() - temp['3P'])/temp.index\n",
    "        temp['Avg 3PA'] = (temp['3PA'].cumsum() - temp['3PA'])/temp.index\n",
    "        temp['Avg 3P%'] = (temp['Avg 3P']/temp['Avg 3PA'])\n",
    "        temp['Avg Starter MP'] = (temp['Starters MP'].cumsum() - temp['Starters MP'])/temp.index\n",
    "        temp['Avg AST'] = (temp['AST'].cumsum() - temp['AST'])/temp.index\n",
    "        temp['Avg BLK'] = (temp['BLK'].cumsum() - temp['BLK'])/temp.index\n",
    "        temp['Avg DRB'] = (temp['DRB'].cumsum() - temp['DRB'])/temp.index\n",
    "        temp['Avg ORB'] = (temp['ORB'].cumsum() - temp['ORB'])/temp.index\n",
    "        temp['Avg FG'] = (temp['FG'].cumsum() - temp['FG'])/temp.index\n",
    "        temp['Avg FGA'] = (temp['FGA'].cumsum() - temp['FGA'])/temp.index\n",
    "        temp['Avg FG%'] = (temp['Avg FG']/temp['Avg FGA'])\n",
    "        temp['Avg FT'] = (temp['FT'].cumsum() - temp['FT'])/temp.index\n",
    "        temp['Avg FTA'] = (temp['FTA'].cumsum() - temp['FTA'])/temp.index\n",
    "        temp['Avg 3PAr'] = (temp['Avg 3PA']/temp['Avg FGA'])\n",
    "        temp['Avg FTr'] = (temp['Avg FTA']/temp['Avg FGA'])\n",
    "        temp['Avg 3P%'] = (temp['Avg FT']/temp['Avg FTA'])/temp.index\n",
    "        temp['Avg PF'] = (temp['PF'].cumsum() - temp['PF'])/temp.index\n",
    "        temp['Avg PTS'] = (temp['PTS'].cumsum() - temp['PTS'])/temp.index\n",
    "        temp['Avg STL'] = (temp['STL'].cumsum() - temp['STL'])/temp.index\n",
    "        temp['Avg TOV'] = (temp['TOV'].cumsum() - temp['TOV'])/temp.index\n",
    "        temp['Avg TS%'] = temp['Avg PTS']/ (2*(temp['Avg FGA'] + .44 * temp['Avg FTA']))\n",
    "        temp['Avg eFG%'] = (temp['Avg FG'] + .5 * temp['Avg 3P'])/ temp['Avg FGA']\n",
    "        temp['Avg Starter MP'] = (temp['Starters MP'].cumsum() - temp['Starters MP'])/temp.index\n",
    "        temp['Winning Percentage'] = temp['Wins']/temp.index\n",
    "        temp['5 Game Win/Loss'] = temp['+/-'].rolling(5, min_periods=1).sum()-temp['+/-']\n",
    "        temp['5 Game 3P'] = temp['3P'].rolling(5, min_periods=1).sum() - temp['3P']\n",
    "        temp['5 Game 3PA'] = temp['3PA'].rolling(5, min_periods=1).sum()- temp['3PA']\n",
    "        temp['5 Game 3P%'] = temp['5 Game 3P']/temp['5 Game 3PA']\n",
    "        temp['5 Game Starter MP'] = temp['Starters MP'].rolling(5, min_periods=1).sum()-temp['Starters MP']\n",
    "        temp['5 Game AST'] = temp['AST'].rolling(5, min_periods=1).sum() - temp['AST']\n",
    "        temp['5 Game BLK'] = temp['BLK'].rolling(5, min_periods=1).sum() - temp['BLK']\n",
    "        temp['5 Game DRB'] = temp['DRB'].rolling(5, min_periods=1).sum() - temp['DRB']\n",
    "        temp['5 Game ORB'] = temp['ORB'].rolling(5, min_periods=1).sum() - temp['ORB']\n",
    "        temp['5 Game FG'] = temp['FG'].rolling(5, min_periods=1).sum() - temp['FG']\n",
    "        temp['5 Game FGA'] = temp['FGA'].rolling(5, min_periods=1).sum() - temp['FGA']\n",
    "        temp['5 Game FG%'] = temp['5 Game FG']/temp['5 Game FGA']\n",
    "        temp['5 Game FT'] = temp['FT'].rolling(5, min_periods=1).sum() - temp['FT']\n",
    "        temp['5 Game FTA'] = temp['FTA'].rolling(5, min_periods=1).sum() - temp['FTA']\n",
    "        temp['5 Game 3PAr'] = temp['5 Game 3PA']/temp['5 Game FGA']\n",
    "        temp['5 Game FTr'] = temp['5 Game FTA']/temp['5 Game FGA']\n",
    "        temp['5 Game 3P%'] = temp['5 Game FT']/temp['5 Game FTA']\n",
    "        temp['5 Game PF'] = temp['PF'].rolling(5, min_periods=1).sum() - temp['PF']\n",
    "        temp['5 Game PTS'] = temp['PTS'].rolling(5, min_periods=1).sum() - temp['PTS']\n",
    "        temp['5 Game STL'] = temp['STL'].rolling(5, min_periods=1).sum() - temp['STL']\n",
    "        temp['5 Game TOV'] = temp['TOV'].rolling(5, min_periods=1).sum() - temp['TOV']\n",
    "        temp['5 Game TS%'] = temp['5 Game PTS']/ (2*(temp['5 Game FGA'] + .44 * temp['5 Game FTA']))\n",
    "        temp['5 Game eFG%'] = (temp['5 Game FG'] + .5 * temp['5 Game 3P'])/ temp['5 Game FGA']\n",
    "        t_df = t_df.append(temp)\n",
    "    return t_df"
   ]
  },
  {
   "cell_type": "code",
   "execution_count": 5,
   "metadata": {},
   "outputs": [],
   "source": [
    "#put each row into a season give the date of the game\n",
    "def season(date):\n",
    "    date = date[:6]\n",
    "    if date < '200809':\n",
    "        return '2007'\n",
    "    elif date < '200909':\n",
    "        return '2008'\n",
    "    elif date < '201009':\n",
    "        return '2009'\n",
    "    elif date < '201109':\n",
    "        return '2010'\n",
    "    elif date < '201109':\n",
    "        return '2010'\n",
    "    elif date < '201209':\n",
    "        return '2011'\n",
    "    elif date < '201309':\n",
    "        return '2012'\n",
    "    elif date < '201409':\n",
    "        return '2013'\n",
    "    elif date < '201509':\n",
    "        return '2014'\n",
    "    elif date < '201609':\n",
    "        return '2015'\n",
    "    elif date < '201709':\n",
    "        return '2016'\n",
    "    elif date < '201809':\n",
    "        return '2017'\n",
    "    elif date < '201909':\n",
    "        return '2018'"
   ]
  },
  {
   "cell_type": "code",
   "execution_count": 6,
   "metadata": {},
   "outputs": [],
   "source": [
    "#store the teams\n",
    "teams = set(teams)\n",
    "years = ['2007', '2008', '2009', '2010', '2011', '2012', '2013', '2014', '2015', '2016', '2017', '2018']\n",
    "#hold data for each team in a dictionary where the key is the team and the value is the data\n",
    "all_team_data = {}\n",
    "for team in teams:\n",
    "    all_team_data[team] = team_df(team)"
   ]
  },
  {
   "cell_type": "code",
   "execution_count": 7,
   "metadata": {},
   "outputs": [],
   "source": [
    "#create one large data frame with all data from each team\n",
    "giant_df = pd.DataFrame()\n",
    "for df in all_team_data.values():\n",
    "    giant_df = giant_df.append(df)"
   ]
  },
  {
   "cell_type": "code",
   "execution_count": 8,
   "metadata": {},
   "outputs": [],
   "source": [
    "#add opponent game features to row of each game in its team specific dataframe\n",
    "for team in teams:\n",
    "    t = all_team_data[team]\n",
    "    opp = giant_df[giant_df['Opponent']==team]\n",
    "    opp = opp.rename(columns = {'Avg Win/Loss':'oppAvg Win/Loss', 'Avg 3P':'oppAvg 3P', 'Avg 3PA':'oppAvg 3PA' ,\n",
    "       'Avg 3P%':'oppAvg 3P%', 'Avg Starter MP':'oppAvg Starter MP', 'Avg AST':'oppAvg AST', 'Avg BLK':'oppAvg BLK', 'Avg DRB':'oppAvg DRB', 'Avg ORB':'oppAvg ORB',\n",
    "       'Avg FG':'oppAvg FG', 'Avg FGA':'oppAvg FGA', 'Avg FG%':'oppAvg FG%', 'Avg FT':'oppAvg FT', 'Avg FTA':'oppAvg FTA', 'Avg 3PAr':'oppAvg 3PAr',\n",
    "       'Avg FTr':'oppAvg FTr', 'Avg PF':'oppAvg PF', 'Avg PTS':'oppAvg PTS', 'Avg STL':'oppAvg STL', 'Avg TOV':'oppAvg TOV', 'Avg TS%':'oppAvg TS%',\n",
    "       'Avg eFG%':'oppAvg eFG%', 'Winning Percentage':'oppWinning Percentage'})\n",
    "    opp = opp.rename(columns = {'5 Game Win/Loss':'opp 5 Game Win/Loss', '5 Game 3P':'opp 5 Game 3P', '5 Game 3PA':'opp 5 Game 3PA',\n",
    "       '5 Game 3P%':'opp 5 Game 3P%', '5 Game Starter MP':'opp 5 Game Starter MP', '5 Game AST':'opp 5 Game AST', '5 Game BLK':'opp 5 Game BLK',\n",
    "       '5 Game DRB':'opp 5 Game DRB', '5 Game ORB':'opp 5 Game ORB',\n",
    "       '5 Game FG':'opp 5 Game FG', '5 Game FGA':'opp 5 Game FGA', '5 Game FG%':'opp 5 Game FG%', '5 Game FT':'opp 5 Game FT', '5 Game FTA':'opp 5 Game FTA', '5 Game 3PAr':'opp 5 Game 3PAr',\n",
    "       '5 Game FTr':'opp 5 Game FTr', '5 Game PF':'opp 5 Game PF', '5 Game PTS':'opp 5 Game PTS', '5 Game STL':'opp 5 Game STL', '5 Game TOV':'opp 5 Game TOV', '5 Game TS%':'opp 5 Game TS%',\n",
    "       '5 Game eFG%':'opp 5 Game eFG%'})\n",
    "    opp = opp[['Checker', 'oppAvg Win/Loss', 'oppAvg 3P', 'oppAvg 3PA',\n",
    "       'oppAvg 3P%', 'oppAvg Starter MP', 'oppAvg AST', 'oppAvg BLK',\n",
    "       'oppAvg DRB', 'oppAvg ORB', 'oppAvg FG', 'oppAvg FGA', 'oppAvg FG%',\n",
    "       'oppAvg FT', 'oppAvg FTA', 'oppAvg 3PAr', 'oppAvg FTr', 'oppAvg PF',\n",
    "       'oppAvg PTS', 'oppAvg STL', 'oppAvg TOV', 'oppAvg TS%', 'oppAvg eFG%',\n",
    "       'oppWinning Percentage', 'opp 5 Game Win/Loss', 'opp 5 Game 3P', 'opp 5 Game 3PA',\n",
    "       'opp 5 Game 3P%', 'opp 5 Game Starter MP', 'opp 5 Game AST', 'opp 5 Game BLK',\n",
    "       'opp 5 Game DRB', 'opp 5 Game ORB', 'opp 5 Game FG', 'opp 5 Game FGA', 'opp 5 Game FG%',\n",
    "       'opp 5 Game FT', 'opp 5 Game FTA', 'opp 5 Game 3PAr', 'opp 5 Game FTr', 'opp 5 Game PF',\n",
    "       'opp 5 Game PTS', 'opp 5 Game STL', 'opp 5 Game TOV', 'opp 5 Game TS%', 'opp 5 Game eFG%']]\n",
    "    all_team_data[team] = pd.merge(t,opp)"
   ]
  },
  {
   "cell_type": "code",
   "execution_count": 9,
   "metadata": {},
   "outputs": [],
   "source": [
    "#Philadelphia feature matrix\n",
    "phi = all_team_data['Philadelphia']"
   ]
  },
  {
   "cell_type": "code",
   "execution_count": 10,
   "metadata": {},
   "outputs": [],
   "source": [
    "#get necesarry data from phi matrix\n",
    "total_matrix = phi[['Cover', 'ATS', '+/-', 'Wins', 'Losses', 'Home', 'Avg Win/Loss', 'Avg 3P',\n",
    "       'Avg 3PA', 'Avg 3P%', 'Avg Starter MP', 'Avg AST', 'Avg BLK', 'Avg DRB',\n",
    "       'Avg ORB', 'Avg FG', 'Avg FGA', 'Avg FG%', 'Avg FT', 'Avg FTA',\n",
    "       'Avg 3PAr', 'Avg FTr', 'Avg PF', 'Avg PTS', 'Avg STL', 'Avg TOV',\n",
    "       'Avg TS%', 'Avg eFG%', 'Winning Percentage', 'oppAvg Win/Loss','oppAvg 3P',\n",
    "        'oppAvg 3PA', 'oppAvg 3P%', 'oppAvg Starter MP',\n",
    "        'oppAvg AST', 'oppAvg BLK', 'oppAvg DRB', 'oppAvg ORB', 'oppAvg FG',\n",
    "        'oppAvg FGA', 'oppAvg FG%', 'oppAvg FT', 'oppAvg FTA', 'oppAvg 3PAr',\n",
    "        'oppAvg FTr', 'oppAvg PF', 'oppAvg PTS', 'oppAvg STL', 'oppAvg TOV',\n",
    "        'oppAvg TS%', 'oppAvg eFG%', 'oppWinning Percentage', '5 Game Win/Loss', '5 Game 3P', '5 Game 3PA',\n",
    "       '5 Game 3P%', '5 Game Starter MP', '5 Game AST', '5 Game BLK',\n",
    "       '5 Game DRB', '5 Game ORB', '5 Game FG', '5 Game FGA', '5 Game FG%',\n",
    "       '5 Game FT', '5 Game FTA', '5 Game 3PAr', '5 Game FTr', '5 Game PF',\n",
    "       '5 Game PTS', '5 Game STL', '5 Game TOV', '5 Game TS%', '5 Game eFG%',\n",
    "       'opp 5 Game Win/Loss', 'opp 5 Game 3P', 'opp 5 Game 3PA',\n",
    "       'opp 5 Game 3P%', 'opp 5 Game Starter MP', 'opp 5 Game AST', 'opp 5 Game BLK',\n",
    "       'opp 5 Game DRB', 'opp 5 Game ORB', 'opp 5 Game FG', 'opp 5 Game FGA', 'opp 5 Game FG%',\n",
    "       'opp 5 Game FT', 'opp 5 Game FTA', 'opp 5 Game 3PAr', 'opp 5 Game FTr', 'opp 5 Game PF',\n",
    "       'opp 5 Game PTS', 'opp 5 Game STL', 'opp 5 Game TOV', 'opp 5 Game TS%', 'opp 5 Game eFG%']]\n",
    "total_matrix = total_matrix.dropna()"
   ]
  },
  {
   "cell_type": "code",
   "execution_count": 11,
   "metadata": {},
   "outputs": [],
   "source": [
    "#create philadelphia feature_matrix\n",
    "feature_matrix = total_matrix[['Wins', 'Losses', 'Home', 'Avg Win/Loss', 'Avg 3P',\n",
    "       'Avg 3PA', 'Avg Starter MP', 'Avg AST', 'Avg BLK', 'Avg DRB',\n",
    "       'Avg ORB', 'Avg FG', 'Avg FGA',\n",
    "       'Avg 3PAr', 'Avg FTr', 'Avg PF', 'Avg PTS', 'Avg STL', 'Avg TOV',\n",
    "       'Avg eFG%', 'oppAvg Win/Loss','oppAvg 3P',\n",
    "        'oppAvg 3PA', 'oppAvg Starter MP',\n",
    "        'oppAvg AST', 'oppAvg BLK', 'oppAvg DRB', 'oppAvg ORB', 'oppAvg FG',\n",
    "        'oppAvg FGA', 'oppAvg 3PAr',\n",
    "        'oppAvg FTr', 'oppAvg PF', 'oppAvg PTS', 'oppAvg STL', 'oppAvg TOV',\n",
    "        'oppAvg eFG%', 'oppWinning Percentage', '5 Game Win/Loss', '5 Game 3P', '5 Game 3PA',\n",
    "       '5 Game Starter MP', '5 Game AST', '5 Game BLK',\n",
    "       '5 Game DRB', '5 Game ORB', '5 Game FG', '5 Game FGA', \n",
    "       '5 Game 3PAr', '5 Game FTr', '5 Game PF',\n",
    "       '5 Game PTS', '5 Game STL', '5 Game TOV', '5 Game eFG%',\n",
    "       'opp 5 Game Win/Loss', 'opp 5 Game 3P', 'opp 5 Game 3PA',\n",
    "       'opp 5 Game Starter MP', 'opp 5 Game AST', 'opp 5 Game BLK',\n",
    "       'opp 5 Game DRB', 'opp 5 Game ORB', 'opp 5 Game FG', 'opp 5 Game FGA', \n",
    "       'opp 5 Game 3PAr', 'opp 5 Game FTr', 'opp 5 Game PF',\n",
    "       'opp 5 Game PTS', 'opp 5 Game STL', 'opp 5 Game TOV', 'opp 5 Game eFG%']]"
   ]
  },
  {
   "cell_type": "code",
   "execution_count": 12,
   "metadata": {},
   "outputs": [
    {
     "data": {
      "text/plain": [
       "72"
      ]
     },
     "execution_count": 12,
     "metadata": {},
     "output_type": "execute_result"
    }
   ],
   "source": [
    "len(feature_matrix.columns)"
   ]
  },
  {
   "cell_type": "code",
   "execution_count": 13,
   "metadata": {},
   "outputs": [],
   "source": [
    "results = total_matrix['+/-']\n",
    "#create target matrix \n",
    "# 0 = loss, 1 = win\n",
    "temp_target = results.values"
   ]
  },
  {
   "cell_type": "code",
   "execution_count": 14,
   "metadata": {},
   "outputs": [],
   "source": [
    "#function to create a target matrix given the +/- of the game\n",
    "def create_target(temp_target):\n",
    "    target = []\n",
    "    for result in temp_target:\n",
    "        if result < 0:\n",
    "            target.append(0)\n",
    "        elif result >= 0:\n",
    "            target.append(1)\n",
    "    return target\n",
    "target = create_target(temp_target)"
   ]
  },
  {
   "cell_type": "code",
   "execution_count": 15,
   "metadata": {},
   "outputs": [],
   "source": [
    "#split the philalphia data into training and testing data\n",
    "feature_train, feature_test, target_train, target_test = train_test_split(feature_matrix, target, test_size=0.25, random_state=42)"
   ]
  },
  {
   "cell_type": "code",
   "execution_count": 16,
   "metadata": {},
   "outputs": [],
   "source": [
    "#Create and train a decision tree model\n",
    "DTmodel = tree.DecisionTreeClassifier()\n",
    "DTmodel = DTmodel.fit(feature_train, target_train)"
   ]
  },
  {
   "cell_type": "code",
   "execution_count": 17,
   "metadata": {},
   "outputs": [],
   "source": [
    "predict = DTmodel.predict(feature_test)"
   ]
  },
  {
   "cell_type": "code",
   "execution_count": 18,
   "metadata": {},
   "outputs": [
    {
     "data": {
      "text/plain": [
       "0.6428571428571429"
      ]
     },
     "execution_count": 18,
     "metadata": {},
     "output_type": "execute_result"
    }
   ],
   "source": [
    "accuracy = accuracy_score(target_test, predict)\n",
    "accuracy"
   ]
  },
  {
   "cell_type": "markdown",
   "metadata": {},
   "source": [
    "**Parameter tuning for Decision Tree Classifier:**\n",
    "<br> See if we can improve the accuracy of the decision tree"
   ]
  },
  {
   "cell_type": "code",
   "execution_count": 19,
   "metadata": {},
   "outputs": [],
   "source": [
    "max_depths = np.linspace(1, 50, 50)"
   ]
  },
  {
   "cell_type": "code",
   "execution_count": 20,
   "metadata": {},
   "outputs": [],
   "source": [
    "min_samples_split = np.linspace(0.1, 1.0, 10)"
   ]
  },
  {
   "cell_type": "code",
   "execution_count": 21,
   "metadata": {},
   "outputs": [],
   "source": [
    "min_samples_leaf = np.linspace(0.1, .5, 10)"
   ]
  },
  {
   "cell_type": "code",
   "execution_count": 22,
   "metadata": {},
   "outputs": [],
   "source": [
    "depth = 0\n",
    "split = 0\n",
    "leaf = 0 \n",
    "max_acc = 0\n",
    "#store the best tree created\n",
    "best_tree = tree.DecisionTreeClassifier()\n",
    "for x in max_depths:\n",
    "    for y in min_samples_split:\n",
    "        for z in min_samples_leaf:\n",
    "                model = tree.DecisionTreeClassifier(max_depth=x, min_samples_split = y, min_samples_leaf=z)\n",
    "                model = model.fit(feature_train, target_train)\n",
    "                predict = model.predict(feature_test)\n",
    "                acc = accuracy_score(target_test, predict)\n",
    "                if acc > max_acc:\n",
    "                    max_acc = acc\n",
    "                    best_tree = model\n",
    "                    depth, split, leaf = x, y, z"
   ]
  },
  {
   "cell_type": "code",
   "execution_count": 23,
   "metadata": {
    "scrolled": true
   },
   "outputs": [
    {
     "data": {
      "text/plain": [
       "0.7478991596638656"
      ]
     },
     "execution_count": 23,
     "metadata": {},
     "output_type": "execute_result"
    }
   ],
   "source": [
    "max_acc"
   ]
  },
  {
   "cell_type": "code",
   "execution_count": 24,
   "metadata": {
    "scrolled": true
   },
   "outputs": [
    {
     "data": {
      "text/plain": [
       "(4.0, 0.30000000000000004, 0.1)"
      ]
     },
     "execution_count": 24,
     "metadata": {},
     "output_type": "execute_result"
    }
   ],
   "source": [
    "depth, split, leaf"
   ]
  },
  {
   "cell_type": "code",
   "execution_count": 25,
   "metadata": {},
   "outputs": [],
   "source": [
    "#The code below from: \n",
    "#https://stackoverflow.com/questions/25274673/is-it-possible-to-print-the-decision-tree-in-scikit-learn\n",
    "from sklearn import tree\n",
    "from sklearn.externals.six import StringIO  \n",
    "import pydot \n",
    "\n",
    "dot_data = StringIO() \n",
    "tree.export_graphviz(best_tree, out_file=dot_data) \n",
    "graph = pydot.graph_from_dot_data(dot_data.getvalue()) \n",
    "\n",
    "graph[0].write_pdf(\"tree.pdf\")\n",
    "\n",
    "#This creates a pdf showing the decision tree created by the classifier. "
   ]
  },
  {
   "cell_type": "code",
   "execution_count": 26,
   "metadata": {},
   "outputs": [
    {
     "name": "stdout",
     "output_type": "stream",
     "text": [
      "Home\n",
      "Avg Win/Loss\n",
      "oppAvg Win/Loss\n",
      "5 Game Win/Loss\n"
     ]
    }
   ],
   "source": [
    "#get important features from tree\n",
    "important = best_tree.feature_importances_\n",
    "len(important)\n",
    "cols = np.array(feature_matrix.columns)\n",
    "\n",
    "for c in cols:\n",
    "    if important[np.where(cols == c)] > 0:\n",
    "        print(c)"
   ]
  },
  {
   "cell_type": "code",
   "execution_count": 27,
   "metadata": {},
   "outputs": [],
   "source": [
    "feature_matrix_shots = feature_matrix[['Avg DRB', 'Avg ORB', 'Avg FG', 'Avg TOV', 'Avg eFG%',\n",
    "        'oppAvg DRB', 'oppAvg ORB', 'oppAvg FG','oppAvg TOV','oppAvg eFG%',\n",
    "        '5 Game DRB', '5 Game ORB', '5 Game FG', '5 Game TOV', '5 Game eFG%',\n",
    "         'opp 5 Game DRB', 'opp 5 Game ORB', 'opp 5 Game FG', 'opp 5 Game TOV', 'opp 5 Game eFG%']]\n",
    "feature_train_shots, feature_test_shots, target_train_shots, target_test_shots = train_test_split(feature_matrix_shots, target, test_size=0.25, random_state=42)"
   ]
  },
  {
   "cell_type": "code",
   "execution_count": 36,
   "metadata": {},
   "outputs": [],
   "source": [
    "model = tree.DecisionTreeClassifier(max_depth=depth, min_samples_split = split, min_samples_leaf=leaf)\n",
    "model = model.fit(feature_train_shots, target_train_shots)\n",
    "predict_shots = model.predict(feature_test_shots)\n",
    "acc_shots = accuracy_score(target_test_shots, predict_shots)"
   ]
  },
  {
   "cell_type": "code",
   "execution_count": 37,
   "metadata": {},
   "outputs": [],
   "source": [
    "depth_s = 0\n",
    "split_s = 0\n",
    "leaf_s = 0\n",
    "max_acc = 0\n",
    "best_tree_shots = tree.DecisionTreeClassifier()\n",
    "for x in max_depths:\n",
    "    for y in min_samples_split:\n",
    "        for z in min_samples_leaf:\n",
    "                model = tree.DecisionTreeClassifier(max_depth=x, min_samples_split = y, min_samples_leaf=z)\n",
    "                model = model.fit(feature_train_shots, target_train_shots)\n",
    "                predict = model.predict(feature_test_shots)\n",
    "                acc = accuracy_score(target_test_shots, predict)\n",
    "                if acc > max_acc:\n",
    "                    max_acc = acc\n",
    "                    best_tree_shots = model\n",
    "                    depth_s, split_s, leaf_s = x, y, z"
   ]
  },
  {
   "cell_type": "code",
   "execution_count": 38,
   "metadata": {},
   "outputs": [
    {
     "name": "stdout",
     "output_type": "stream",
     "text": [
      "0.680672268907563\n",
      "4.0\n",
      "0.1\n",
      "0.1\n"
     ]
    }
   ],
   "source": [
    "print(max_acc)\n",
    "print(depth_s)\n",
    "print(split_s)\n",
    "print(leaf_s)"
   ]
  },
  {
   "cell_type": "code",
   "execution_count": 39,
   "metadata": {},
   "outputs": [
    {
     "name": "stdout",
     "output_type": "stream",
     "text": [
      "Avg DRB\n",
      "Avg TOV\n",
      "Avg eFG%\n",
      "oppAvg DRB\n",
      "oppAvg eFG%\n",
      "5 Game FG\n",
      "opp 5 Game TOV\n"
     ]
    }
   ],
   "source": [
    "important = best_tree_shots.feature_importances_\n",
    "len(important)\n",
    "cols = np.array(feature_matrix_shots.columns)\n",
    "\n",
    "for c in cols:\n",
    "    if important[np.where(cols == c)] > 0:\n",
    "        print(c)"
   ]
  },
  {
   "cell_type": "markdown",
   "metadata": {},
   "source": [
    "**Random forest classifier:**"
   ]
  },
  {
   "cell_type": "code",
   "execution_count": 51,
   "metadata": {},
   "outputs": [],
   "source": [
    "RFmodel = RandomForestClassifier(n_estimators = 100)\n",
    "RFmodel = RFmodel.fit(feature_train, target_train)\n",
    "RFpredict = RFmodel.predict(feature_test)"
   ]
  },
  {
   "cell_type": "code",
   "execution_count": 52,
   "metadata": {
    "scrolled": true
   },
   "outputs": [
    {
     "data": {
      "text/plain": [
       "0.6974789915966386"
      ]
     },
     "execution_count": 52,
     "metadata": {},
     "output_type": "execute_result"
    }
   ],
   "source": [
    "acc = accuracy_score(target_test, RFpredict)\n",
    "acc"
   ]
  },
  {
   "cell_type": "code",
   "execution_count": 55,
   "metadata": {},
   "outputs": [],
   "source": [
    "maxAcc = 0\n",
    "est = 0\n",
    "best_forest = RandomForestClassifier()\n",
    "for i in range(1,100):\n",
    "    RFmodel = RandomForestClassifier(n_estimators=i)\n",
    "    RFmodel = RFmodel.fit(feature_train, target_train)\n",
    "    RFpredict = RFmodel.predict(feature_test)\n",
    "    acc = accuracy_score(target_test, RFpredict)\n",
    "    if acc > maxAcc:\n",
    "        maxAcc = acc\n",
    "        est = i\n",
    "        best_forest = RFmodel"
   ]
  },
  {
   "cell_type": "code",
   "execution_count": 56,
   "metadata": {
    "scrolled": true
   },
   "outputs": [
    {
     "name": "stdout",
     "output_type": "stream",
     "text": [
      "0.7478991596638656\n",
      "54\n"
     ]
    }
   ],
   "source": [
    "print(maxAcc)\n",
    "print(est)"
   ]
  },
  {
   "cell_type": "code",
   "execution_count": 57,
   "metadata": {},
   "outputs": [],
   "source": [
    "maxAcc = 0\n",
    "est = 0\n",
    "best_forest_shots = RandomForestClassifier()\n",
    "for i in range(1,100):\n",
    "    RFmodel = RandomForestClassifier(n_estimators=i)\n",
    "    RFmodel = RFmodel.fit(feature_train_shots, target_train_shots)\n",
    "    RFpredict = RFmodel.predict(feature_test_shots)\n",
    "    acc = accuracy_score(target_test_shots, RFpredict)\n",
    "    if acc > maxAcc:\n",
    "        maxAcc = acc\n",
    "        est = i\n",
    "        best_forest_shots = RFmodel"
   ]
  },
  {
   "cell_type": "code",
   "execution_count": 58,
   "metadata": {},
   "outputs": [
    {
     "name": "stdout",
     "output_type": "stream",
     "text": [
      "0.7226890756302521\n"
     ]
    }
   ],
   "source": [
    "print(maxAcc)"
   ]
  },
  {
   "cell_type": "code",
   "execution_count": 59,
   "metadata": {},
   "outputs": [],
   "source": [
    "#PHL TREE\n",
    "phl_tree = tree.DecisionTreeClassifier(max_depth=depth, min_samples_split = split, min_samples_leaf=leaf)\n",
    "phl_tree = phl_tree.fit(feature_matrix, target)\n",
    "\n",
    "#PHL FOREST\n",
    "phl_forest = RandomForestClassifier(n_estimators=est)\n",
    "phl_forest = phl_forest.fit(feature_matrix, target)"
   ]
  },
  {
   "cell_type": "code",
   "execution_count": 60,
   "metadata": {},
   "outputs": [],
   "source": [
    "#create feature matrix and target matrix for the input team\n",
    "def get_team_data(team):\n",
    "    stats = all_team_data[team]\n",
    "    stats = stats.dropna()\n",
    "    feature_matrix = stats[['Wins', 'Losses', 'Home', 'Avg Win/Loss', 'Avg 3P',\n",
    "       'Avg 3PA', 'Avg Starter MP', 'Avg AST', 'Avg BLK', 'Avg DRB',\n",
    "       'Avg ORB', 'Avg FG', 'Avg FGA',\n",
    "       'Avg 3PAr', 'Avg FTr', 'Avg PF', 'Avg PTS', 'Avg STL', 'Avg TOV',\n",
    "       'Avg eFG%', 'oppAvg Win/Loss','oppAvg 3P',\n",
    "        'oppAvg 3PA', 'oppAvg Starter MP',\n",
    "        'oppAvg AST', 'oppAvg BLK', 'oppAvg DRB', 'oppAvg ORB', 'oppAvg FG',\n",
    "        'oppAvg FGA', 'oppAvg 3PAr',\n",
    "        'oppAvg FTr', 'oppAvg PF', 'oppAvg PTS', 'oppAvg STL', 'oppAvg TOV',\n",
    "        'oppAvg eFG%', 'oppWinning Percentage', '5 Game Win/Loss', '5 Game 3P', '5 Game 3PA',\n",
    "       '5 Game Starter MP', '5 Game AST', '5 Game BLK',\n",
    "       '5 Game DRB', '5 Game ORB', '5 Game FG', '5 Game FGA', \n",
    "       '5 Game 3PAr', '5 Game FTr', '5 Game PF',\n",
    "       '5 Game PTS', '5 Game STL', '5 Game TOV', '5 Game eFG%',\n",
    "       'opp 5 Game Win/Loss', 'opp 5 Game 3P', 'opp 5 Game 3PA',\n",
    "       'opp 5 Game Starter MP', 'opp 5 Game AST', 'opp 5 Game BLK',\n",
    "       'opp 5 Game DRB', 'opp 5 Game ORB', 'opp 5 Game FG', 'opp 5 Game FGA', \n",
    "       'opp 5 Game 3PAr', 'opp 5 Game FTr', 'opp 5 Game PF',\n",
    "       'opp 5 Game PTS', 'opp 5 Game STL', 'opp 5 Game TOV', 'opp 5 Game eFG%']]\n",
    "    results = stats[['+/-']]\n",
    "    results = results.values\n",
    "    target = create_target(results)\n",
    "    return feature_matrix, target"
   ]
  },
  {
   "cell_type": "code",
   "execution_count": 61,
   "metadata": {},
   "outputs": [],
   "source": [
    "#create feature matrix and target matrix for the input team for a specific season\n",
    "def get_team_season_data(team, year):\n",
    "    stats = all_team_data[team]\n",
    "    season_stats = stats.loc[stats['Season'] == year]\n",
    "    season_stats = season_stats.dropna()\n",
    "    feature_matrix = season_stats[['Wins', 'Losses', 'Home', 'Avg Win/Loss', 'Avg 3P',\n",
    "       'Avg 3PA', 'Avg Starter MP', 'Avg AST', 'Avg BLK', 'Avg DRB',\n",
    "       'Avg ORB', 'Avg FG', 'Avg FGA',\n",
    "       'Avg 3PAr', 'Avg FTr', 'Avg PF', 'Avg PTS', 'Avg STL', 'Avg TOV',\n",
    "       'Avg eFG%', 'oppAvg Win/Loss','oppAvg 3P',\n",
    "        'oppAvg 3PA', 'oppAvg Starter MP',\n",
    "        'oppAvg AST', 'oppAvg BLK', 'oppAvg DRB', 'oppAvg ORB', 'oppAvg FG',\n",
    "        'oppAvg FGA', 'oppAvg 3PAr',\n",
    "        'oppAvg FTr', 'oppAvg PF', 'oppAvg PTS', 'oppAvg STL', 'oppAvg TOV',\n",
    "        'oppAvg eFG%', 'oppWinning Percentage', '5 Game Win/Loss', '5 Game 3P', '5 Game 3PA',\n",
    "       '5 Game Starter MP', '5 Game AST', '5 Game BLK',\n",
    "       '5 Game DRB', '5 Game ORB', '5 Game FG', '5 Game FGA', \n",
    "       '5 Game 3PAr', '5 Game FTr', '5 Game PF',\n",
    "       '5 Game PTS', '5 Game STL', '5 Game TOV', '5 Game eFG%',\n",
    "       'opp 5 Game Win/Loss', 'opp 5 Game 3P', 'opp 5 Game 3PA',\n",
    "       'opp 5 Game Starter MP', 'opp 5 Game AST', 'opp 5 Game BLK',\n",
    "       'opp 5 Game DRB', 'opp 5 Game ORB', 'opp 5 Game FG', 'opp 5 Game FGA', \n",
    "       'opp 5 Game 3PAr', 'opp 5 Game FTr', 'opp 5 Game PF',\n",
    "       'opp 5 Game PTS', 'opp 5 Game STL', 'opp 5 Game TOV', 'opp 5 Game eFG%']]\n",
    "    results = season_stats[['+/-']]\n",
    "    results = results.values\n",
    "    target = create_target(results)\n",
    "    return feature_matrix, target"
   ]
  },
  {
   "cell_type": "code",
   "execution_count": 62,
   "metadata": {},
   "outputs": [],
   "source": [
    "#Try model on other teams\n",
    "def predict_team(model, team):\n",
    "    feature, target = get_team_data(team)\n",
    "    predict = model.predict(feature)\n",
    "    acc = accuracy_score(target, predict)\n",
    "    return acc"
   ]
  },
  {
   "cell_type": "code",
   "execution_count": 63,
   "metadata": {},
   "outputs": [],
   "source": [
    "#Try model on other teams by season\n",
    "def predict_team_season(model, team, year):\n",
    "    feature, target = get_team_season_data(team, year)\n",
    "    predict = model.predict(feature)\n",
    "    acc = accuracy_score(target, predict)\n",
    "    return acc"
   ]
  },
  {
   "cell_type": "code",
   "execution_count": 64,
   "metadata": {},
   "outputs": [],
   "source": [
    "#see how well the Philadelphia model can predict outcome of other teams\n",
    "tree_accuracies = []\n",
    "forest_accuracies = []\n",
    "for team in teams:\n",
    "    if team != \"Philadelphia\":\n",
    "        tree_acc = predict_team(phl_tree, team)\n",
    "        forest_acc = predict_team(phl_forest, team)\n",
    "        tree_accuracies.append(tree_acc)\n",
    "        forest_accuracies.append(forest_acc)"
   ]
  },
  {
   "cell_type": "code",
   "execution_count": 65,
   "metadata": {},
   "outputs": [
    {
     "data": {
      "image/png": "[encoded data removed]",
      "text/plain": [
       "<Figure size 1152x288 with 2 Axes>"
      ]
     },
     "metadata": {
      "needs_background": "light"
     },
     "output_type": "display_data"
    }
   ],
   "source": [
    "%matplotlib inline\n",
    "\n",
    "fig, ax = plt.subplots(1, 2, sharey=True, figsize=(16,4))\n",
    "\n",
    "ax[0].hist(tree_accuracies)\n",
    "ax[0].set_title(\"Tree Accuracies\")\n",
    "\n",
    "ax[1].hist(forest_accuracies)\n",
    "ax[1].set_title(\"Forest Accuracies\")\n",
    "\n",
    "plt.show()"
   ]
  },
  {
   "cell_type": "code",
   "execution_count": 66,
   "metadata": {},
   "outputs": [
    {
     "name": "stdout",
     "output_type": "stream",
     "text": [
      "Max tree accuracy 0.6578947368421053\n",
      "Min tree accuracy 0.5806794055201698\n",
      "Max forest accuracy 0.6551204819277109\n",
      "Min forest accuracy 0.5116279069767442\n"
     ]
    }
   ],
   "source": [
    "print(\"Max tree accuracy \" + str(max(tree_accuracies)))\n",
    "print(\"Min tree accuracy \" + str(min(tree_accuracies)))\n",
    "print(\"Max forest accuracy \" + str(max(forest_accuracies)))\n",
    "print(\"Min forest accuracy \" + str(min(forest_accuracies)))"
   ]
  },
  {
   "cell_type": "code",
   "execution_count": 67,
   "metadata": {},
   "outputs": [],
   "source": [
    "#create tree and forest models using data for input team and season (year)\n",
    "def season_model(team, year):\n",
    "    feature_matrix, target = get_team_season_data(team, year)\n",
    "    tree_model = tree.DecisionTreeClassifier(max_depth=depth, min_samples_split =split, min_samples_leaf=leaf)\n",
    "    tree_model = tree_model.fit(feature_matrix, target)\n",
    "    \n",
    "    forest_model = RandomForestClassifier(n_estimators=i)\n",
    "    forest_model = forest_model.fit(feature_matrix, target)\n",
    "    \n",
    "    return (tree_model,forest_model)"
   ]
  },
  {
   "cell_type": "code",
   "execution_count": 68,
   "metadata": {},
   "outputs": [],
   "source": [
    "#see if previous season can be used to accurately predict next season\n",
    "years = ['2008', '2009', '2010', '2011', '2012', '2013', '2014', '2015', '2016', '2017', '2018']\n",
    "phl_seasons = {}\n",
    "for year in years:\n",
    "    (tree_model, forest_model) = season_model('Philadelphia', year)\n",
    "    phl_seasons[year] = (tree_model, forest_model)"
   ]
  },
  {
   "cell_type": "code",
   "execution_count": 69,
   "metadata": {},
   "outputs": [],
   "source": [
    "years_test = years[1:]\n",
    "i = 0\n",
    "#use phl_seasons dictionary created in above cell to predict outcomes of season with the previous season\n",
    "tree_accuracies = {}\n",
    "forest_accuracies = {}\n",
    "\n",
    "for year in years_test:\n",
    "    tree_acc = predict_team_season(phl_seasons[years[i]][0], \"Philadelphia\", year)       \n",
    "    forest_acc = predict_team_season(phl_seasons[years[i]][1], \"Philadelphia\", year)\n",
    "\n",
    "    tree_accuracies[year] = tree_acc\n",
    "    forest_accuracies[year] = forest_acc\n",
    "    i += 1"
   ]
  },
  {
   "cell_type": "code",
   "execution_count": 83,
   "metadata": {},
   "outputs": [],
   "source": [
    "#Predict model on teams by season, return 2 lists, one of game count and one if prediction was correct\n",
    "def predict_team_season_plot(model, team, year):\n",
    "    feature, target = get_team_season_data(team, year)\n",
    "    predict = model.predict(feature)\n",
    "    gamecount = list(range(len(target)))\n",
    "    correct = []\n",
    "    for i in gamecount:\n",
    "        if predict[i] == target[i]:\n",
    "            #correct\n",
    "            correct.append(1)\n",
    "        else:\n",
    "            #incorrect\n",
    "            correct.append(0)\n",
    "    return correct, gamecount"
   ]
  },
  {
   "cell_type": "code",
   "execution_count": 84,
   "metadata": {},
   "outputs": [],
   "source": [
    "correctness = {}\n",
    "gamecount = {}\n",
    "i = 0\n",
    "for year in years_test:\n",
    "    correctness[year], gamecount[year] = predict_team_season_plot(phl_seasons[years[i]][0], \"Philadelphia\", year)       \n",
    "    i += 1"
   ]
  },
  {
   "cell_type": "code",
   "execution_count": 93,
   "metadata": {},
   "outputs": [
    {
     "data": {
      "image/png": "[encoded data removed]",
      "text/plain": [
       "<Figure size 432x288 with 1 Axes>"
      ]
     },
     "metadata": {
      "needs_background": "light"
     },
     "output_type": "display_data"
    },
    {
     "data": {
      "image/png": "[encoded data removed]",
      "text/plain": [
       "<Figure size 432x288 with 1 Axes>"
      ]
     },
     "metadata": {
      "needs_background": "light"
     },
     "output_type": "display_data"
    },
    {
     "data": {
      "image/png": "[encoded data removed]",
      "text/plain": [
       "<Figure size 432x288 with 1 Axes>"
      ]
     },
     "metadata": {
      "needs_background": "light"
     },
     "output_type": "display_data"
    },
    {
     "data": {
      "image/png": "[encoded data removed]",
      "text/plain": [
       "<Figure size 432x288 with 1 Axes>"
      ]
     },
     "metadata": {
      "needs_background": "light"
     },
     "output_type": "display_data"
    },
    {
     "data": {
      "image/png": "[encoded data removed]",
      "text/plain": [
       "<Figure size 432x288 with 1 Axes>"
      ]
     },
     "metadata": {
      "needs_background": "light"
     },
     "output_type": "display_data"
    },
    {
     "data": {
      "image/png": "[encoded data removed]",
      "text/plain": [
       "<Figure size 432x288 with 1 Axes>"
      ]
     },
     "metadata": {
      "needs_background": "light"
     },
     "output_type": "display_data"
    },
    {
     "data": {
      "image/png": "[encoded data removed]",
      "text/plain": [
       "<Figure size 432x288 with 1 Axes>"
      ]
     },
     "metadata": {
      "needs_background": "light"
     },
     "output_type": "display_data"
    },
    {
     "data": {
      "image/png": "[encoded data removed]",
      "text/plain": [
       "<Figure size 432x288 with 1 Axes>"
      ]
     },
     "metadata": {
      "needs_background": "light"
     },
     "output_type": "display_data"
    },
    {
     "data": {
      "image/png": "[encoded data removed]",
      "text/plain": [
       "<Figure size 432x288 with 1 Axes>"
      ]
     },
     "metadata": {
      "needs_background": "light"
     },
     "output_type": "display_data"
    },
    {
     "data": {
      "image/png": "[encoded data removed]",
      "text/plain": [
       "<Figure size 432x288 with 1 Axes>"
      ]
     },
     "metadata": {
      "needs_background": "light"
     },
     "output_type": "display_data"
    }
   ],
   "source": [
    "for year in years_test:\n",
    "    plt.scatter(gamecount['2009'], correctness['2009'])\n",
    "    plt.title(year)\n",
    "    plt.xlabel('Game count')\n",
    "    plt.ylabel('Correctness')\n",
    "    plt.show()"
   ]
  },
  {
   "cell_type": "code",
   "execution_count": 70,
   "metadata": {},
   "outputs": [
    {
     "data": {
      "text/plain": [
       "{'2009': 0.6756756756756757,\n",
       " '2010': 0.5384615384615384,\n",
       " '2011': 0.5068493150684932,\n",
       " '2012': 0.6025641025641025,\n",
       " '2013': 0.43037974683544306,\n",
       " '2014': 0.6296296296296297,\n",
       " '2015': 0.7283950617283951,\n",
       " '2016': 0.654320987654321,\n",
       " '2017': 0.38461538461538464,\n",
       " '2018': 0.6266666666666667}"
      ]
     },
     "execution_count": 70,
     "metadata": {},
     "output_type": "execute_result"
    }
   ],
   "source": [
    "tree_accuracies"
   ]
  },
  {
   "cell_type": "code",
   "execution_count": 71,
   "metadata": {},
   "outputs": [
    {
     "data": {
      "text/plain": [
       "{'2009': 0.5945945945945946,\n",
       " '2010': 0.47435897435897434,\n",
       " '2011': 0.4794520547945205,\n",
       " '2012': 0.5256410256410257,\n",
       " '2013': 0.35443037974683544,\n",
       " '2014': 0.7407407407407407,\n",
       " '2015': 0.8765432098765432,\n",
       " '2016': 0.654320987654321,\n",
       " '2017': 0.3626373626373626,\n",
       " '2018': 0.64}"
      ]
     },
     "execution_count": 71,
     "metadata": {},
     "output_type": "execute_result"
    }
   ],
   "source": [
    "forest_accuracies"
   ]
  },
  {
   "cell_type": "code",
   "execution_count": 72,
   "metadata": {},
   "outputs": [],
   "source": [
    "from collections import defaultdict\n",
    "tree_accuracies_season = defaultdict(list)\n",
    "forest_accuracies_season = defaultdict(list)\n",
    "for team in teams:\n",
    "    if team != \"Philadelphia\":\n",
    "        for year in years:\n",
    "            tree_acc = predict_team_season(phl_seasons[year][0], team, year)\n",
    "            forest_acc = predict_team_season(phl_seasons[year][1], team, year)\n",
    "            tree_accuracies_season[year].append(tree_acc)\n",
    "            forest_accuracies_season[year].append(forest_acc)"
   ]
  },
  {
   "cell_type": "code",
   "execution_count": 73,
   "metadata": {},
   "outputs": [
    {
     "data": {
      "image/png": "[encoded data removed]",
      "text/plain": [
       "<Figure size 1152x288 with 2 Axes>"
      ]
     },
     "metadata": {
      "needs_background": "light"
     },
     "output_type": "display_data"
    },
    {
     "data": {
      "image/png": "[encoded data removed]",
      "text/plain": [
       "<Figure size 1152x288 with 2 Axes>"
      ]
     },
     "metadata": {
      "needs_background": "light"
     },
     "output_type": "display_data"
    },
    {
     "data": {
      "image/png": "[encoded data removed]",
      "text/plain": [
       "<Figure size 1152x288 with 2 Axes>"
      ]
     },
     "metadata": {
      "needs_background": "light"
     },
     "output_type": "display_data"
    },
    {
     "data": {
      "image/png": "[encoded data removed]",
      "text/plain": [
       "<Figure size 1152x288 with 2 Axes>"
      ]
     },
     "metadata": {
      "needs_background": "light"
     },
     "output_type": "display_data"
    },
    {
     "data": {
      "image/png": "[encoded data removed]",
      "text/plain": [
       "<Figure size 1152x288 with 2 Axes>"
      ]
     },
     "metadata": {
      "needs_background": "light"
     },
     "output_type": "display_data"
    },
    {
     "data": {
      "image/png": "[encoded data removed]",
      "text/plain": [
       "<Figure size 1152x288 with 2 Axes>"
      ]
     },
     "metadata": {
      "needs_background": "light"
     },
     "output_type": "display_data"
    },
    {
     "data": {
      "image/png": "[encoded data removed]",
      "text/plain": [
       "<Figure size 1152x288 with 2 Axes>"
      ]
     },
     "metadata": {
      "needs_background": "light"
     },
     "output_type": "display_data"
    },
    {
     "data": {
      "image/png": "[encoded data removed]",
      "text/plain": [
       "<Figure size 1152x288 with 2 Axes>"
      ]
     },
     "metadata": {
      "needs_background": "light"
     },
     "output_type": "display_data"
    },
    {
     "data": {
      "image/png": "[encoded data removed]",
      "text/plain": [
       "<Figure size 1152x288 with 2 Axes>"
      ]
     },
     "metadata": {
      "needs_background": "light"
     },
     "output_type": "display_data"
    },
    {
     "data": {
      "image/png": "[encoded data removed]",
      "text/plain": [
       "<Figure size 1152x288 with 2 Axes>"
      ]
     },
     "metadata": {
      "needs_background": "light"
     },
     "output_type": "display_data"
    },
    {
     "data": {
      "image/png": "[encoded data removed]",
      "text/plain": [
       "<Figure size 1152x288 with 2 Axes>"
      ]
     },
     "metadata": {
      "needs_background": "light"
     },
     "output_type": "display_data"
    }
   ],
   "source": [
    "plots = {}\n",
    "#accuracy of models fit to philadelphia data from each season can predict other teams for the season\n",
    "for year in years:\n",
    "    fig, ax = plt.subplots(1, 2, sharey=True, figsize=(16,4))\n",
    "    ax[0].hist(tree_accuracies_season[year])\n",
    "    ax[0].set_title(\"Tree Accuracies Season \" + year)\n",
    "\n",
    "    ax[1].hist(forest_accuracies_season[year])\n",
    "    ax[1].set_title(\"Forest Accuracies Season \" + year)\n",
    "    plots[year] = (fig, ax)"
   ]
  },
  {
   "cell_type": "code",
   "execution_count": 74,
   "metadata": {},
   "outputs": [
    {
     "data": {
      "text/plain": [
       "Counter({'Avg ORB': 3,\n",
       "         'oppAvg FG': 1,\n",
       "         'oppAvg STL': 1,\n",
       "         'oppWinning Percentage': 4,\n",
       "         'oppAvg DRB': 1,\n",
       "         'oppAvg FGA': 1,\n",
       "         '5 Game FTr': 2,\n",
       "         'opp 5 Game Win/Loss': 4,\n",
       "         'Losses': 1,\n",
       "         'oppAvg AST': 2,\n",
       "         '5 Game eFG%': 1,\n",
       "         'oppAvg TOV': 1,\n",
       "         'oppAvg eFG%': 1,\n",
       "         'opp 5 Game STL': 1,\n",
       "         'Avg FG': 1,\n",
       "         'oppAvg BLK': 2,\n",
       "         'Avg 3PAr': 1,\n",
       "         'oppAvg PTS': 1,\n",
       "         '5 Game PF': 1,\n",
       "         'opp 5 Game AST': 1,\n",
       "         'opp 5 Game FGA': 1,\n",
       "         'Avg eFG%': 1,\n",
       "         '5 Game STL': 1,\n",
       "         'Avg 3PA': 1,\n",
       "         'opp 5 Game ORB': 1,\n",
       "         'opp 5 Game eFG%': 1,\n",
       "         'Avg TOV': 1,\n",
       "         'oppAvg 3P': 1,\n",
       "         'oppAvg Starter MP': 1,\n",
       "         '5 Game DRB': 1,\n",
       "         '5 Game FG': 1})"
      ]
     },
     "execution_count": 74,
     "metadata": {},
     "output_type": "execute_result"
    }
   ],
   "source": [
    "#get important features for the season models\n",
    "import collections\n",
    "def season_importances(models):\n",
    "    tree_important = []\n",
    "    for year in years:\n",
    "        tree_model = models[year][0]\n",
    "        important_tree = tree_model.feature_importances_\n",
    "        cols = np.array(feature_matrix.columns)\n",
    "        for c in cols:\n",
    "            if important_tree[np.where(cols == c)] > 0:\n",
    "                tree_important.append(c)\n",
    "    tree_counter = collections.Counter(tree_important)\n",
    "    return tree_counter\n",
    "\n",
    "tree_imp = season_importances(phl_seasons)\n",
    "tree_imp"
   ]
  }
 ],
 "metadata": {
  "kernelspec": {
   "display_name": "Python 3",
   "language": "python",
   "name": "python3"
  },
  "language_info": {
   "codemirror_mode": {
    "name": "ipython",
    "version": 3
   },
   "file_extension": ".py",
   "mimetype": "text/x-python",
   "name": "python",
   "nbconvert_exporter": "python",
   "pygments_lexer": "ipython3",
   "version": "3.6.7"
  }
 },
 "nbformat": 4,
 "nbformat_minor": 2
}
