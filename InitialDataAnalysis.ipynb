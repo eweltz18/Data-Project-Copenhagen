{
 "cells": [
  {
   "cell_type": "code",
   "execution_count": 1,
   "metadata": {
    "collapsed": true
   },
   "outputs": [],
   "source": [
    "import pandas as pd\n",
    "import numpy as np\n",
    "import tensorflow as tf"
   ]
  },
  {
   "cell_type": "code",
   "execution_count": 2,
   "metadata": {
    "collapsed": true
   },
   "outputs": [],
   "source": [
    "home = pd.read_csv('home_completed.csv')\n",
    "away = pd.read_csv('away_completed.csv')\n",
    "#number of points a team won or lost by\n",
    "home['+/-'] = home['+/-']/5\n",
    "#puts the odds into floats\n",
    "home['Spread'] = home['Spread'].replace(' PK', '0').astype(float)\n",
    "#gets how many points a team went over or under the spread\n",
    "home['Cover'] = home['Spread'] + home['+/-']\n",
    "#true or false on whether a team covered the spread\n",
    "home['ATS'] = np.where(home['Cover'].isnull(), np.nan,\n",
    "          np.where(home['Cover'] > 0,   1, 0))\n",
    "#number of points a team won or lost by\n",
    "away['+/-'] = away['+/-']/5\n",
    "#puts the odds into floats\n",
    "away['Spread'] = away['Spread'].replace(' PK', '0').astype(float)\n",
    "#gets how many points a team went over or under the spread\n",
    "away['Cover'] = away['Spread'] + away['+/-']\n",
    "#true or false on whether a team covered the spread\n",
    "away['ATS'] = np.where(away['Cover'].isnull(), np.nan,\n",
    "          np.where(away['Cover'] > 0,   1, 0))"
   ]
  },
  {
   "cell_type": "code",
   "execution_count": 3,
   "metadata": {},
   "outputs": [],
   "source": [
    "#put all data into one large data frame\n",
    "main = home.append(away, ignore_index=True).sort_values(['Checker']) # puts into date order\n",
    "#put columns into more organized order\n",
    "main = main[['Year','Month', 'Day' , 'Team', 'Spread', 'Line', '+/-', '3P', '3P%', '3PA', '3PAr', 'AST', 'BLK', 'DRB', 'Day',\n",
    "       'FG', 'FG%', 'FGA', 'FT', 'FT%', 'FTA', 'FTr', 'Home', 'Losses',\n",
    "        'ORB', 'PF', 'PTS', 'STL', 'Starters MP', 'TOV', 'TS%', 'Wins',\n",
    "        'eFG%',  'Checker', 'ATS']]\n",
    "teams = list(main['Team'])\n",
    "new_teams = []\n",
    "#adds the opponent to the df\n",
    "for i in range(0, len(teams), 2):\n",
    "    new_teams.append(teams[i+1])\n",
    "    new_teams.append(teams[i])\n",
    "main['Opponent'] = new_teams\n",
    "main = main.dropna()"
   ]
  },
  {
   "cell_type": "code",
   "execution_count": 5,
   "metadata": {
    "collapsed": true
   },
   "outputs": [],
   "source": [
    "#Function to get all game data for every team, returns a dataframe\n",
    "def team_df(team):\n",
    "    t = main[main['Team']== team].reset_index()\n",
    "    del t['index']\n",
    "    t['Season'] = t['Checker'].apply(season) #define what season a game is played\n",
    "    t['Games Played'] = t['Wins'] + t['Losses'] #total games played\n",
    "    #create running averages for all stats up to a given game date\n",
    "    t_df = pd.DataFrame()\n",
    "    #portion to get average seasonal data leading up to a certain game\n",
    "    for year in years:\n",
    "        temp = t[t['Season']==year].reset_index()\n",
    "        temp['Avg Win/Loss'] = (temp['+/-'].cumsum() - temp['+/-'])/temp.index\n",
    "        temp['Avg 3P'] = (temp['3P'].cumsum() - temp['3P'])/temp.index\n",
    "        temp['Avg 3PA'] = (temp['3PA'].cumsum() - temp['3PA'])/temp.index\n",
    "        temp['Avg 3P%'] = (temp['Avg 3P']/temp['Avg 3PA'])\n",
    "        temp['Avg Starter MP'] = (temp['Starters MP'].cumsum() - temp['Starters MP'])/temp.index\n",
    "        temp['Avg AST'] = (temp['AST'].cumsum() - temp['AST'])/temp.index\n",
    "        temp['Avg BLK'] = (temp['BLK'].cumsum() - temp['BLK'])/temp.index\n",
    "        temp['Avg DRB'] = (temp['DRB'].cumsum() - temp['DRB'])/temp.index\n",
    "        temp['Avg ORB'] = (temp['ORB'].cumsum() - temp['ORB'])/temp.index\n",
    "        temp['Avg FG'] = (temp['FG'].cumsum() - temp['FG'])/temp.index\n",
    "        temp['Avg FGA'] = (temp['FGA'].cumsum() - temp['FGA'])/temp.index\n",
    "        temp['Avg FG%'] = (temp['Avg FG']/temp['Avg FGA'])\n",
    "        temp['Avg FT'] = (temp['FT'].cumsum() - temp['FT'])/temp.index\n",
    "        temp['Avg FTA'] = (temp['FTA'].cumsum() - temp['FTA'])/temp.index\n",
    "        temp['Avg 3PAr'] = (temp['Avg 3PA']/temp['Avg FGA'])\n",
    "        temp['Avg FTr'] = (temp['Avg FTA']/temp['Avg FGA'])\n",
    "        temp['Avg 3P%'] = (temp['Avg FT']/temp['Avg FTA'])/temp.index\n",
    "        temp['Avg PF'] = (temp['PF'].cumsum() - temp['PF'])/temp.index\n",
    "        temp['Avg PTS'] = (temp['PTS'].cumsum() - temp['PTS'])/temp.index\n",
    "        temp['Avg STL'] = (temp['STL'].cumsum() - temp['STL'])/temp.index\n",
    "        temp['Avg TOV'] = (temp['TOV'].cumsum() - temp['TOV'])/temp.index\n",
    "        temp['Avg TS%'] = temp['Avg PTS']/ (2*(temp['Avg FGA'] + .44 * temp['Avg FTA']))\n",
    "        temp['Avg eFG%'] = (temp['Avg FG'] + .5 * temp['Avg 3P'])/ temp['Avg FGA']\n",
    "        temp['Winning Percentage'] = temp['Wins']/temp.index\n",
    "        ###\n",
    "        #portion to get data for the last 5 games prior to a certain game\n",
    "        temp['5 Game Win/Loss'] = temp['+/-'].rolling(5, min_periods=1).sum()-temp['+/-']\n",
    "        temp['5 Game 3P'] = temp['3P'].rolling(5, min_periods=1).sum() - temp['3P']\n",
    "        temp['5 Game 3PA'] = temp['3PA'].rolling(5, min_periods=1).sum()- temp['3PA']\n",
    "        temp['5 Game 3P%'] = temp['5 Game 3P']/temp['5 Game 3PA']\n",
    "        temp['5 Game Starter MP'] = temp['Starters MP'].rolling(5, min_periods=1).sum()-temp['Starters MP']\n",
    "        temp['5 Game AST'] = temp['AST'].rolling(5, min_periods=1).sum() - temp['AST']\n",
    "        temp['5 Game BLK'] = temp['BLK'].rolling(5, min_periods=1).sum() - temp['BLK']\n",
    "        temp['5 Game DRB'] = temp['DRB'].rolling(5, min_periods=1).sum() - temp['DRB']\n",
    "        temp['5 Game ORB'] = temp['ORB'].rolling(5, min_periods=1).sum() - temp['ORB']\n",
    "        temp['5 Game FG'] = temp['FG'].rolling(5, min_periods=1).sum() - temp['FG']\n",
    "        temp['5 Game FGA'] = temp['FGA'].rolling(5, min_periods=1).sum() - temp['FGA']\n",
    "        temp['5 Game FG%'] = temp['5 Game FG']/temp['5 Game FGA']\n",
    "        temp['5 Game FT'] = temp['FT'].rolling(5, min_periods=1).sum() - temp['FT']\n",
    "        temp['5 Game FTA'] = temp['FTA'].rolling(5, min_periods=1).sum() - temp['FTA']\n",
    "        temp['5 Game 3PAr'] = temp['5 Game 3PA']/temp['5 Game FGA']\n",
    "        temp['5 Game FTr'] = temp['5 Game FTA']/temp['5 Game FGA']\n",
    "        temp['5 Game 3P%'] = temp['5 Game FT']/temp['5 Game FTA']\n",
    "        temp['5 Game PF'] = temp['PF'].rolling(5, min_periods=1).sum() - temp['PF']\n",
    "        temp['5 Game PTS'] = temp['PTS'].rolling(5, min_periods=1).sum() - temp['PTS']\n",
    "        temp['5 Game STL'] = temp['STL'].rolling(5, min_periods=1).sum() - temp['STL']\n",
    "        temp['5 Game TOV'] = temp['TOV'].rolling(5, min_periods=1).sum() - temp['TOV']\n",
    "        temp['5 Game TS%'] = temp['5 Game PTS']/ (2*(temp['5 Game FGA'] + .44 * temp['5 Game FTA']))\n",
    "        temp['5 Game eFG%'] = (temp['5 Game FG'] + .5 * temp['5 Game 3P'])/ temp['5 Game FGA']\n",
    "        t_df = t_df.append(temp)\n",
    "    return t_df"
   ]
  },
  {
   "cell_type": "code",
   "execution_count": 6,
   "metadata": {
    "collapsed": true
   },
   "outputs": [],
   "source": [
    "#put each row into a season\n",
    "def season(date):\n",
    "    date = date[:6]\n",
    "    if date < '200809':\n",
    "        return '2007'\n",
    "    elif date < '200909':\n",
    "        return '2008'\n",
    "    elif date < '201009':\n",
    "        return '2009'\n",
    "    elif date < '201109':\n",
    "        return '2010'\n",
    "    elif date < '201109':\n",
    "        return '2010'\n",
    "    elif date < '201209':\n",
    "        return '2011'\n",
    "    elif date < '201309':\n",
    "        return '2012'\n",
    "    elif date < '201409':\n",
    "        return '2013'\n",
    "    elif date < '201509':\n",
    "        return '2014'\n",
    "    elif date < '201609':\n",
    "        return '2015'\n",
    "    elif date < '201709':\n",
    "        return '2016'\n",
    "    elif date < '201809':\n",
    "        return '2017'\n",
    "    elif date < '201909':\n",
    "        return '2018'\n",
    "    "
   ]
  },
  {
   "cell_type": "code",
   "execution_count": 7,
   "metadata": {},
   "outputs": [],
   "source": [
    "teams = set(teams)\n",
    "years = ['2007', '2008', '2009', '2010', '2011', '2012', '2013', '2014', '2015', '2016', '2017', '2018']\n",
    "all_team_data = {}\n",
    "#creating a dictionary with dataframes of average and 5 game data fro all teams\n",
    "for team in teams:\n",
    "    all_team_data[team] = team_df(team)"
   ]
  },
  {
   "cell_type": "code",
   "execution_count": 9,
   "metadata": {},
   "outputs": [],
   "source": [
    "#create giant dataframe with all teams\n",
    "all_team_data_matrix = pd.DataFrame(columns=list(all_team_data.values())[0].columns)\n",
    "for team in all_team_data.values():\n",
    "    all_team_data_matrix= all_team_data_matrix.append(team)"
   ]
  },
  {
   "cell_type": "code",
   "execution_count": 10,
   "metadata": {},
   "outputs": [],
   "source": [
    "#remove duplicate games\n",
    "all_team_data_matrix = all_team_data_matrix[all_team_data_matrix['Home']==1]"
   ]
  },
  {
   "cell_type": "code",
   "execution_count": 11,
   "metadata": {},
   "outputs": [],
   "source": [
    "#select only certain columns\n",
    "home = home[['Team', 'Spread', 'Line', '+/-', '3P', '3P%', '3PA', '3PAr', 'AST', 'BLK', 'Cover', 'DRB', 'Day',\n",
    "       'FG', 'FG%', 'FGA', 'FT', 'FT%', 'FTA', 'FTr', 'Home', 'Losses',\n",
    "        'ORB', 'PF', 'PTS', 'STL', 'Starters MP', 'TOV', 'TS%', 'Wins',\n",
    "        'eFG%',  'Checker']]\n",
    "away = away[['Team', '3P', '3P%', '3PA', '3PAr', 'AST', 'BLK', 'DRB', \n",
    "       'FG', 'FG%', 'FGA', 'FT', 'FT%', 'FTA', 'FTr', 'Losses',\n",
    "        'ORB', 'PF', 'PTS', 'STL', 'Starters MP', 'TOV', 'TS%', 'Wins',\n",
    "        'eFG%',  'Checker']]"
   ]
  },
  {
   "cell_type": "code",
   "execution_count": 12,
   "metadata": {},
   "outputs": [],
   "source": [
    "#rename columns in order to merge\n",
    "away = away.rename(columns = {'Team': 'Opponent', '+/-':'opp  +/-', '3P':'opp 3P', '3PA':'opp 3PA' ,\n",
    "       '3P%':'opp 3P%', 'Starter MP':'opp Starter MP', 'AST':'opp AST', 'BLK':'opp BLK', 'DRB':'opp DRB', 'ORB':'opp ORB', 'FT%':'opp FT%',\n",
    "       'FG':'opp FG', 'FGA':'opp FGA', 'FG%':'opp FG%', 'FT':'opp FT', 'FTA':'opp FTA', '3PAr':'opp 3PAr', 'PTS':'opp PTS', 'PF':'opp PF',\n",
    "       'FTr':'opp FTr', ' PF':'opp PF', ' PTS':'opp PTS', 'STL':'opp STL', 'TOV':'opp TOV', 'TS%':'opp TS%', 'Starters MP':'opp Starters MP',\n",
    "       'eFG%':'opp eFG%', 'Winning Percentage':'oppWinning Percentage', 'TS%': 'opp TS%', 'Wins': 'opp Wins', 'Losses':'opp Losses'})"
   ]
  },
  {
   "cell_type": "code",
   "execution_count": 13,
   "metadata": {},
   "outputs": [],
   "source": [
    "merged = home.merge(away)"
   ]
  },
  {
   "cell_type": "code",
   "execution_count": 16,
   "metadata": {},
   "outputs": [],
   "source": [
    "#see which statistics are most important\n",
    "#columns just for the phi matrix\n",
    "stat_columns = ['Spread', 'Line', '+/-', '3P', '3P%', '3PA', '3PAr', 'AST',\n",
    "       'BLK', 'Cover', 'DRB', 'FG', 'FG%', 'FGA', 'FT', 'FT%', 'FTA', 'FTr',\n",
    "       'Home', 'Losses', 'ORB', 'PF', 'PTS', 'STL', 'Starters MP', 'TOV',\n",
    "       'TS%', 'Wins', 'eFG%']\n",
    "#specific stats to look at\n",
    "statistics = ['3P', '3P%', '3PA', '3PAr', 'AST',\n",
    "       'BLK', 'DRB', 'FG', 'FG%', 'FGA', 'FT', 'FT%', 'FTA', 'FTr',\n",
    "       'Losses', 'ORB', 'PF', 'PTS', 'STL', 'Starters MP', 'TOV',\n",
    "       'TS%', 'Wins', 'eFG%']\n",
    "statistic_importance = pd.DataFrame(columns = stat_columns)\n",
    "statistic_importance[['Spread', 'Line', '+/-', 'Cover']] = merged[['Spread', 'Line', '+/-', 'Cover']]"
   ]
  },
  {
   "cell_type": "code",
   "execution_count": 17,
   "metadata": {},
   "outputs": [],
   "source": [
    "#df for spreads instead of winning\n",
    "statistic_importance2 = statistic_importance.copy()\n",
    "#loop through and determine which team was better in each stat and compare to final score \n",
    "for stat in statistics:\n",
    "    opp = 'opp ' + stat #opponents statistic string \n",
    "    perc = stat + 'percentage' #creates new categories\n",
    "    statistic_importance[perc] = merged[stat] - merged[opp] #for straight victory\n",
    "    statistic_importance2[perc] = merged[stat] - merged[opp] #against the spread\n",
    "    statistic_importance[stat] = statistic_importance['+/-'] * statistic_importance[perc] #determines wehther statistic impacted victory\n",
    "    statistic_importance2[stat] = statistic_importance2['Cover'] * statistic_importance2[perc] #determines wehther statistic impacted spread\n"
   ]
  },
  {
   "cell_type": "code",
   "execution_count": 18,
   "metadata": {},
   "outputs": [
    {
     "name": "stderr",
     "output_type": "stream",
     "text": [
      "/Users/ericweltz/anaconda3/lib/python3.6/site-packages/ipykernel_launcher.py:2: SettingWithCopyWarning: \n",
      "A value is trying to be set on a copy of a slice from a DataFrame.\n",
      "Try using .loc[row_indexer,col_indexer] = value instead\n",
      "\n",
      "See the caveats in the documentation: http://pandas.pydata.org/pandas-docs/stable/indexing.html#indexing-view-versus-copy\n",
      "  \n",
      "/Users/ericweltz/anaconda3/lib/python3.6/site-packages/pandas/core/frame.py:2366: SettingWithCopyWarning: \n",
      "A value is trying to be set on a copy of a slice from a DataFrame\n",
      "\n",
      "See the caveats in the documentation: http://pandas.pydata.org/pandas-docs/stable/indexing.html#indexing-view-versus-copy\n",
      "  self._where(-key, value, inplace=True)\n"
     ]
    }
   ],
   "source": [
    "#create binary values\n",
    "win_importance = statistic_importance[statistics]\n",
    "win_importance[win_importance > 0] = 1\n",
    "win_importance = win_importance.replace(0, np.nan)\n",
    "win_importance = win_importance.clip(lower=0)"
   ]
  },
  {
   "cell_type": "code",
   "execution_count": 19,
   "metadata": {},
   "outputs": [
    {
     "name": "stderr",
     "output_type": "stream",
     "text": [
      "/Users/ericweltz/anaconda3/lib/python3.6/site-packages/ipykernel_launcher.py:2: SettingWithCopyWarning: \n",
      "A value is trying to be set on a copy of a slice from a DataFrame.\n",
      "Try using .loc[row_indexer,col_indexer] = value instead\n",
      "\n",
      "See the caveats in the documentation: http://pandas.pydata.org/pandas-docs/stable/indexing.html#indexing-view-versus-copy\n",
      "  \n",
      "/Users/ericweltz/anaconda3/lib/python3.6/site-packages/pandas/core/frame.py:2366: SettingWithCopyWarning: \n",
      "A value is trying to be set on a copy of a slice from a DataFrame\n",
      "\n",
      "See the caveats in the documentation: http://pandas.pydata.org/pandas-docs/stable/indexing.html#indexing-view-versus-copy\n",
      "  self._where(-key, value, inplace=True)\n"
     ]
    }
   ],
   "source": [
    "#create binary values\n",
    "cover_importance = statistic_importance2[statistics]\n",
    "cover_importance[cover_importance > 0] = 1\n",
    "cover_importance = cover_importance.replace(0, np.nan)\n",
    "cover_importance = cover_importance.clip(lower=0)"
   ]
  },
  {
   "cell_type": "code",
   "execution_count": 20,
   "metadata": {},
   "outputs": [],
   "source": [
    "lst = []\n",
    "lst2 = []\n",
    "cols = ['3P', '3P%', '3PA', '3PAr', 'AST',\n",
    "       'BLK', 'DRB', 'FG', 'FG%', 'FGA', 'FT', 'FT%', 'FTA', 'FTr',\n",
    "       'Losses', 'ORB', 'PF', 'PTS', 'STL', 'Starters MP', 'TOV',\n",
    "       'TS%', 'Wins', 'eFG%']\n",
    "#find how often a statistic mattered \n",
    "for col in cols:\n",
    "    lst.append(win_importance[col].dropna().sum()/len(win_importance[col].dropna()))\n",
    "    lst2.append(cover_importance[col].dropna().sum()/len(cover_importance[col].dropna()))\n",
    "winning_percentages = pd.DataFrame([lst], columns=cols)\n",
    "spread_percentages = pd.DataFrame([lst2], columns=cols)"
   ]
  },
  {
   "cell_type": "code",
   "execution_count": 21,
   "metadata": {},
   "outputs": [
    {
     "data": {
      "text/html": [
       "<div>\n",
       "<style>\n",
       "    .dataframe thead tr:only-child th {\n",
       "        text-align: right;\n",
       "    }\n",
       "\n",
       "    .dataframe thead th {\n",
       "        text-align: left;\n",
       "    }\n",
       "\n",
       "    .dataframe tbody tr th {\n",
       "        vertical-align: top;\n",
       "    }\n",
       "</style>\n",
       "<table border=\"1\" class=\"dataframe\">\n",
       "  <thead>\n",
       "    <tr style=\"text-align: right;\">\n",
       "      <th></th>\n",
       "      <th>3P</th>\n",
       "      <th>3P%</th>\n",
       "      <th>3PA</th>\n",
       "      <th>3PAr</th>\n",
       "      <th>AST</th>\n",
       "      <th>BLK</th>\n",
       "      <th>DRB</th>\n",
       "      <th>FG</th>\n",
       "      <th>FG%</th>\n",
       "      <th>FGA</th>\n",
       "      <th>...</th>\n",
       "      <th>Losses</th>\n",
       "      <th>ORB</th>\n",
       "      <th>PF</th>\n",
       "      <th>PTS</th>\n",
       "      <th>STL</th>\n",
       "      <th>Starters MP</th>\n",
       "      <th>TOV</th>\n",
       "      <th>TS%</th>\n",
       "      <th>Wins</th>\n",
       "      <th>eFG%</th>\n",
       "    </tr>\n",
       "  </thead>\n",
       "  <tbody>\n",
       "    <tr>\n",
       "      <th>0</th>\n",
       "      <td>0.646863</td>\n",
       "      <td>0.68585</td>\n",
       "      <td>0.517271</td>\n",
       "      <td>0.637011</td>\n",
       "      <td>0.715091</td>\n",
       "      <td>0.612496</td>\n",
       "      <td>0.738182</td>\n",
       "      <td>0.775757</td>\n",
       "      <td>0.795544</td>\n",
       "      <td>0.469627</td>\n",
       "      <td>...</td>\n",
       "      <td>0.344292</td>\n",
       "      <td>0.481534</td>\n",
       "      <td>0.413685</td>\n",
       "      <td>0.978951</td>\n",
       "      <td>0.59847</td>\n",
       "      <td>0.519371</td>\n",
       "      <td>0.419034</td>\n",
       "      <td>0.840248</td>\n",
       "      <td>0.654292</td>\n",
       "      <td>0.807753</td>\n",
       "    </tr>\n",
       "  </tbody>\n",
       "</table>\n",
       "<p>1 rows × 24 columns</p>\n",
       "</div>"
      ],
      "text/plain": [
       "         3P      3P%       3PA      3PAr       AST       BLK       DRB  \\\n",
       "0  0.646863  0.68585  0.517271  0.637011  0.715091  0.612496  0.738182   \n",
       "\n",
       "         FG       FG%       FGA    ...       Losses       ORB        PF  \\\n",
       "0  0.775757  0.795544  0.469627    ...     0.344292  0.481534  0.413685   \n",
       "\n",
       "        PTS      STL  Starters MP       TOV       TS%      Wins      eFG%  \n",
       "0  0.978951  0.59847     0.519371  0.419034  0.840248  0.654292  0.807753  \n",
       "\n",
       "[1 rows x 24 columns]"
      ]
     },
     "execution_count": 21,
     "metadata": {},
     "output_type": "execute_result"
    }
   ],
   "source": [
    "winning_percentages"
   ]
  },
  {
   "cell_type": "code",
   "execution_count": 22,
   "metadata": {},
   "outputs": [
    {
     "data": {
      "text/html": [
       "<div>\n",
       "<style>\n",
       "    .dataframe thead tr:only-child th {\n",
       "        text-align: right;\n",
       "    }\n",
       "\n",
       "    .dataframe thead th {\n",
       "        text-align: left;\n",
       "    }\n",
       "\n",
       "    .dataframe tbody tr th {\n",
       "        vertical-align: top;\n",
       "    }\n",
       "</style>\n",
       "<table border=\"1\" class=\"dataframe\">\n",
       "  <thead>\n",
       "    <tr style=\"text-align: right;\">\n",
       "      <th></th>\n",
       "      <th>3P</th>\n",
       "      <th>3P%</th>\n",
       "      <th>3PA</th>\n",
       "      <th>3PAr</th>\n",
       "      <th>AST</th>\n",
       "      <th>BLK</th>\n",
       "      <th>DRB</th>\n",
       "      <th>FG</th>\n",
       "      <th>FG%</th>\n",
       "      <th>FGA</th>\n",
       "      <th>...</th>\n",
       "      <th>Losses</th>\n",
       "      <th>ORB</th>\n",
       "      <th>PF</th>\n",
       "      <th>PTS</th>\n",
       "      <th>STL</th>\n",
       "      <th>Starters MP</th>\n",
       "      <th>TOV</th>\n",
       "      <th>TS%</th>\n",
       "      <th>Wins</th>\n",
       "      <th>eFG%</th>\n",
       "    </tr>\n",
       "  </thead>\n",
       "  <tbody>\n",
       "    <tr>\n",
       "      <th>0</th>\n",
       "      <td>0.63856</td>\n",
       "      <td>0.683024</td>\n",
       "      <td>0.508481</td>\n",
       "      <td>0.624436</td>\n",
       "      <td>0.674568</td>\n",
       "      <td>0.558615</td>\n",
       "      <td>0.694251</td>\n",
       "      <td>0.753674</td>\n",
       "      <td>0.743058</td>\n",
       "      <td>0.504289</td>\n",
       "      <td>...</td>\n",
       "      <td>0.49813</td>\n",
       "      <td>0.48693</td>\n",
       "      <td>0.491816</td>\n",
       "      <td>0.804499</td>\n",
       "      <td>0.580391</td>\n",
       "      <td>0.510638</td>\n",
       "      <td>0.440387</td>\n",
       "      <td>0.763215</td>\n",
       "      <td>0.499456</td>\n",
       "      <td>0.756898</td>\n",
       "    </tr>\n",
       "  </tbody>\n",
       "</table>\n",
       "<p>1 rows × 24 columns</p>\n",
       "</div>"
      ],
      "text/plain": [
       "        3P       3P%       3PA      3PAr       AST       BLK       DRB  \\\n",
       "0  0.63856  0.683024  0.508481  0.624436  0.674568  0.558615  0.694251   \n",
       "\n",
       "         FG       FG%       FGA    ...      Losses      ORB        PF  \\\n",
       "0  0.753674  0.743058  0.504289    ...     0.49813  0.48693  0.491816   \n",
       "\n",
       "        PTS       STL  Starters MP       TOV       TS%      Wins      eFG%  \n",
       "0  0.804499  0.580391     0.510638  0.440387  0.763215  0.499456  0.756898  \n",
       "\n",
       "[1 rows x 24 columns]"
      ]
     },
     "execution_count": 22,
     "metadata": {},
     "output_type": "execute_result"
    }
   ],
   "source": [
    "spread_percentages"
   ]
  },
  {
   "cell_type": "code",
   "execution_count": 23,
   "metadata": {},
   "outputs": [
    {
     "data": {
      "image/png": "[encoded data removed]",
      "text/plain": [
       "<Figure size 1080x576 with 1 Axes>"
      ]
     },
     "metadata": {},
     "output_type": "display_data"
    }
   ],
   "source": [
    "import matplotlib.pyplot as plt\n",
    "ax = winning_percentages.transpose().sort_values(by=0, ascending=False).plot.bar(color='orange', alpha=.6, width=.8, figsize=(15,8))\n",
    "ax.set_title(\"Higher Statistic vs Winning Percentage\", fontsize=20)\n",
    "ax.set_ylabel('Winning Percentage')\n",
    "ax.legend().set_visible(False)\n",
    "\n",
    "plt.show()"
   ]
  },
  {
   "cell_type": "code",
   "execution_count": 24,
   "metadata": {},
   "outputs": [
    {
     "data": {
      "image/png": "[encoded data removed]",
      "text/plain": [
       "<Figure size 1080x576 with 1 Axes>"
      ]
     },
     "metadata": {},
     "output_type": "display_data"
    }
   ],
   "source": [
    "ax = spread_percentages.transpose().sort_values(by=0, ascending=False).plot.bar(color='green', alpha=.6, width=.8, figsize=(15,8))\n",
    "ax.set_title(\"Higher Statistic vs Spread Coverage Percent\", fontsize=20)\n",
    "ax.set_ylabel('Winning Percentage')\n",
    "ax.set_ylim([0,1])\n",
    "ax.legend().set_visible(False)\n",
    "\n",
    "plt.show()"
   ]
  },
  {
   "cell_type": "code",
   "execution_count": 25,
   "metadata": {},
   "outputs": [
    {
     "data": {
      "text/plain": [
       "Index(['Team', 'Spread', 'Line', '+/-', '3P', '3P%', '3PA', '3PAr', 'AST',\n",
       "       'BLK', 'Cover', 'DRB', 'Day', 'FG', 'FG%', 'FGA', 'FT', 'FT%', 'FTA',\n",
       "       'FTr', 'Home', 'Losses', 'ORB', 'PF', 'PTS', 'STL', 'Starters MP',\n",
       "       'TOV', 'TS%', 'Wins', 'eFG%', 'Checker', 'Opponent', 'opp 3P',\n",
       "       'opp 3P%', 'opp 3PA', 'opp 3PAr', 'opp AST', 'opp BLK', 'opp DRB',\n",
       "       'opp FG', 'opp FG%', 'opp FGA', 'opp FT', 'opp FT%', 'opp FTA',\n",
       "       'opp FTr', 'opp Losses', 'opp ORB', 'opp PF', 'opp PTS', 'opp STL',\n",
       "       'opp Starters MP', 'opp TOV', 'opp TS%', 'opp Wins', 'opp eFG%'],\n",
       "      dtype='object')"
      ]
     },
     "execution_count": 25,
     "metadata": {},
     "output_type": "execute_result"
    }
   ],
   "source": [
    "merged.columns"
   ]
  },
  {
   "cell_type": "code",
   "execution_count": 26,
   "metadata": {},
   "outputs": [],
   "source": [
    "#create data frames just for philadelphia games\n",
    "phi = merged[merged['Team']=='Philadelphia']\n",
    "phi_away = merged[merged['Opponent']=='Philadelphia']"
   ]
  },
  {
   "cell_type": "code",
   "execution_count": 27,
   "metadata": {
    "collapsed": true
   },
   "outputs": [],
   "source": [
    "#see which statistics are most important\n",
    "#columns for the matrix \n",
    "stat_columns = ['Spread', 'Line', '+/-', '3P', '3P%', '3PA', '3PAr', 'AST',\n",
    "       'BLK', 'Cover', 'DRB', 'FG', 'FG%', 'FGA', 'FT', 'FT%', 'FTA', 'FTr',\n",
    "       'Home', 'Losses', 'ORB', 'PF', 'PTS', 'STL', 'Starters MP', 'TOV',\n",
    "       'TS%', 'Wins', 'eFG%']\n",
    "statistics = ['3P', '3P%', '3PA', '3PAr', 'AST',\n",
    "       'BLK', 'DRB', 'FG', 'FG%', 'FGA', 'FT', 'FT%', 'FTA', 'FTr',\n",
    "       'Losses', 'ORB', 'PF', 'PTS', 'STL', 'Starters MP', 'TOV',\n",
    "       'TS%', 'Wins', 'eFG%']\n",
    "statistic_importanceh = pd.DataFrame(columns = stat_columns)\n",
    "statistic_importance2h = pd.DataFrame(columns = stat_columns)\n",
    "statistic_importanceh[['Spread', 'Line', '+/-', 'Cover']] = phi[['Spread', 'Line', '+/-', 'Cover']]\n",
    "statistic_importance2h[['Spread', 'Line', '+/-', 'Cover']] = phi[['Spread', 'Line', '+/-', 'Cover']]"
   ]
  },
  {
   "cell_type": "code",
   "execution_count": 28,
   "metadata": {},
   "outputs": [],
   "source": [
    "statistic_importancea = statistic_importanceh.copy()\n",
    "statistic_importance2a = statistic_importancea.copy()\n",
    "for stat in statistics:\n",
    "    opp = 'opp ' + stat\n",
    "    perc = stat + 'percentage'\n",
    "    #home data\n",
    "    statistic_importanceh[perc] = phi[stat] - phi[opp]\n",
    "    statistic_importance2h[perc] = phi[stat] - phi[opp]\n",
    "    statistic_importanceh[stat] = statistic_importanceh['+/-'] * statistic_importanceh[perc]\n",
    "    statistic_importance2h[stat] = statistic_importance2h['Cover'] * statistic_importance2h[perc]\n",
    "    #away data\n",
    "    statistic_importancea[perc] =   phi_away[opp] - phi_away[stat]\n",
    "    statistic_importance2a[perc] =  phi_away[opp] - phi_away[stat] \n",
    "    statistic_importancea[stat] = statistic_importancea['+/-'] * statistic_importancea[perc]\n",
    "    statistic_importance2a[stat] = statistic_importance2a['Cover'] * statistic_importance2a[perc]\n",
    "    statistic_importance = statistic_importanceh.append(statistic_importancea)\n",
    "    statistic_importance2 = statistic_importance2h.append(statistic_importance2a)"
   ]
  },
  {
   "cell_type": "code",
   "execution_count": 29,
   "metadata": {},
   "outputs": [
    {
     "name": "stderr",
     "output_type": "stream",
     "text": [
      "/Users/ericweltz/anaconda3/lib/python3.6/site-packages/ipykernel_launcher.py:2: SettingWithCopyWarning: \n",
      "A value is trying to be set on a copy of a slice from a DataFrame.\n",
      "Try using .loc[row_indexer,col_indexer] = value instead\n",
      "\n",
      "See the caveats in the documentation: http://pandas.pydata.org/pandas-docs/stable/indexing.html#indexing-view-versus-copy\n",
      "  \n",
      "/Users/ericweltz/anaconda3/lib/python3.6/site-packages/pandas/core/frame.py:2366: SettingWithCopyWarning: \n",
      "A value is trying to be set on a copy of a slice from a DataFrame\n",
      "\n",
      "See the caveats in the documentation: http://pandas.pydata.org/pandas-docs/stable/indexing.html#indexing-view-versus-copy\n",
      "  self._where(-key, value, inplace=True)\n"
     ]
    }
   ],
   "source": [
    "#create binary values\n",
    "win_importance = statistic_importance[statistics]\n",
    "win_importance[win_importance > 0] = 1\n",
    "win_importance = win_importance.replace(0, np.nan)\n",
    "win_importance = win_importance.clip(lower=0)"
   ]
  },
  {
   "cell_type": "code",
   "execution_count": 30,
   "metadata": {},
   "outputs": [
    {
     "name": "stderr",
     "output_type": "stream",
     "text": [
      "/Users/ericweltz/anaconda3/lib/python3.6/site-packages/ipykernel_launcher.py:2: SettingWithCopyWarning: \n",
      "A value is trying to be set on a copy of a slice from a DataFrame.\n",
      "Try using .loc[row_indexer,col_indexer] = value instead\n",
      "\n",
      "See the caveats in the documentation: http://pandas.pydata.org/pandas-docs/stable/indexing.html#indexing-view-versus-copy\n",
      "  \n",
      "/Users/ericweltz/anaconda3/lib/python3.6/site-packages/pandas/core/frame.py:2366: SettingWithCopyWarning: \n",
      "A value is trying to be set on a copy of a slice from a DataFrame\n",
      "\n",
      "See the caveats in the documentation: http://pandas.pydata.org/pandas-docs/stable/indexing.html#indexing-view-versus-copy\n",
      "  self._where(-key, value, inplace=True)\n"
     ]
    }
   ],
   "source": [
    "#create binary values\n",
    "cover_importance = statistic_importance2[statistics]\n",
    "cover_importance[cover_importance > 0] = 1\n",
    "cover_importance = cover_importance.replace(0, np.nan)\n",
    "cover_importance = cover_importance.clip(lower=0)"
   ]
  },
  {
   "cell_type": "code",
   "execution_count": 31,
   "metadata": {
    "collapsed": true
   },
   "outputs": [],
   "source": [
    "lst = []\n",
    "lst2 = []\n",
    "cols = ['3P', '3P%', '3PA', '3PAr', 'AST',\n",
    "       'BLK', 'DRB', 'FG', 'FG%', 'FGA', 'FT', 'FT%', 'FTA', 'FTr',\n",
    "       'Losses', 'ORB', 'PF', 'PTS', 'STL', 'Starters MP', 'TOV',\n",
    "       'TS%', 'Wins', 'eFG%']\n",
    "#find importance percentages\n",
    "for col in cols:\n",
    "    lst.append(win_importance[col].dropna().sum()/len(win_importance[col].dropna()))\n",
    "    lst2.append(cover_importance[col].dropna().sum()/len(cover_importance[col].dropna()))\n",
    "phi_percentages = pd.DataFrame([lst], columns=cols)\n",
    "phi_spread_percentages = pd.DataFrame([lst2], columns=cols)"
   ]
  },
  {
   "cell_type": "code",
   "execution_count": 37,
   "metadata": {},
   "outputs": [
    {
     "data": {
      "image/png": "[encoded data removed]",
      "text/plain": [
       "<Figure size 1080x576 with 1 Axes>"
      ]
     },
     "metadata": {},
     "output_type": "display_data"
    }
   ],
   "source": [
    "ax = phi_percentages.transpose().sort_values(by=0, ascending=False).plot.bar(color='orange', alpha=.6, width=.8, figsize=(15,8))\n",
    "ax.set_title(\"Philadelphia Various Statistics vs Winning Percentage\", fontsize=20)\n",
    "ax.set_ylabel('Winning Percentage')\n",
    "ax.legend().set_visible(False)\n",
    "\n",
    "plt.show()"
   ]
  },
  {
   "cell_type": "code",
   "execution_count": 36,
   "metadata": {},
   "outputs": [
    {
     "data": {
      "image/png": "[encoded data removed]",
      "text/plain": [
       "<Figure size 1080x576 with 1 Axes>"
      ]
     },
     "metadata": {},
     "output_type": "display_data"
    }
   ],
   "source": [
    "ax = phi_spread_percentages.transpose().sort_values(by=0, ascending=False).plot.bar(color='green', alpha=.6, width=.8, figsize=(15,8))\n",
    "ax.set_title(\"Philadelphia Various Statistics vs Spread Coverage Percent\", fontsize=20)\n",
    "ax.set_ylabel('Winning Percentage')\n",
    "ax.set_ylim([0,1])\n",
    "ax.legend().set_visible(False)\n",
    "\n",
    "plt.show()"
   ]
  },
  {
   "cell_type": "code",
   "execution_count": 34,
   "metadata": {},
   "outputs": [],
   "source": [
    "#load the percentage of times each team covered the spread into a series\n",
    "ats = dict()\n",
    "teams = list(set(all_team_data_matrix['Team'].tolist()))\n",
    "for team in teams:\n",
    "    df = team_df(team)\n",
    "    ats[team] = df['ATS'].sum()/len(df['ATS'])\n",
    "cover = pd.Series(ats)"
   ]
  },
  {
   "cell_type": "code",
   "execution_count": 35,
   "metadata": {},
   "outputs": [
    {
     "data": {
      "image/png": "[encoded data removed]",
      "text/plain": [
       "<Figure size 1080x576 with 1 Axes>"
      ]
     },
     "metadata": {},
     "output_type": "display_data"
    }
   ],
   "source": [
    "ax = cover.sort_values(ascending=False).plot.bar(color='green', alpha=.6, width=.8, figsize=(15,8))\n",
    "ax.set_title(\"Teams Coverage Percent Since 2008\", fontsize=20)\n",
    "ax.set_ylabel('Coverage Percentage')\n",
    "ax.set_ylim([0,1])\n",
    "ax.legend().set_visible(False)\n",
    "\n",
    "plt.show()"
   ]
  },
  {
   "cell_type": "code",
   "execution_count": 63,
   "metadata": {},
   "outputs": [],
   "source": [
    "#find a matrix for the major basketball indicators - shooting, turnovers, rebounding, and free throw shooting \n",
    "core_four = merged[['eFG%', 'ORB', 'DRB', 'TOV', 'FTr', 'opp eFG%', 'opp ORB', 'opp DRB', 'opp TOV', 'opp FTr']]"
   ]
  },
  {
   "cell_type": "code",
   "execution_count": 81,
   "metadata": {},
   "outputs": [],
   "source": [
    "#normalize the data\n",
    "norm =(core_four- core_four.mean())/core_four.std()\n",
    "norm['TOV'] = - norm['TOV']\n",
    "norm['opp TOV'] = - norm['opp TOV']\n",
    "norm['+/-'] = merged['+/-']\n",
    "norm['Cover'] = merged['Cover']"
   ]
  },
  {
   "cell_type": "code",
   "execution_count": 82,
   "metadata": {},
   "outputs": [],
   "source": [
    "norm['Four Factors'] = .4 * norm['eFG%'] + .1 * norm['ORB'] + .1 *norm['DRB'] + .25 * norm['TOV'] + .15 * norm['FTr']\n",
    "norm['opp Four Factors'] = .4 * norm['opp eFG%'] + .1 * norm['opp ORB'] + .1 *norm['opp DRB'] + .25 * norm['opp TOV'] + .15 * norm['opp FTr']"
   ]
  },
  {
   "cell_type": "code",
   "execution_count": 83,
   "metadata": {
    "collapsed": true
   },
   "outputs": [],
   "source": [
    "def pos(x):\n",
    "    if(x>0):\n",
    "        return(1)\n",
    "    else:\n",
    "        return(0)"
   ]
  },
  {
   "cell_type": "code",
   "execution_count": 84,
   "metadata": {},
   "outputs": [],
   "source": [
    "# get values for straight wins and ats based on 4 factors\n",
    "norm['Compare'] = norm['Four Factors'] - norm['opp Four Factors']\n",
    "norm['Result'] = (norm['Compare'] * norm['+/-']).apply(pos)\n",
    "norm['Spread Result'] = (norm['Compare'] * norm['Cover']).apply(pos)"
   ]
  },
  {
   "cell_type": "code",
   "execution_count": 85,
   "metadata": {},
   "outputs": [
    {
     "data": {
      "text/plain": [
       "0.909241265247054"
      ]
     },
     "execution_count": 85,
     "metadata": {},
     "output_type": "execute_result"
    }
   ],
   "source": [
    "norm['Result'].sum()/len(norm)"
   ]
  },
  {
   "cell_type": "code",
   "execution_count": 86,
   "metadata": {},
   "outputs": [
    {
     "data": {
      "text/plain": [
       "0.7983598649300531"
      ]
     },
     "execution_count": 86,
     "metadata": {},
     "output_type": "execute_result"
    }
   ],
   "source": [
    "norm['Spread Result'].sum()/len(norm)"
   ]
  },
  {
   "cell_type": "code",
   "execution_count": null,
   "metadata": {
    "collapsed": true
   },
   "outputs": [],
   "source": []
  }
 ],
 "metadata": {
  "kernelspec": {
   "display_name": "Python 3",
   "language": "python",
   "name": "python3"
  },
  "language_info": {
   "codemirror_mode": {
    "name": "ipython",
    "version": 3
   },
   "file_extension": ".py",
   "mimetype": "text/x-python",
   "name": "python",
   "nbconvert_exporter": "python",
   "pygments_lexer": "ipython3",
   "version": "3.6.8"
  }
 },
 "nbformat": 4,
 "nbformat_minor": 2
}
